{
 "cells": [
  {
   "cell_type": "code",
   "execution_count": 6,
   "metadata": {},
   "outputs": [
    {
     "name": "stderr",
     "output_type": "stream",
     "text": [
      "[nltk_data] Downloading package stopwords to\n",
      "[nltk_data]     /Users/hungryfoolish/nltk_data...\n",
      "[nltk_data]   Unzipping corpora/stopwords.zip.\n",
      "[nltk_data] Downloading package wordnet to\n",
      "[nltk_data]     /Users/hungryfoolish/nltk_data...\n"
     ]
    }
   ],
   "source": [
    "import spacy\n",
    "from spacy.pipeline import EntityRuler\n",
    "from spacy.lang.en import English\n",
    "from spacy.tokens import Doc\n",
    "\n",
    "import gensim\n",
    "from gensim import corpora\n",
    "\n",
    "from spacy import displacy\n",
    "import pyLDAvis.gensim_models\n",
    "from wordcloud import WordCloud\n",
    "import plotly.express as px\n",
    "import matplotlib.pyplot as plt\n",
    "\n",
    "import pandas as pd\n",
    "import numpy as np\n",
    "import jsonlines\n",
    "\n",
    "import re\n",
    "import nltk\n",
    "from nltk.corpus import stopwords\n",
    "from nltk.stem import WordNetLemmatizer\n",
    "nltk.download(['stopwords', 'wordnet'])\n",
    "\n",
    "import warnings\n",
    "warnings.filterwarnings('ignore')"
   ]
  },
  {
   "cell_type": "code",
   "execution_count": 9,
   "metadata": {},
   "outputs": [
    {
     "data": {
      "text/html": [
       "<div>\n",
       "<style scoped>\n",
       "    .dataframe tbody tr th:only-of-type {\n",
       "        vertical-align: middle;\n",
       "    }\n",
       "\n",
       "    .dataframe tbody tr th {\n",
       "        vertical-align: top;\n",
       "    }\n",
       "\n",
       "    .dataframe thead th {\n",
       "        text-align: right;\n",
       "    }\n",
       "</style>\n",
       "<table border=\"1\" class=\"dataframe\">\n",
       "  <thead>\n",
       "    <tr style=\"text-align: right;\">\n",
       "      <th></th>\n",
       "      <th>ID</th>\n",
       "      <th>Resume_str</th>\n",
       "      <th>Resume_html</th>\n",
       "      <th>Category</th>\n",
       "    </tr>\n",
       "  </thead>\n",
       "  <tbody>\n",
       "    <tr>\n",
       "      <th>1893</th>\n",
       "      <td>10674770</td>\n",
       "      <td>STAFF ACCOUNTANT           Summary   ...</td>\n",
       "      <td>&lt;div class=\"fontsize fontface vmargins hmargin...</td>\n",
       "      <td>ACCOUNTANT</td>\n",
       "    </tr>\n",
       "    <tr>\n",
       "      <th>2214</th>\n",
       "      <td>11842348</td>\n",
       "      <td>SVP, REGIONAL SALES DIRECTOR WEALTH M...</td>\n",
       "      <td>&lt;div class=\"fontsize fontface vmargins hmargin...</td>\n",
       "      <td>BANKING</td>\n",
       "    </tr>\n",
       "    <tr>\n",
       "      <th>1704</th>\n",
       "      <td>43752620</td>\n",
       "      <td>ENGINEERING INTERN       Summary    A...</td>\n",
       "      <td>&lt;div class=\"fontsize fontface vmargins hmargin...</td>\n",
       "      <td>ENGINEERING</td>\n",
       "    </tr>\n",
       "    <tr>\n",
       "      <th>200</th>\n",
       "      <td>21916744</td>\n",
       "      <td>FREELANCE GRAPHIC DESIGNER         Hi...</td>\n",
       "      <td>&lt;div class=\"fontsize fontface vmargins hmargin...</td>\n",
       "      <td>DESIGNER</td>\n",
       "    </tr>\n",
       "    <tr>\n",
       "      <th>259</th>\n",
       "      <td>17641670</td>\n",
       "      <td>INFORMATION TECHNOLOGY SPECIALIST    ...</td>\n",
       "      <td>&lt;div class=\"fontsize fontface vmargins hmargin...</td>\n",
       "      <td>INFORMATION-TECHNOLOGY</td>\n",
       "    </tr>\n",
       "  </tbody>\n",
       "</table>\n",
       "</div>"
      ],
      "text/plain": [
       "            ID                                         Resume_str  \\\n",
       "1893  10674770           STAFF ACCOUNTANT           Summary   ...   \n",
       "2214  11842348           SVP, REGIONAL SALES DIRECTOR WEALTH M...   \n",
       "1704  43752620           ENGINEERING INTERN       Summary    A...   \n",
       "200   21916744           FREELANCE GRAPHIC DESIGNER         Hi...   \n",
       "259   17641670           INFORMATION TECHNOLOGY SPECIALIST    ...   \n",
       "\n",
       "                                            Resume_html  \\\n",
       "1893  <div class=\"fontsize fontface vmargins hmargin...   \n",
       "2214  <div class=\"fontsize fontface vmargins hmargin...   \n",
       "1704  <div class=\"fontsize fontface vmargins hmargin...   \n",
       "200   <div class=\"fontsize fontface vmargins hmargin...   \n",
       "259   <div class=\"fontsize fontface vmargins hmargin...   \n",
       "\n",
       "                    Category  \n",
       "1893              ACCOUNTANT  \n",
       "2214                 BANKING  \n",
       "1704             ENGINEERING  \n",
       "200                 DESIGNER  \n",
       "259   INFORMATION-TECHNOLOGY  "
      ]
     },
     "execution_count": 9,
     "metadata": {},
     "output_type": "execute_result"
    }
   ],
   "source": [
    "df = pd.read_csv(\"./archive/Resume/Resume.csv\")\n",
    "df = df.reindex(np.random.permutation(df.index))\n",
    "data = df.copy().iloc[0:200,]\n",
    "data.head()"
   ]
  },
  {
   "cell_type": "code",
   "execution_count": 11,
   "metadata": {},
   "outputs": [],
   "source": [
    "nlp = spacy.load(\"en_core_web_sm\")\n",
    "skill_pattern_path = 'jz_skill_patterns.jsonl'\n"
   ]
  },
  {
   "cell_type": "code",
   "execution_count": 12,
   "metadata": {},
   "outputs": [
    {
     "data": {
      "text/plain": [
       "['tok2vec',\n",
       " 'tagger',\n",
       " 'parser',\n",
       " 'attribute_ruler',\n",
       " 'lemmatizer',\n",
       " 'ner',\n",
       " 'entity_ruler']"
      ]
     },
     "execution_count": 12,
     "metadata": {},
     "output_type": "execute_result"
    }
   ],
   "source": [
    "ruler = nlp.add_pipe(\"entity_ruler\")\n",
    "ruler.from_disk(skill_pattern_path)\n",
    "nlp.pipe_names"
   ]
  },
  {
   "cell_type": "code",
   "execution_count": 13,
   "metadata": {},
   "outputs": [],
   "source": [
    "def get_skills(text):\n",
    "    doc = nlp(text)\n",
    "    subset = []\n",
    "    for ent in doc.ents:\n",
    "        if ent.label_ == \"SKILL\":\n",
    "            subset.append(ent.text)\n",
    "    return subset\n",
    "\n",
    "def unique_skills(x):\n",
    "    return list(set(x))"
   ]
  },
  {
   "cell_type": "code",
   "execution_count": 22,
   "metadata": {},
   "outputs": [],
   "source": [
    "clean = []\n",
    "for i in range(data.shape[0]):\n",
    "    \"Removes @something, links, non-alphabetic words \"\n",
    "    review = re.sub(\n",
    "        '(@[A-Za-z0-9]+)|([^0-9A-Za-z \\t])|(\\w+:\\/\\/\\S+)|^rt|http.+?\"',\n",
    "        \" \",\n",
    "        data[\"Resume_str\"].iloc[i],\n",
    "    )\n",
    "    review = review.lower()\n",
    "    review = review.split()\n",
    "    lm = WordNetLemmatizer()\n",
    "    \"Remove stop words\"\n",
    "    review = [\n",
    "        lm.lemmatize(word)\n",
    "        for word in review\n",
    "        if not word in set(stopwords.words(\"english\"))\n",
    "    ]\n",
    "    review = \" \".join(review)\n",
    "    clean.append(review)"
   ]
  },
  {
   "cell_type": "code",
   "execution_count": 23,
   "metadata": {},
   "outputs": [
    {
     "data": {
      "text/plain": [
       "200"
      ]
     },
     "execution_count": 23,
     "metadata": {},
     "output_type": "execute_result"
    }
   ],
   "source": [
    "len(clean)"
   ]
  },
  {
   "cell_type": "code",
   "execution_count": 24,
   "metadata": {},
   "outputs": [],
   "source": [
    "data[\"Clean_Resume\"] = clean\n",
    "data[\"skills\"] = data[\"Clean_Resume\"].str.lower().apply(get_skills)"
   ]
  },
  {
   "cell_type": "code",
   "execution_count": 26,
   "metadata": {},
   "outputs": [
    {
     "data": {
      "text/plain": [
       "1893    [accounting, accounting, software, software, s...\n",
       "2214    [business, business, business, business, busin...\n",
       "1704    [engineering, fortran, technological change, d...\n",
       "200     [design, software, software, design, design, m...\n",
       "259     [design, security, support, project management...\n",
       "                              ...                        \n",
       "1776    [engineering, material, sketch, diagram, engin...\n",
       "935     [schedule, monitoring, computer program, monit...\n",
       "796                                             [finance]\n",
       "1541    [finance, finance, finance, analytics, account...\n",
       "1112    [marketing, advertising, marketing, business, ...\n",
       "Name: skills, Length: 200, dtype: object"
      ]
     },
     "execution_count": 26,
     "metadata": {},
     "output_type": "execute_result"
    }
   ],
   "source": [
    "data.skills"
   ]
  },
  {
   "cell_type": "code",
   "execution_count": 28,
   "metadata": {},
   "outputs": [
    {
     "data": {
      "application/vnd.plotly.v1+json": {
       "config": {
        "plotlyServerURL": "https://plot.ly"
       },
       "data": [
        {
         "alignmentgroup": "True",
         "bingroup": "x",
         "hovertemplate": "Category=%{x}<br>count=%{y}<extra></extra>",
         "legendgroup": "",
         "marker": {
          "color": "#636efa",
          "pattern": {
           "shape": ""
          }
         },
         "name": "",
         "offsetgroup": "",
         "orientation": "v",
         "showlegend": false,
         "type": "histogram",
         "x": [
          "ACCOUNTANT",
          "BANKING",
          "ENGINEERING",
          "DESIGNER",
          "INFORMATION-TECHNOLOGY",
          "FITNESS",
          "FINANCE",
          "INFORMATION-TECHNOLOGY",
          "BUSINESS-DEVELOPMENT",
          "FINANCE",
          "FINANCE",
          "SALES",
          "CONSULTANT",
          "ACCOUNTANT",
          "INFORMATION-TECHNOLOGY",
          "AGRICULTURE",
          "AVIATION",
          "INFORMATION-TECHNOLOGY",
          "APPAREL",
          "AGRICULTURE",
          "ACCOUNTANT",
          "SALES",
          "CONSULTANT",
          "ENGINEERING",
          "HR",
          "ARTS",
          "HEALTHCARE",
          "BANKING",
          "ENGINEERING",
          "APPAREL",
          "BANKING",
          "AVIATION",
          "ACCOUNTANT",
          "PUBLIC-RELATIONS",
          "BPO",
          "AVIATION",
          "SALES",
          "ARTS",
          "BPO",
          "HEALTHCARE",
          "HEALTHCARE",
          "DIGITAL-MEDIA",
          "FITNESS",
          "ARTS",
          "INFORMATION-TECHNOLOGY",
          "DESIGNER",
          "BANKING",
          "HEALTHCARE",
          "FITNESS",
          "CHEF",
          "FITNESS",
          "DIGITAL-MEDIA",
          "PUBLIC-RELATIONS",
          "DIGITAL-MEDIA",
          "SALES",
          "ARTS",
          "FINANCE",
          "HEALTHCARE",
          "ENGINEERING",
          "DESIGNER",
          "BUSINESS-DEVELOPMENT",
          "PUBLIC-RELATIONS",
          "ARTS",
          "APPAREL",
          "ARTS",
          "APPAREL",
          "APPAREL",
          "CONSULTANT",
          "AVIATION",
          "BUSINESS-DEVELOPMENT",
          "BUSINESS-DEVELOPMENT",
          "BUSINESS-DEVELOPMENT",
          "SALES",
          "FINANCE",
          "FINANCE",
          "CONSTRUCTION",
          "CONSTRUCTION",
          "ENGINEERING",
          "CHEF",
          "FITNESS",
          "ARTS",
          "BANKING",
          "BUSINESS-DEVELOPMENT",
          "FINANCE",
          "HEALTHCARE",
          "ACCOUNTANT",
          "ENGINEERING",
          "APPAREL",
          "SALES",
          "CHEF",
          "HR",
          "CHEF",
          "ADVOCATE",
          "HEALTHCARE",
          "CHEF",
          "BUSINESS-DEVELOPMENT",
          "ACCOUNTANT",
          "ADVOCATE",
          "HR",
          "ACCOUNTANT",
          "ACCOUNTANT",
          "BANKING",
          "DESIGNER",
          "FITNESS",
          "DESIGNER",
          "ACCOUNTANT",
          "APPAREL",
          "DIGITAL-MEDIA",
          "BUSINESS-DEVELOPMENT",
          "HEALTHCARE",
          "CHEF",
          "CONSULTANT",
          "AVIATION",
          "SALES",
          "PUBLIC-RELATIONS",
          "BUSINESS-DEVELOPMENT",
          "BUSINESS-DEVELOPMENT",
          "ADVOCATE",
          "DESIGNER",
          "CHEF",
          "BUSINESS-DEVELOPMENT",
          "TEACHER",
          "ENGINEERING",
          "ACCOUNTANT",
          "CHEF",
          "AVIATION",
          "CONSULTANT",
          "SALES",
          "BANKING",
          "INFORMATION-TECHNOLOGY",
          "FINANCE",
          "CONSULTANT",
          "ADVOCATE",
          "AGRICULTURE",
          "FINANCE",
          "CONSULTANT",
          "BUSINESS-DEVELOPMENT",
          "DESIGNER",
          "AUTOMOBILE",
          "HEALTHCARE",
          "SALES",
          "DESIGNER",
          "SALES",
          "AGRICULTURE",
          "ADVOCATE",
          "HEALTHCARE",
          "AGRICULTURE",
          "HEALTHCARE",
          "CHEF",
          "PUBLIC-RELATIONS",
          "ACCOUNTANT",
          "HR",
          "PUBLIC-RELATIONS",
          "ENGINEERING",
          "CHEF",
          "INFORMATION-TECHNOLOGY",
          "CHEF",
          "ARTS",
          "CONSTRUCTION",
          "SALES",
          "ACCOUNTANT",
          "INFORMATION-TECHNOLOGY",
          "BUSINESS-DEVELOPMENT",
          "PUBLIC-RELATIONS",
          "FITNESS",
          "PUBLIC-RELATIONS",
          "HEALTHCARE",
          "FINANCE",
          "BUSINESS-DEVELOPMENT",
          "CONSULTANT",
          "DIGITAL-MEDIA",
          "TEACHER",
          "ARTS",
          "ADVOCATE",
          "ENGINEERING",
          "DESIGNER",
          "HEALTHCARE",
          "CONSULTANT",
          "APPAREL",
          "BUSINESS-DEVELOPMENT",
          "BUSINESS-DEVELOPMENT",
          "ENGINEERING",
          "BANKING",
          "HR",
          "HR",
          "TEACHER",
          "TEACHER",
          "TEACHER",
          "BANKING",
          "SALES",
          "DESIGNER",
          "HR",
          "FINANCE",
          "HEALTHCARE",
          "AGRICULTURE",
          "ENGINEERING",
          "AGRICULTURE",
          "FITNESS",
          "FINANCE",
          "CONSULTANT"
         ],
         "xaxis": "x",
         "yaxis": "y"
        }
       ],
       "layout": {
        "barmode": "relative",
        "legend": {
         "tracegroupgap": 0
        },
        "template": {
         "data": {
          "bar": [
           {
            "error_x": {
             "color": "#2a3f5f"
            },
            "error_y": {
             "color": "#2a3f5f"
            },
            "marker": {
             "line": {
              "color": "#E5ECF6",
              "width": 0.5
             },
             "pattern": {
              "fillmode": "overlay",
              "size": 10,
              "solidity": 0.2
             }
            },
            "type": "bar"
           }
          ],
          "barpolar": [
           {
            "marker": {
             "line": {
              "color": "#E5ECF6",
              "width": 0.5
             },
             "pattern": {
              "fillmode": "overlay",
              "size": 10,
              "solidity": 0.2
             }
            },
            "type": "barpolar"
           }
          ],
          "carpet": [
           {
            "aaxis": {
             "endlinecolor": "#2a3f5f",
             "gridcolor": "white",
             "linecolor": "white",
             "minorgridcolor": "white",
             "startlinecolor": "#2a3f5f"
            },
            "baxis": {
             "endlinecolor": "#2a3f5f",
             "gridcolor": "white",
             "linecolor": "white",
             "minorgridcolor": "white",
             "startlinecolor": "#2a3f5f"
            },
            "type": "carpet"
           }
          ],
          "choropleth": [
           {
            "colorbar": {
             "outlinewidth": 0,
             "ticks": ""
            },
            "type": "choropleth"
           }
          ],
          "contour": [
           {
            "colorbar": {
             "outlinewidth": 0,
             "ticks": ""
            },
            "colorscale": [
             [
              0,
              "#0d0887"
             ],
             [
              0.1111111111111111,
              "#46039f"
             ],
             [
              0.2222222222222222,
              "#7201a8"
             ],
             [
              0.3333333333333333,
              "#9c179e"
             ],
             [
              0.4444444444444444,
              "#bd3786"
             ],
             [
              0.5555555555555556,
              "#d8576b"
             ],
             [
              0.6666666666666666,
              "#ed7953"
             ],
             [
              0.7777777777777778,
              "#fb9f3a"
             ],
             [
              0.8888888888888888,
              "#fdca26"
             ],
             [
              1,
              "#f0f921"
             ]
            ],
            "type": "contour"
           }
          ],
          "contourcarpet": [
           {
            "colorbar": {
             "outlinewidth": 0,
             "ticks": ""
            },
            "type": "contourcarpet"
           }
          ],
          "heatmap": [
           {
            "colorbar": {
             "outlinewidth": 0,
             "ticks": ""
            },
            "colorscale": [
             [
              0,
              "#0d0887"
             ],
             [
              0.1111111111111111,
              "#46039f"
             ],
             [
              0.2222222222222222,
              "#7201a8"
             ],
             [
              0.3333333333333333,
              "#9c179e"
             ],
             [
              0.4444444444444444,
              "#bd3786"
             ],
             [
              0.5555555555555556,
              "#d8576b"
             ],
             [
              0.6666666666666666,
              "#ed7953"
             ],
             [
              0.7777777777777778,
              "#fb9f3a"
             ],
             [
              0.8888888888888888,
              "#fdca26"
             ],
             [
              1,
              "#f0f921"
             ]
            ],
            "type": "heatmap"
           }
          ],
          "heatmapgl": [
           {
            "colorbar": {
             "outlinewidth": 0,
             "ticks": ""
            },
            "colorscale": [
             [
              0,
              "#0d0887"
             ],
             [
              0.1111111111111111,
              "#46039f"
             ],
             [
              0.2222222222222222,
              "#7201a8"
             ],
             [
              0.3333333333333333,
              "#9c179e"
             ],
             [
              0.4444444444444444,
              "#bd3786"
             ],
             [
              0.5555555555555556,
              "#d8576b"
             ],
             [
              0.6666666666666666,
              "#ed7953"
             ],
             [
              0.7777777777777778,
              "#fb9f3a"
             ],
             [
              0.8888888888888888,
              "#fdca26"
             ],
             [
              1,
              "#f0f921"
             ]
            ],
            "type": "heatmapgl"
           }
          ],
          "histogram": [
           {
            "marker": {
             "pattern": {
              "fillmode": "overlay",
              "size": 10,
              "solidity": 0.2
             }
            },
            "type": "histogram"
           }
          ],
          "histogram2d": [
           {
            "colorbar": {
             "outlinewidth": 0,
             "ticks": ""
            },
            "colorscale": [
             [
              0,
              "#0d0887"
             ],
             [
              0.1111111111111111,
              "#46039f"
             ],
             [
              0.2222222222222222,
              "#7201a8"
             ],
             [
              0.3333333333333333,
              "#9c179e"
             ],
             [
              0.4444444444444444,
              "#bd3786"
             ],
             [
              0.5555555555555556,
              "#d8576b"
             ],
             [
              0.6666666666666666,
              "#ed7953"
             ],
             [
              0.7777777777777778,
              "#fb9f3a"
             ],
             [
              0.8888888888888888,
              "#fdca26"
             ],
             [
              1,
              "#f0f921"
             ]
            ],
            "type": "histogram2d"
           }
          ],
          "histogram2dcontour": [
           {
            "colorbar": {
             "outlinewidth": 0,
             "ticks": ""
            },
            "colorscale": [
             [
              0,
              "#0d0887"
             ],
             [
              0.1111111111111111,
              "#46039f"
             ],
             [
              0.2222222222222222,
              "#7201a8"
             ],
             [
              0.3333333333333333,
              "#9c179e"
             ],
             [
              0.4444444444444444,
              "#bd3786"
             ],
             [
              0.5555555555555556,
              "#d8576b"
             ],
             [
              0.6666666666666666,
              "#ed7953"
             ],
             [
              0.7777777777777778,
              "#fb9f3a"
             ],
             [
              0.8888888888888888,
              "#fdca26"
             ],
             [
              1,
              "#f0f921"
             ]
            ],
            "type": "histogram2dcontour"
           }
          ],
          "mesh3d": [
           {
            "colorbar": {
             "outlinewidth": 0,
             "ticks": ""
            },
            "type": "mesh3d"
           }
          ],
          "parcoords": [
           {
            "line": {
             "colorbar": {
              "outlinewidth": 0,
              "ticks": ""
             }
            },
            "type": "parcoords"
           }
          ],
          "pie": [
           {
            "automargin": true,
            "type": "pie"
           }
          ],
          "scatter": [
           {
            "fillpattern": {
             "fillmode": "overlay",
             "size": 10,
             "solidity": 0.2
            },
            "type": "scatter"
           }
          ],
          "scatter3d": [
           {
            "line": {
             "colorbar": {
              "outlinewidth": 0,
              "ticks": ""
             }
            },
            "marker": {
             "colorbar": {
              "outlinewidth": 0,
              "ticks": ""
             }
            },
            "type": "scatter3d"
           }
          ],
          "scattercarpet": [
           {
            "marker": {
             "colorbar": {
              "outlinewidth": 0,
              "ticks": ""
             }
            },
            "type": "scattercarpet"
           }
          ],
          "scattergeo": [
           {
            "marker": {
             "colorbar": {
              "outlinewidth": 0,
              "ticks": ""
             }
            },
            "type": "scattergeo"
           }
          ],
          "scattergl": [
           {
            "marker": {
             "colorbar": {
              "outlinewidth": 0,
              "ticks": ""
             }
            },
            "type": "scattergl"
           }
          ],
          "scattermapbox": [
           {
            "marker": {
             "colorbar": {
              "outlinewidth": 0,
              "ticks": ""
             }
            },
            "type": "scattermapbox"
           }
          ],
          "scatterpolar": [
           {
            "marker": {
             "colorbar": {
              "outlinewidth": 0,
              "ticks": ""
             }
            },
            "type": "scatterpolar"
           }
          ],
          "scatterpolargl": [
           {
            "marker": {
             "colorbar": {
              "outlinewidth": 0,
              "ticks": ""
             }
            },
            "type": "scatterpolargl"
           }
          ],
          "scatterternary": [
           {
            "marker": {
             "colorbar": {
              "outlinewidth": 0,
              "ticks": ""
             }
            },
            "type": "scatterternary"
           }
          ],
          "surface": [
           {
            "colorbar": {
             "outlinewidth": 0,
             "ticks": ""
            },
            "colorscale": [
             [
              0,
              "#0d0887"
             ],
             [
              0.1111111111111111,
              "#46039f"
             ],
             [
              0.2222222222222222,
              "#7201a8"
             ],
             [
              0.3333333333333333,
              "#9c179e"
             ],
             [
              0.4444444444444444,
              "#bd3786"
             ],
             [
              0.5555555555555556,
              "#d8576b"
             ],
             [
              0.6666666666666666,
              "#ed7953"
             ],
             [
              0.7777777777777778,
              "#fb9f3a"
             ],
             [
              0.8888888888888888,
              "#fdca26"
             ],
             [
              1,
              "#f0f921"
             ]
            ],
            "type": "surface"
           }
          ],
          "table": [
           {
            "cells": {
             "fill": {
              "color": "#EBF0F8"
             },
             "line": {
              "color": "white"
             }
            },
            "header": {
             "fill": {
              "color": "#C8D4E3"
             },
             "line": {
              "color": "white"
             }
            },
            "type": "table"
           }
          ]
         },
         "layout": {
          "annotationdefaults": {
           "arrowcolor": "#2a3f5f",
           "arrowhead": 0,
           "arrowwidth": 1
          },
          "autotypenumbers": "strict",
          "coloraxis": {
           "colorbar": {
            "outlinewidth": 0,
            "ticks": ""
           }
          },
          "colorscale": {
           "diverging": [
            [
             0,
             "#8e0152"
            ],
            [
             0.1,
             "#c51b7d"
            ],
            [
             0.2,
             "#de77ae"
            ],
            [
             0.3,
             "#f1b6da"
            ],
            [
             0.4,
             "#fde0ef"
            ],
            [
             0.5,
             "#f7f7f7"
            ],
            [
             0.6,
             "#e6f5d0"
            ],
            [
             0.7,
             "#b8e186"
            ],
            [
             0.8,
             "#7fbc41"
            ],
            [
             0.9,
             "#4d9221"
            ],
            [
             1,
             "#276419"
            ]
           ],
           "sequential": [
            [
             0,
             "#0d0887"
            ],
            [
             0.1111111111111111,
             "#46039f"
            ],
            [
             0.2222222222222222,
             "#7201a8"
            ],
            [
             0.3333333333333333,
             "#9c179e"
            ],
            [
             0.4444444444444444,
             "#bd3786"
            ],
            [
             0.5555555555555556,
             "#d8576b"
            ],
            [
             0.6666666666666666,
             "#ed7953"
            ],
            [
             0.7777777777777778,
             "#fb9f3a"
            ],
            [
             0.8888888888888888,
             "#fdca26"
            ],
            [
             1,
             "#f0f921"
            ]
           ],
           "sequentialminus": [
            [
             0,
             "#0d0887"
            ],
            [
             0.1111111111111111,
             "#46039f"
            ],
            [
             0.2222222222222222,
             "#7201a8"
            ],
            [
             0.3333333333333333,
             "#9c179e"
            ],
            [
             0.4444444444444444,
             "#bd3786"
            ],
            [
             0.5555555555555556,
             "#d8576b"
            ],
            [
             0.6666666666666666,
             "#ed7953"
            ],
            [
             0.7777777777777778,
             "#fb9f3a"
            ],
            [
             0.8888888888888888,
             "#fdca26"
            ],
            [
             1,
             "#f0f921"
            ]
           ]
          },
          "colorway": [
           "#636efa",
           "#EF553B",
           "#00cc96",
           "#ab63fa",
           "#FFA15A",
           "#19d3f3",
           "#FF6692",
           "#B6E880",
           "#FF97FF",
           "#FECB52"
          ],
          "font": {
           "color": "#2a3f5f"
          },
          "geo": {
           "bgcolor": "white",
           "lakecolor": "white",
           "landcolor": "#E5ECF6",
           "showlakes": true,
           "showland": true,
           "subunitcolor": "white"
          },
          "hoverlabel": {
           "align": "left"
          },
          "hovermode": "closest",
          "mapbox": {
           "style": "light"
          },
          "paper_bgcolor": "white",
          "plot_bgcolor": "#E5ECF6",
          "polar": {
           "angularaxis": {
            "gridcolor": "white",
            "linecolor": "white",
            "ticks": ""
           },
           "bgcolor": "#E5ECF6",
           "radialaxis": {
            "gridcolor": "white",
            "linecolor": "white",
            "ticks": ""
           }
          },
          "scene": {
           "xaxis": {
            "backgroundcolor": "#E5ECF6",
            "gridcolor": "white",
            "gridwidth": 2,
            "linecolor": "white",
            "showbackground": true,
            "ticks": "",
            "zerolinecolor": "white"
           },
           "yaxis": {
            "backgroundcolor": "#E5ECF6",
            "gridcolor": "white",
            "gridwidth": 2,
            "linecolor": "white",
            "showbackground": true,
            "ticks": "",
            "zerolinecolor": "white"
           },
           "zaxis": {
            "backgroundcolor": "#E5ECF6",
            "gridcolor": "white",
            "gridwidth": 2,
            "linecolor": "white",
            "showbackground": true,
            "ticks": "",
            "zerolinecolor": "white"
           }
          },
          "shapedefaults": {
           "line": {
            "color": "#2a3f5f"
           }
          },
          "ternary": {
           "aaxis": {
            "gridcolor": "white",
            "linecolor": "white",
            "ticks": ""
           },
           "baxis": {
            "gridcolor": "white",
            "linecolor": "white",
            "ticks": ""
           },
           "bgcolor": "#E5ECF6",
           "caxis": {
            "gridcolor": "white",
            "linecolor": "white",
            "ticks": ""
           }
          },
          "title": {
           "x": 0.05
          },
          "xaxis": {
           "automargin": true,
           "gridcolor": "white",
           "linecolor": "white",
           "ticks": "",
           "title": {
            "standoff": 15
           },
           "zerolinecolor": "white",
           "zerolinewidth": 2
          },
          "yaxis": {
           "automargin": true,
           "gridcolor": "white",
           "linecolor": "white",
           "ticks": "",
           "title": {
            "standoff": 15
           },
           "zerolinecolor": "white",
           "zerolinewidth": 2
          }
         }
        },
        "title": {
         "text": "Distribution of Jobs Categories"
        },
        "xaxis": {
         "anchor": "y",
         "categoryorder": "total descending",
         "domain": [
          0,
          1
         ],
         "title": {
          "text": "Category"
         }
        },
        "yaxis": {
         "anchor": "x",
         "domain": [
          0,
          1
         ],
         "title": {
          "text": "count"
         }
        }
       }
      }
     },
     "metadata": {},
     "output_type": "display_data"
    }
   ],
   "source": [
    "fig = px.histogram(\n",
    "    data, x='Category', title='Distribution of Jobs Categories'\n",
    ").update_xaxes(categoryorder=\"total descending\")\n",
    "fig.show()"
   ]
  },
  {
   "cell_type": "code",
   "execution_count": 29,
   "metadata": {},
   "outputs": [],
   "source": [
    "job_cat = \"INFORMATION-TECHNOLOGY\""
   ]
  },
  {
   "cell_type": "code",
   "execution_count": 32,
   "metadata": {},
   "outputs": [
    {
     "data": {
      "text/plain": [
       "8"
      ]
     },
     "execution_count": 32,
     "metadata": {},
     "output_type": "execute_result"
    }
   ],
   "source": [
    "fltr = data[data['Category'] == job_cat]['skills']\n",
    "len(fltr)"
   ]
  },
  {
   "cell_type": "code",
   "execution_count": 33,
   "metadata": {},
   "outputs": [
    {
     "data": {
      "text/plain": [
       "259    [design, security, support, project management...\n",
       "229    [design, adobe photoshop, software, server, se...\n",
       "332    [collaboration, business, software, resource a...\n",
       "302    [project management, project management, manag...\n",
       "317    [support, server, software, mobile, router, su...\n",
       "243    [workflow, business, support, oracle, server, ...\n",
       "239    [support, business, business, system integrati...\n",
       "300    [business, project management, server, server,...\n",
       "Name: skills, dtype: object"
      ]
     },
     "execution_count": 33,
     "metadata": {},
     "output_type": "execute_result"
    }
   ],
   "source": [
    "fltr"
   ]
  },
  {
   "cell_type": "code",
   "execution_count": 34,
   "metadata": {},
   "outputs": [
    {
     "data": {
      "application/vnd.plotly.v1+json": {
       "config": {
        "plotlyServerURL": "https://plot.ly"
       },
       "data": [
        {
         "alignmentgroup": "True",
         "bingroup": "x",
         "hovertemplate": "Skills=%{x}<br>count=%{y}<extra></extra>",
         "legendgroup": "",
         "marker": {
          "color": "#636efa",
          "pattern": {
           "shape": ""
          }
         },
         "name": "",
         "offsetgroup": "",
         "orientation": "v",
         "showlegend": false,
         "type": "histogram",
         "x": [
          "design",
          "security",
          "support",
          "project management",
          "server",
          "server",
          "server",
          "server",
          "server",
          "vmware vsphere",
          "business",
          "support",
          "software",
          "operating system",
          "server",
          "server",
          "security",
          "server",
          "support",
          "network management",
          "business",
          "design",
          "business",
          "design",
          "specification",
          "business",
          "release",
          "design",
          "network management",
          "design",
          "business",
          "business",
          "workflow",
          "software",
          "access control",
          "server",
          "testing",
          "design",
          "support",
          "testing",
          "testing",
          "testing",
          "testing",
          "testing",
          "testing",
          "business",
          "testing",
          "support",
          "knowledge management",
          "collaboration",
          "testing",
          "testing",
          "design",
          "security",
          "security",
          "unity",
          "software",
          "microcomputer",
          "support",
          "server",
          "software",
          "software",
          "component",
          "user profile",
          "software",
          "scanner",
          "software",
          "support",
          "software",
          "documentation",
          "software",
          "support",
          "scanner",
          "software",
          "software",
          "user profile",
          "support",
          "support",
          "engineering drawing",
          "software",
          "security",
          "security",
          "certificate",
          "business",
          "server",
          "documentation",
          "knowledge management",
          "microcomputer",
          "network management",
          "operating system",
          "software",
          "software",
          "server",
          "support",
          "design",
          "adobe photoshop",
          "software",
          "server",
          "server",
          "project management",
          "help desk",
          "database design",
          "business",
          "asp net",
          "business",
          "database",
          "support",
          "marketing",
          "material",
          "server",
          "oracle",
          "database",
          "material",
          "workflow",
          "support",
          "security",
          "help desk",
          "support",
          "software",
          "server",
          "security",
          "database",
          "crystal",
          "database",
          "workflow",
          "visual basic",
          "data file",
          "material",
          "server",
          "business",
          "business",
          "marketing",
          "material",
          "release",
          "support",
          "specification",
          "design",
          "design",
          "oracle",
          "database",
          "testing",
          "testing",
          "testing",
          "asp net",
          "adobe photoshop",
          "design",
          "business",
          "business",
          "server",
          "crystal",
          "database",
          "database",
          "database",
          "database design",
          "help desk",
          "support",
          "support",
          "marketing",
          "material",
          "oracle",
          "database",
          "project management",
          "server",
          "software",
          "material",
          "visual basic",
          "server",
          "workflow",
          "business",
          "business",
          "support",
          "collaboration",
          "business",
          "software",
          "resource allocation",
          "project management",
          "business",
          "material",
          "deployment",
          "wireless",
          "mobile",
          "material",
          "support",
          "business",
          "help desk",
          "design",
          "workflow",
          "support",
          "documentation",
          "business",
          "material",
          "business",
          "business",
          "material",
          "project management",
          "workload",
          "business",
          "performance metric",
          "business",
          "business",
          "access control",
          "support",
          "server",
          "security",
          "finance",
          "business administration",
          "finance",
          "business administration",
          "business",
          "documentation",
          "help desk",
          "material",
          "design",
          "project management",
          "support",
          "material",
          "server",
          "workflow",
          "project management",
          "project management",
          "management science",
          "decision support system",
          "business",
          "project management",
          "project management",
          "certificate",
          "project management",
          "project management",
          "project management",
          "business",
          "project management",
          "project management",
          "project management",
          "wireless",
          "project management",
          "support",
          "project management",
          "software",
          "software",
          "security",
          "server",
          "support",
          "support",
          "support",
          "software",
          "project management",
          "accounting",
          "support",
          "database",
          "software",
          "finance",
          "accounting",
          "software",
          "database",
          "software",
          "finance",
          "software",
          "testing",
          "documentation",
          "software",
          "project management",
          "software",
          "database",
          "financial system",
          "software",
          "support",
          "support",
          "support",
          "server",
          "software",
          "mobile",
          "router",
          "support",
          "schedule",
          "database",
          "software",
          "software",
          "server",
          "documentation",
          "support",
          "project management",
          "business",
          "project management",
          "distributed computing",
          "database",
          "software",
          "documentation",
          "help desk",
          "router",
          "server",
          "support",
          "workflow",
          "business",
          "support",
          "oracle",
          "server",
          "database design",
          "database",
          "data management",
          "asp net",
          "server",
          "software",
          "software",
          "project management",
          "project management",
          "business intelligence",
          "support",
          "asp net",
          "server",
          "software",
          "server",
          "security",
          "library",
          "support",
          "help desk",
          "business",
          "business",
          "workflow",
          "tableau",
          "visualization",
          "business intelligence",
          "business intelligence",
          "data center",
          "support",
          "oracle",
          "help desk",
          "support",
          "server",
          "server",
          "support",
          "business administration",
          "asp net",
          "business",
          "business intelligence",
          "server",
          "data management",
          "database",
          "database design",
          "help desk",
          "support",
          "help desk",
          "support",
          "oracle",
          "oracle",
          "oracle",
          "project management",
          "software",
          "support",
          "business",
          "business",
          "system integration",
          "support",
          "marketing",
          "marketing",
          "marketing",
          "task management",
          "design",
          "design",
          "business process",
          "business intelligence",
          "task management",
          "security",
          "workflow",
          "marketing",
          "security",
          "support",
          "design",
          "data processing",
          "visual studio",
          "server",
          "asp net",
          "tracking system",
          "server",
          "software",
          "mobile",
          "design",
          "database",
          "database",
          "asp net",
          "data analysis",
          "support",
          "asp net",
          "asp net",
          "data analysis",
          "data processing",
          "database",
          "security",
          "support",
          "marketing",
          "server",
          "server",
          "support",
          "visual studio",
          "workflow",
          "business",
          "project management",
          "server",
          "server",
          "wireless",
          "business",
          "software",
          "business",
          "software",
          "server",
          "router",
          "business",
          "security",
          "deployment",
          "server",
          "support",
          "operating system",
          "server",
          "server",
          "security",
          "web server",
          "server",
          "server",
          "router",
          "software",
          "support",
          "support",
          "support",
          "help desk",
          "software",
          "security",
          "software",
          "certificate",
          "project management",
          "certificate"
         ],
         "xaxis": "x",
         "yaxis": "y"
        }
       ],
       "layout": {
        "barmode": "relative",
        "legend": {
         "tracegroupgap": 0
        },
        "template": {
         "data": {
          "bar": [
           {
            "error_x": {
             "color": "#2a3f5f"
            },
            "error_y": {
             "color": "#2a3f5f"
            },
            "marker": {
             "line": {
              "color": "#E5ECF6",
              "width": 0.5
             },
             "pattern": {
              "fillmode": "overlay",
              "size": 10,
              "solidity": 0.2
             }
            },
            "type": "bar"
           }
          ],
          "barpolar": [
           {
            "marker": {
             "line": {
              "color": "#E5ECF6",
              "width": 0.5
             },
             "pattern": {
              "fillmode": "overlay",
              "size": 10,
              "solidity": 0.2
             }
            },
            "type": "barpolar"
           }
          ],
          "carpet": [
           {
            "aaxis": {
             "endlinecolor": "#2a3f5f",
             "gridcolor": "white",
             "linecolor": "white",
             "minorgridcolor": "white",
             "startlinecolor": "#2a3f5f"
            },
            "baxis": {
             "endlinecolor": "#2a3f5f",
             "gridcolor": "white",
             "linecolor": "white",
             "minorgridcolor": "white",
             "startlinecolor": "#2a3f5f"
            },
            "type": "carpet"
           }
          ],
          "choropleth": [
           {
            "colorbar": {
             "outlinewidth": 0,
             "ticks": ""
            },
            "type": "choropleth"
           }
          ],
          "contour": [
           {
            "colorbar": {
             "outlinewidth": 0,
             "ticks": ""
            },
            "colorscale": [
             [
              0,
              "#0d0887"
             ],
             [
              0.1111111111111111,
              "#46039f"
             ],
             [
              0.2222222222222222,
              "#7201a8"
             ],
             [
              0.3333333333333333,
              "#9c179e"
             ],
             [
              0.4444444444444444,
              "#bd3786"
             ],
             [
              0.5555555555555556,
              "#d8576b"
             ],
             [
              0.6666666666666666,
              "#ed7953"
             ],
             [
              0.7777777777777778,
              "#fb9f3a"
             ],
             [
              0.8888888888888888,
              "#fdca26"
             ],
             [
              1,
              "#f0f921"
             ]
            ],
            "type": "contour"
           }
          ],
          "contourcarpet": [
           {
            "colorbar": {
             "outlinewidth": 0,
             "ticks": ""
            },
            "type": "contourcarpet"
           }
          ],
          "heatmap": [
           {
            "colorbar": {
             "outlinewidth": 0,
             "ticks": ""
            },
            "colorscale": [
             [
              0,
              "#0d0887"
             ],
             [
              0.1111111111111111,
              "#46039f"
             ],
             [
              0.2222222222222222,
              "#7201a8"
             ],
             [
              0.3333333333333333,
              "#9c179e"
             ],
             [
              0.4444444444444444,
              "#bd3786"
             ],
             [
              0.5555555555555556,
              "#d8576b"
             ],
             [
              0.6666666666666666,
              "#ed7953"
             ],
             [
              0.7777777777777778,
              "#fb9f3a"
             ],
             [
              0.8888888888888888,
              "#fdca26"
             ],
             [
              1,
              "#f0f921"
             ]
            ],
            "type": "heatmap"
           }
          ],
          "heatmapgl": [
           {
            "colorbar": {
             "outlinewidth": 0,
             "ticks": ""
            },
            "colorscale": [
             [
              0,
              "#0d0887"
             ],
             [
              0.1111111111111111,
              "#46039f"
             ],
             [
              0.2222222222222222,
              "#7201a8"
             ],
             [
              0.3333333333333333,
              "#9c179e"
             ],
             [
              0.4444444444444444,
              "#bd3786"
             ],
             [
              0.5555555555555556,
              "#d8576b"
             ],
             [
              0.6666666666666666,
              "#ed7953"
             ],
             [
              0.7777777777777778,
              "#fb9f3a"
             ],
             [
              0.8888888888888888,
              "#fdca26"
             ],
             [
              1,
              "#f0f921"
             ]
            ],
            "type": "heatmapgl"
           }
          ],
          "histogram": [
           {
            "marker": {
             "pattern": {
              "fillmode": "overlay",
              "size": 10,
              "solidity": 0.2
             }
            },
            "type": "histogram"
           }
          ],
          "histogram2d": [
           {
            "colorbar": {
             "outlinewidth": 0,
             "ticks": ""
            },
            "colorscale": [
             [
              0,
              "#0d0887"
             ],
             [
              0.1111111111111111,
              "#46039f"
             ],
             [
              0.2222222222222222,
              "#7201a8"
             ],
             [
              0.3333333333333333,
              "#9c179e"
             ],
             [
              0.4444444444444444,
              "#bd3786"
             ],
             [
              0.5555555555555556,
              "#d8576b"
             ],
             [
              0.6666666666666666,
              "#ed7953"
             ],
             [
              0.7777777777777778,
              "#fb9f3a"
             ],
             [
              0.8888888888888888,
              "#fdca26"
             ],
             [
              1,
              "#f0f921"
             ]
            ],
            "type": "histogram2d"
           }
          ],
          "histogram2dcontour": [
           {
            "colorbar": {
             "outlinewidth": 0,
             "ticks": ""
            },
            "colorscale": [
             [
              0,
              "#0d0887"
             ],
             [
              0.1111111111111111,
              "#46039f"
             ],
             [
              0.2222222222222222,
              "#7201a8"
             ],
             [
              0.3333333333333333,
              "#9c179e"
             ],
             [
              0.4444444444444444,
              "#bd3786"
             ],
             [
              0.5555555555555556,
              "#d8576b"
             ],
             [
              0.6666666666666666,
              "#ed7953"
             ],
             [
              0.7777777777777778,
              "#fb9f3a"
             ],
             [
              0.8888888888888888,
              "#fdca26"
             ],
             [
              1,
              "#f0f921"
             ]
            ],
            "type": "histogram2dcontour"
           }
          ],
          "mesh3d": [
           {
            "colorbar": {
             "outlinewidth": 0,
             "ticks": ""
            },
            "type": "mesh3d"
           }
          ],
          "parcoords": [
           {
            "line": {
             "colorbar": {
              "outlinewidth": 0,
              "ticks": ""
             }
            },
            "type": "parcoords"
           }
          ],
          "pie": [
           {
            "automargin": true,
            "type": "pie"
           }
          ],
          "scatter": [
           {
            "fillpattern": {
             "fillmode": "overlay",
             "size": 10,
             "solidity": 0.2
            },
            "type": "scatter"
           }
          ],
          "scatter3d": [
           {
            "line": {
             "colorbar": {
              "outlinewidth": 0,
              "ticks": ""
             }
            },
            "marker": {
             "colorbar": {
              "outlinewidth": 0,
              "ticks": ""
             }
            },
            "type": "scatter3d"
           }
          ],
          "scattercarpet": [
           {
            "marker": {
             "colorbar": {
              "outlinewidth": 0,
              "ticks": ""
             }
            },
            "type": "scattercarpet"
           }
          ],
          "scattergeo": [
           {
            "marker": {
             "colorbar": {
              "outlinewidth": 0,
              "ticks": ""
             }
            },
            "type": "scattergeo"
           }
          ],
          "scattergl": [
           {
            "marker": {
             "colorbar": {
              "outlinewidth": 0,
              "ticks": ""
             }
            },
            "type": "scattergl"
           }
          ],
          "scattermapbox": [
           {
            "marker": {
             "colorbar": {
              "outlinewidth": 0,
              "ticks": ""
             }
            },
            "type": "scattermapbox"
           }
          ],
          "scatterpolar": [
           {
            "marker": {
             "colorbar": {
              "outlinewidth": 0,
              "ticks": ""
             }
            },
            "type": "scatterpolar"
           }
          ],
          "scatterpolargl": [
           {
            "marker": {
             "colorbar": {
              "outlinewidth": 0,
              "ticks": ""
             }
            },
            "type": "scatterpolargl"
           }
          ],
          "scatterternary": [
           {
            "marker": {
             "colorbar": {
              "outlinewidth": 0,
              "ticks": ""
             }
            },
            "type": "scatterternary"
           }
          ],
          "surface": [
           {
            "colorbar": {
             "outlinewidth": 0,
             "ticks": ""
            },
            "colorscale": [
             [
              0,
              "#0d0887"
             ],
             [
              0.1111111111111111,
              "#46039f"
             ],
             [
              0.2222222222222222,
              "#7201a8"
             ],
             [
              0.3333333333333333,
              "#9c179e"
             ],
             [
              0.4444444444444444,
              "#bd3786"
             ],
             [
              0.5555555555555556,
              "#d8576b"
             ],
             [
              0.6666666666666666,
              "#ed7953"
             ],
             [
              0.7777777777777778,
              "#fb9f3a"
             ],
             [
              0.8888888888888888,
              "#fdca26"
             ],
             [
              1,
              "#f0f921"
             ]
            ],
            "type": "surface"
           }
          ],
          "table": [
           {
            "cells": {
             "fill": {
              "color": "#EBF0F8"
             },
             "line": {
              "color": "white"
             }
            },
            "header": {
             "fill": {
              "color": "#C8D4E3"
             },
             "line": {
              "color": "white"
             }
            },
            "type": "table"
           }
          ]
         },
         "layout": {
          "annotationdefaults": {
           "arrowcolor": "#2a3f5f",
           "arrowhead": 0,
           "arrowwidth": 1
          },
          "autotypenumbers": "strict",
          "coloraxis": {
           "colorbar": {
            "outlinewidth": 0,
            "ticks": ""
           }
          },
          "colorscale": {
           "diverging": [
            [
             0,
             "#8e0152"
            ],
            [
             0.1,
             "#c51b7d"
            ],
            [
             0.2,
             "#de77ae"
            ],
            [
             0.3,
             "#f1b6da"
            ],
            [
             0.4,
             "#fde0ef"
            ],
            [
             0.5,
             "#f7f7f7"
            ],
            [
             0.6,
             "#e6f5d0"
            ],
            [
             0.7,
             "#b8e186"
            ],
            [
             0.8,
             "#7fbc41"
            ],
            [
             0.9,
             "#4d9221"
            ],
            [
             1,
             "#276419"
            ]
           ],
           "sequential": [
            [
             0,
             "#0d0887"
            ],
            [
             0.1111111111111111,
             "#46039f"
            ],
            [
             0.2222222222222222,
             "#7201a8"
            ],
            [
             0.3333333333333333,
             "#9c179e"
            ],
            [
             0.4444444444444444,
             "#bd3786"
            ],
            [
             0.5555555555555556,
             "#d8576b"
            ],
            [
             0.6666666666666666,
             "#ed7953"
            ],
            [
             0.7777777777777778,
             "#fb9f3a"
            ],
            [
             0.8888888888888888,
             "#fdca26"
            ],
            [
             1,
             "#f0f921"
            ]
           ],
           "sequentialminus": [
            [
             0,
             "#0d0887"
            ],
            [
             0.1111111111111111,
             "#46039f"
            ],
            [
             0.2222222222222222,
             "#7201a8"
            ],
            [
             0.3333333333333333,
             "#9c179e"
            ],
            [
             0.4444444444444444,
             "#bd3786"
            ],
            [
             0.5555555555555556,
             "#d8576b"
            ],
            [
             0.6666666666666666,
             "#ed7953"
            ],
            [
             0.7777777777777778,
             "#fb9f3a"
            ],
            [
             0.8888888888888888,
             "#fdca26"
            ],
            [
             1,
             "#f0f921"
            ]
           ]
          },
          "colorway": [
           "#636efa",
           "#EF553B",
           "#00cc96",
           "#ab63fa",
           "#FFA15A",
           "#19d3f3",
           "#FF6692",
           "#B6E880",
           "#FF97FF",
           "#FECB52"
          ],
          "font": {
           "color": "#2a3f5f"
          },
          "geo": {
           "bgcolor": "white",
           "lakecolor": "white",
           "landcolor": "#E5ECF6",
           "showlakes": true,
           "showland": true,
           "subunitcolor": "white"
          },
          "hoverlabel": {
           "align": "left"
          },
          "hovermode": "closest",
          "mapbox": {
           "style": "light"
          },
          "paper_bgcolor": "white",
          "plot_bgcolor": "#E5ECF6",
          "polar": {
           "angularaxis": {
            "gridcolor": "white",
            "linecolor": "white",
            "ticks": ""
           },
           "bgcolor": "#E5ECF6",
           "radialaxis": {
            "gridcolor": "white",
            "linecolor": "white",
            "ticks": ""
           }
          },
          "scene": {
           "xaxis": {
            "backgroundcolor": "#E5ECF6",
            "gridcolor": "white",
            "gridwidth": 2,
            "linecolor": "white",
            "showbackground": true,
            "ticks": "",
            "zerolinecolor": "white"
           },
           "yaxis": {
            "backgroundcolor": "#E5ECF6",
            "gridcolor": "white",
            "gridwidth": 2,
            "linecolor": "white",
            "showbackground": true,
            "ticks": "",
            "zerolinecolor": "white"
           },
           "zaxis": {
            "backgroundcolor": "#E5ECF6",
            "gridcolor": "white",
            "gridwidth": 2,
            "linecolor": "white",
            "showbackground": true,
            "ticks": "",
            "zerolinecolor": "white"
           }
          },
          "shapedefaults": {
           "line": {
            "color": "#2a3f5f"
           }
          },
          "ternary": {
           "aaxis": {
            "gridcolor": "white",
            "linecolor": "white",
            "ticks": ""
           },
           "baxis": {
            "gridcolor": "white",
            "linecolor": "white",
            "ticks": ""
           },
           "bgcolor": "#E5ECF6",
           "caxis": {
            "gridcolor": "white",
            "linecolor": "white",
            "ticks": ""
           }
          },
          "title": {
           "x": 0.05
          },
          "xaxis": {
           "automargin": true,
           "gridcolor": "white",
           "linecolor": "white",
           "ticks": "",
           "title": {
            "standoff": 15
           },
           "zerolinecolor": "white",
           "zerolinewidth": 2
          },
          "yaxis": {
           "automargin": true,
           "gridcolor": "white",
           "linecolor": "white",
           "ticks": "",
           "title": {
            "standoff": 15
           },
           "zerolinecolor": "white",
           "zerolinewidth": 2
          }
         }
        },
        "title": {
         "text": "INFORMATION-TECHNOLOGY Distribution of Skills"
        },
        "xaxis": {
         "anchor": "y",
         "categoryorder": "total descending",
         "domain": [
          0,
          1
         ],
         "title": {
          "text": "Skills"
         }
        },
        "yaxis": {
         "anchor": "x",
         "domain": [
          0,
          1
         ],
         "title": {
          "text": "count"
         }
        }
       }
      }
     },
     "metadata": {},
     "output_type": "display_data"
    }
   ],
   "source": [
    "total_skills = []\n",
    "for x in fltr:\n",
    "    for i in x:\n",
    "        total_skills.append(i)\n",
    "fig = px.histogram(\n",
    "    x=total_skills,\n",
    "    labels={\"x\": \"Skills\"},\n",
    "    title=f\"{job_cat} Distribution of Skills\"\n",
    ").update_xaxes(categoryorder=\"total descending\")\n",
    "fig.show()"
   ]
  },
  {
   "cell_type": "code",
   "execution_count": 38,
   "metadata": {},
   "outputs": [
    {
     "data": {
      "text/plain": [
       "Text(0.5, 1.0, 'Most Used Words in INFORMATION-TECHNOLOGY Resume')"
      ]
     },
     "execution_count": 38,
     "metadata": {},
     "output_type": "execute_result"
    },
    {
     "data": {
      "image/png": "[encoded data removed]",
      "text/plain": [
       "<Figure size 800x800 with 1 Axes>"
      ]
     },
     "metadata": {},
     "output_type": "display_data"
    }
   ],
   "source": [
    "# Most used words\n",
    "text = \"\"\n",
    "for i in data[data[\"Category\"]==job_cat][\"Clean_Resume\"].values:\n",
    "    text += i + \" \"\n",
    "plt.figure(figsize = (8, 8))\n",
    "x,y = np.ogrid[:300, :300]\n",
    "mask = (x-150)**2 + (y-150)**2 > 130**2\n",
    "mask = 255 * mask.astype(int)\n",
    "\n",
    "wc = WordCloud(\n",
    "    width=800,\n",
    "    height=800,\n",
    "    background_color=\"white\",\n",
    "    min_font_size=6,\n",
    "    repeat=True,\n",
    "    mask=mask,\n",
    ")\n",
    "wc.generate(text)\n",
    "\n",
    "plt.axis(\"off\")\n",
    "plt.imshow(wc, interpolation=\"bilinear\")\n",
    "plt.title(f\"Most Used Words in {job_cat} Resume\", fontsize=20)"
   ]
  },
  {
   "cell_type": "code",
   "execution_count": 39,
   "metadata": {},
   "outputs": [
    {
     "data": {
      "text/html": [
       "<span class=\"tex2jax_ignore\"><div class=\"entities\" style=\"line-height: 2.5; direction: ltr\">         STAFF ACCOUNTANT           Summary    Highly analytical and detail-oriented professional; possessing extensive financial statement background in quality assurance, compliance, auditing, customer service and regulatory requirements. Thorough knowledge of: financial reporting, cash and accrual basis \n",
       "<mark class=\"entity\" style=\"background: #ddd; padding: 0.45em 0.6em; margin: 0 0.25em; line-height: 1; border-radius: 0.35em;\">\n",
       "    accounting\n",
       "    <span style=\"font-size: 0.8em; font-weight: bold; line-height: 1; border-radius: 0.35em; vertical-align: middle; margin-left: 0.5rem\">SKILL</span>\n",
       "</mark>\n",
       ", fund basis reporting, GAAP and other \n",
       "<mark class=\"entity\" style=\"background: #ddd; padding: 0.45em 0.6em; margin: 0 0.25em; line-height: 1; border-radius: 0.35em;\">\n",
       "    accounting\n",
       "    <span style=\"font-size: 0.8em; font-weight: bold; line-height: 1; border-radius: 0.35em; vertical-align: middle; margin-left: 0.5rem\">SKILL</span>\n",
       "</mark>\n",
       " standards. Adapt quickly when new \n",
       "<mark class=\"entity\" style=\"background: #ddd; padding: 0.45em 0.6em; margin: 0 0.25em; line-height: 1; border-radius: 0.35em;\">\n",
       "    software\n",
       "    <span style=\"font-size: 0.8em; font-weight: bold; line-height: 1; border-radius: 0.35em; vertical-align: middle; margin-left: 0.5rem\">SKILL</span>\n",
       "</mark>\n",
       " and systems are installed. Proficient with: \n",
       "<mark class=\"entity\" style=\"background: #7aecec; padding: 0.45em 0.6em; margin: 0 0.25em; line-height: 1; border-radius: 0.35em;\">\n",
       "    QuickBooks\n",
       "    <span style=\"font-size: 0.8em; font-weight: bold; line-height: 1; border-radius: 0.35em; vertical-align: middle; margin-left: 0.5rem\">ORG</span>\n",
       "</mark>\n",
       ", \n",
       "<mark class=\"entity\" style=\"background: #7aecec; padding: 0.45em 0.6em; margin: 0 0.25em; line-height: 1; border-radius: 0.35em;\">\n",
       "    MAS\n",
       "    <span style=\"font-size: 0.8em; font-weight: bold; line-height: 1; border-radius: 0.35em; vertical-align: middle; margin-left: 0.5rem\">ORG</span>\n",
       "</mark>\n",
       ", \n",
       "<mark class=\"entity\" style=\"background: #7aecec; padding: 0.45em 0.6em; margin: 0 0.25em; line-height: 1; border-radius: 0.35em;\">\n",
       "    ADP\n",
       "    <span style=\"font-size: 0.8em; font-weight: bold; line-height: 1; border-radius: 0.35em; vertical-align: middle; margin-left: 0.5rem\">ORG</span>\n",
       "</mark>\n",
       ", \n",
       "<mark class=\"entity\" style=\"background: #c887fb; padding: 0.45em 0.6em; margin: 0 0.25em; line-height: 1; border-radius: 0.35em;\">\n",
       "    Condo\n",
       "    <span style=\"font-size: 0.8em; font-weight: bold; line-height: 1; border-radius: 0.35em; vertical-align: middle; margin-left: 0.5rem\">NORP</span>\n",
       "</mark>\n",
       " Manager, \n",
       "<mark class=\"entity\" style=\"background: #aa9cfc; padding: 0.45em 0.6em; margin: 0 0.25em; line-height: 1; border-radius: 0.35em;\">\n",
       "    Adobe\n",
       "    <span style=\"font-size: 0.8em; font-weight: bold; line-height: 1; border-radius: 0.35em; vertical-align: middle; margin-left: 0.5rem\">PERSON</span>\n",
       "</mark>\n",
       ", and all \n",
       "<mark class=\"entity\" style=\"background: #7aecec; padding: 0.45em 0.6em; margin: 0 0.25em; line-height: 1; border-radius: 0.35em;\">\n",
       "    Microsoft\n",
       "    <span style=\"font-size: 0.8em; font-weight: bold; line-height: 1; border-radius: 0.35em; vertical-align: middle; margin-left: 0.5rem\">ORG</span>\n",
       "</mark>\n",
       " applications \n",
       "<mark class=\"entity\" style=\"background: #ddd; padding: 0.45em 0.6em; margin: 0 0.25em; line-height: 1; border-radius: 0.35em;\">\n",
       "    software\n",
       "    <span style=\"font-size: 0.8em; font-weight: bold; line-height: 1; border-radius: 0.35em; vertical-align: middle; margin-left: 0.5rem\">SKILL</span>\n",
       "</mark>\n",
       ". Excel in problem solving and strategic planning skills.      Highlights        DBA\t\t\t\t\n",
       "<mark class=\"entity\" style=\"background: #7aecec; padding: 0.45em 0.6em; margin: 0 0.25em; line-height: 1; border-radius: 0.35em;\">\n",
       "    Quick Books\n",
       "    <span style=\"font-size: 0.8em; font-weight: bold; line-height: 1; border-radius: 0.35em; vertical-align: middle; margin-left: 0.5rem\">ORG</span>\n",
       "</mark>\n",
       "</br>MAS - Sage \n",
       "<mark class=\"entity\" style=\"background: #ddd; padding: 0.45em 0.6em; margin: 0 0.25em; line-height: 1; border-radius: 0.35em;\">\n",
       "    Software\n",
       "    <span style=\"font-size: 0.8em; font-weight: bold; line-height: 1; border-radius: 0.35em; vertical-align: middle; margin-left: 0.5rem\">SKILL</span>\n",
       "</mark>\n",
       "\t\t\n",
       "<mark class=\"entity\" style=\"background: #7aecec; padding: 0.45em 0.6em; margin: 0 0.25em; line-height: 1; border-radius: 0.35em;\">\n",
       "    Microsoft\n",
       "    <span style=\"font-size: 0.8em; font-weight: bold; line-height: 1; border-radius: 0.35em; vertical-align: middle; margin-left: 0.5rem\">ORG</span>\n",
       "</mark>\n",
       " \n",
       "<mark class=\"entity\" style=\"background: #bfeeb7; padding: 0.45em 0.6em; margin: 0 0.25em; line-height: 1; border-radius: 0.35em;\">\n",
       "    Excel\n",
       "    <span style=\"font-size: 0.8em; font-weight: bold; line-height: 1; border-radius: 0.35em; vertical-align: middle; margin-left: 0.5rem\">PRODUCT</span>\n",
       "</mark>\n",
       "</br>ADP Drive          \n",
       "<mark class=\"entity\" style=\"background: #7aecec; padding: 0.45em 0.6em; margin: 0 0.25em; line-height: 1; border-radius: 0.35em;\">\n",
       "    Microsoft Access\n",
       "    <span style=\"font-size: 0.8em; font-weight: bold; line-height: 1; border-radius: 0.35em; vertical-align: middle; margin-left: 0.5rem\">ORG</span>\n",
       "</mark>\n",
       "</br>Condo Manager          \n",
       "<mark class=\"entity\" style=\"background: #7aecec; padding: 0.45em 0.6em; margin: 0 0.25em; line-height: 1; border-radius: 0.35em;\">\n",
       "    Microsoft\n",
       "    <span style=\"font-size: 0.8em; font-weight: bold; line-height: 1; border-radius: 0.35em; vertical-align: middle; margin-left: 0.5rem\">ORG</span>\n",
       "</mark>\n",
       " Word                Education      Bachelor of Science   :   \n",
       "<mark class=\"entity\" style=\"background: #ddd; padding: 0.45em 0.6em; margin: 0 0.25em; line-height: 1; border-radius: 0.35em;\">\n",
       "    Accounting\n",
       "    <span style=\"font-size: 0.8em; font-weight: bold; line-height: 1; border-radius: 0.35em; vertical-align: middle; margin-left: 0.5rem\">SKILL</span>\n",
       "</mark>\n",
       "  ,   \n",
       "<mark class=\"entity\" style=\"background: #bfe1d9; padding: 0.45em 0.6em; margin: 0 0.25em; line-height: 1; border-radius: 0.35em;\">\n",
       "    May 2010\n",
       "    <span style=\"font-size: 0.8em; font-weight: bold; line-height: 1; border-radius: 0.35em; vertical-align: middle; margin-left: 0.5rem\">DATE</span>\n",
       "</mark>\n",
       "    \n",
       "<mark class=\"entity\" style=\"background: #7aecec; padding: 0.45em 0.6em; margin: 0 0.25em; line-height: 1; border-radius: 0.35em;\">\n",
       "    University of North Carolina\n",
       "    <span style=\"font-size: 0.8em; font-weight: bold; line-height: 1; border-radius: 0.35em; vertical-align: middle; margin-left: 0.5rem\">ORG</span>\n",
       "</mark>\n",
       "   －   City  ,   \n",
       "<mark class=\"entity\" style=\"background: #7aecec; padding: 0.45em 0.6em; margin: 0 0.25em; line-height: 1; border-radius: 0.35em;\">\n",
       "    State      Accounting        Bachelor of Science\n",
       "    <span style=\"font-size: 0.8em; font-weight: bold; line-height: 1; border-radius: 0.35em; vertical-align: middle; margin-left: 0.5rem\">ORG</span>\n",
       "</mark>\n",
       "   :   \n",
       "<mark class=\"entity\" style=\"background: #7aecec; padding: 0.45em 0.6em; margin: 0 0.25em; line-height: 1; border-radius: 0.35em;\">\n",
       "    Business Administration Finance\n",
       "    <span style=\"font-size: 0.8em; font-weight: bold; line-height: 1; border-radius: 0.35em; vertical-align: middle; margin-left: 0.5rem\">ORG</span>\n",
       "</mark>\n",
       "  ,   \n",
       "<mark class=\"entity\" style=\"background: #bfe1d9; padding: 0.45em 0.6em; margin: 0 0.25em; line-height: 1; border-radius: 0.35em;\">\n",
       "    May 2010\n",
       "    <span style=\"font-size: 0.8em; font-weight: bold; line-height: 1; border-radius: 0.35em; vertical-align: middle; margin-left: 0.5rem\">DATE</span>\n",
       "</mark>\n",
       "    \n",
       "<mark class=\"entity\" style=\"background: #ddd; padding: 0.45em 0.6em; margin: 0 0.25em; line-height: 1; border-radius: 0.35em;\">\n",
       "    Business Administration\n",
       "    <span style=\"font-size: 0.8em; font-weight: bold; line-height: 1; border-radius: 0.35em; vertical-align: middle; margin-left: 0.5rem\">SKILL</span>\n",
       "</mark>\n",
       " \n",
       "<mark class=\"entity\" style=\"background: #ddd; padding: 0.45em 0.6em; margin: 0 0.25em; line-height: 1; border-radius: 0.35em;\">\n",
       "    Finance\n",
       "    <span style=\"font-size: 0.8em; font-weight: bold; line-height: 1; border-radius: 0.35em; vertical-align: middle; margin-left: 0.5rem\">SKILL</span>\n",
       "</mark>\n",
       "          Experience      Staff Accountant    \n",
       "<mark class=\"entity\" style=\"background: #bfe1d9; padding: 0.45em 0.6em; margin: 0 0.25em; line-height: 1; border-radius: 0.35em;\">\n",
       "    January 2014\n",
       "    <span style=\"font-size: 0.8em; font-weight: bold; line-height: 1; border-radius: 0.35em; vertical-align: middle; margin-left: 0.5rem\">DATE</span>\n",
       "</mark>\n",
       "   to   \n",
       "<mark class=\"entity\" style=\"background: #bfe1d9; padding: 0.45em 0.6em; margin: 0 0.25em; line-height: 1; border-radius: 0.35em;\">\n",
       "    October 2014\n",
       "    <span style=\"font-size: 0.8em; font-weight: bold; line-height: 1; border-radius: 0.35em; vertical-align: middle; margin-left: 0.5rem\">DATE</span>\n",
       "</mark>\n",
       "     Company Name   －   City  ,   State      Performed \n",
       "<mark class=\"entity\" style=\"background: #bfe1d9; padding: 0.45em 0.6em; margin: 0 0.25em; line-height: 1; border-radius: 0.35em;\">\n",
       "    all month end\n",
       "    <span style=\"font-size: 0.8em; font-weight: bold; line-height: 1; border-radius: 0.35em; vertical-align: middle; margin-left: 0.5rem\">DATE</span>\n",
       "</mark>\n",
       " functions to produce financial statements.  The functions include: reconciliation of the operating and payroll bank accounts, recorded sales for \n",
       "<mark class=\"entity\" style=\"background: #bfe1d9; padding: 0.45em 0.6em; margin: 0 0.25em; line-height: 1; border-radius: 0.35em;\">\n",
       "    the month\n",
       "    <span style=\"font-size: 0.8em; font-weight: bold; line-height: 1; border-radius: 0.35em; vertical-align: middle; margin-left: 0.5rem\">DATE</span>\n",
       "</mark>\n",
       ", recorded payroll journals, accrued payroll, recorded sales tax, submitted sales tax to \n",
       "<mark class=\"entity\" style=\"background: #feca74; padding: 0.45em 0.6em; margin: 0 0.25em; line-height: 1; border-radius: 0.35em;\">\n",
       "    NC\n",
       "    <span style=\"font-size: 0.8em; font-weight: bold; line-height: 1; border-radius: 0.35em; vertical-align: middle; margin-left: 0.5rem\">GPE</span>\n",
       "</mark>\n",
       " department of revenue, recorded inventory adjustments, and recorded balance sheet \n",
       "<mark class=\"entity\" style=\"background: #bfe1d9; padding: 0.45em 0.6em; margin: 0 0.25em; line-height: 1; border-radius: 0.35em;\">\n",
       "    month\n",
       "    <span style=\"font-size: 0.8em; font-weight: bold; line-height: 1; border-radius: 0.35em; vertical-align: middle; margin-left: 0.5rem\">DATE</span>\n",
       "</mark>\n",
       " end entries.  Entered all payables and receivables for the \n",
       "<mark class=\"entity\" style=\"background: #e4e7d2; padding: 0.45em 0.6em; margin: 0 0.25em; line-height: 1; border-radius: 0.35em;\">\n",
       "    7\n",
       "    <span style=\"font-size: 0.8em; font-weight: bold; line-height: 1; border-radius: 0.35em; vertical-align: middle; margin-left: 0.5rem\">CARDINAL</span>\n",
       "</mark>\n",
       " franchise locations.  Worked with vendors to resolve any situations that arose.  Reviewed and maintained that all needed franchise document were on file and up to date.  Worked directly with controller on \n",
       "<mark class=\"entity\" style=\"background: #bfe1d9; padding: 0.45em 0.6em; margin: 0 0.25em; line-height: 1; border-radius: 0.35em;\">\n",
       "    year-end\n",
       "    <span style=\"font-size: 0.8em; font-weight: bold; line-height: 1; border-radius: 0.35em; vertical-align: middle; margin-left: 0.5rem\">DATE</span>\n",
       "</mark>\n",
       " review.  Assembled all requested financial and legal \n",
       "<mark class=\"entity\" style=\"background: #ddd; padding: 0.45em 0.6em; margin: 0 0.25em; line-height: 1; border-radius: 0.35em;\">\n",
       "    documentation\n",
       "    <span style=\"font-size: 0.8em; font-weight: bold; line-height: 1; border-radius: 0.35em; vertical-align: middle; margin-left: 0.5rem\">SKILL</span>\n",
       "</mark>\n",
       " that was put into presentable formats.  \n",
       "<mark class=\"entity\" style=\"background: #feca74; padding: 0.45em 0.6em; margin: 0 0.25em; line-height: 1; border-radius: 0.35em;\">\n",
       "    Maintained\n",
       "    <span style=\"font-size: 0.8em; font-weight: bold; line-height: 1; border-radius: 0.35em; vertical-align: middle; margin-left: 0.5rem\">GPE</span>\n",
       "</mark>\n",
       " \n",
       "<mark class=\"entity\" style=\"background: #bfe1d9; padding: 0.45em 0.6em; margin: 0 0.25em; line-height: 1; border-radius: 0.35em;\">\n",
       "    weekly\n",
       "    <span style=\"font-size: 0.8em; font-weight: bold; line-height: 1; border-radius: 0.35em; vertical-align: middle; margin-left: 0.5rem\">DATE</span>\n",
       "</mark>\n",
       " spreadsheet on collected franchise royalties and \n",
       "<mark class=\"entity\" style=\"background: #ddd; padding: 0.45em 0.6em; margin: 0 0.25em; line-height: 1; border-radius: 0.35em;\">\n",
       "    advertising\n",
       "    <span style=\"font-size: 0.8em; font-weight: bold; line-height: 1; border-radius: 0.35em; vertical-align: middle; margin-left: 0.5rem\">SKILL</span>\n",
       "</mark>\n",
       " fees.  This spreadsheet is used for \n",
       "<mark class=\"entity\" style=\"background: #bfe1d9; padding: 0.45em 0.6em; margin: 0 0.25em; line-height: 1; border-radius: 0.35em;\">\n",
       "    the year-end\n",
       "    <span style=\"font-size: 0.8em; font-weight: bold; line-height: 1; border-radius: 0.35em; vertical-align: middle; margin-left: 0.5rem\">DATE</span>\n",
       "</mark>\n",
       " audit.  Managed a company that owned and rented out \n",
       "<mark class=\"entity\" style=\"background: #e4e7d2; padding: 0.45em 0.6em; margin: 0 0.25em; line-height: 1; border-radius: 0.35em;\">\n",
       "    12\n",
       "    <span style=\"font-size: 0.8em; font-weight: bold; line-height: 1; border-radius: 0.35em; vertical-align: middle; margin-left: 0.5rem\">CARDINAL</span>\n",
       "</mark>\n",
       " commercial properties of a shopping center to approved businesses.  Responsible for: negotiating rent rates for new or renewing tenants, writing leases, collecting rent, cash flow management, payables, and resolving any tenant complaints or inquires.  Managed a company that was a small farming entity.  Responsible for maintaining cash flow, all payables, and setting up credit accounts with vendors.  Entered all payroll journals and maintained cash flow for company that employed labor to work at farming entity.  Filed \n",
       "<mark class=\"entity\" style=\"background: #feca74; padding: 0.45em 0.6em; margin: 0 0.25em; line-height: 1; border-radius: 0.35em;\">\n",
       "    North Carolina\n",
       "    <span style=\"font-size: 0.8em; font-weight: bold; line-height: 1; border-radius: 0.35em; vertical-align: middle; margin-left: 0.5rem\">GPE</span>\n",
       "</mark>\n",
       " Annual Report for all companies managed by \n",
       "<mark class=\"entity\" style=\"background: #7aecec; padding: 0.45em 0.6em; margin: 0 0.25em; line-height: 1; border-radius: 0.35em;\">\n",
       "    Cary Keisler Inc.\n",
       "    <span style=\"font-size: 0.8em; font-weight: bold; line-height: 1; border-radius: 0.35em; vertical-align: middle; margin-left: 0.5rem\">ORG</span>\n",
       "</mark>\n",
       "  and verified that all were current on their filings.          Staff Accountant    \n",
       "<mark class=\"entity\" style=\"background: #bfe1d9; padding: 0.45em 0.6em; margin: 0 0.25em; line-height: 1; border-radius: 0.35em;\">\n",
       "    March 2013\n",
       "    <span style=\"font-size: 0.8em; font-weight: bold; line-height: 1; border-radius: 0.35em; vertical-align: middle; margin-left: 0.5rem\">DATE</span>\n",
       "</mark>\n",
       "   to   \n",
       "<mark class=\"entity\" style=\"background: #bfe1d9; padding: 0.45em 0.6em; margin: 0 0.25em; line-height: 1; border-radius: 0.35em;\">\n",
       "    January 2014\n",
       "    <span style=\"font-size: 0.8em; font-weight: bold; line-height: 1; border-radius: 0.35em; vertical-align: middle; margin-left: 0.5rem\">DATE</span>\n",
       "</mark>\n",
       "     Company Name   －   City  ,   State      Collect \n",
       "<mark class=\"entity\" style=\"background: #bfe1d9; padding: 0.45em 0.6em; margin: 0 0.25em; line-height: 1; border-radius: 0.35em;\">\n",
       "    daily\n",
       "    <span style=\"font-size: 0.8em; font-weight: bold; line-height: 1; border-radius: 0.35em; vertical-align: middle; margin-left: 0.5rem\">DATE</span>\n",
       "</mark>\n",
       " deposits for newly entered \n",
       "<mark class=\"entity\" style=\"background: #bfeeb7; padding: 0.45em 0.6em; margin: 0 0.25em; line-height: 1; border-radius: 0.35em;\">\n",
       "    SOs\n",
       "    <span style=\"font-size: 0.8em; font-weight: bold; line-height: 1; border-radius: 0.35em; vertical-align: middle; margin-left: 0.5rem\">PRODUCT</span>\n",
       "</mark>\n",
       " as well the balance for any SO that has completed once a job status report has been ran.  Interact directly with customers on outstanding deposits and balances due.  Responsible for all \n",
       "<mark class=\"entity\" style=\"background: #feca74; padding: 0.45em 0.6em; margin: 0 0.25em; line-height: 1; border-radius: 0.35em;\">\n",
       "    PO\n",
       "    <span style=\"font-size: 0.8em; font-weight: bold; line-height: 1; border-radius: 0.35em; vertical-align: middle; margin-left: 0.5rem\">GPE</span>\n",
       "</mark>\n",
       " and non \n",
       "<mark class=\"entity\" style=\"background: #7aecec; padding: 0.45em 0.6em; margin: 0 0.25em; line-height: 1; border-radius: 0.35em;\">\n",
       "    PO\n",
       "    <span style=\"font-size: 0.8em; font-weight: bold; line-height: 1; border-radius: 0.35em; vertical-align: middle; margin-left: 0.5rem\">ORG</span>\n",
       "</mark>\n",
       " payable entry/coding for all companies.  Work directly with vendors to resolve and discrepancy with payables.  Pull \n",
       "<mark class=\"entity\" style=\"background: #bfe1d9; padding: 0.45em 0.6em; margin: 0 0.25em; line-height: 1; border-radius: 0.35em;\">\n",
       "    weekly\n",
       "    <span style=\"font-size: 0.8em; font-weight: bold; line-height: 1; border-radius: 0.35em; vertical-align: middle; margin-left: 0.5rem\">DATE</span>\n",
       "</mark>\n",
       "-unpaid bills reports that are used for cash flow projections.  \n",
       "<mark class=\"entity\" style=\"background: #aa9cfc; padding: 0.45em 0.6em; margin: 0 0.25em; line-height: 1; border-radius: 0.35em;\">\n",
       "    Complete\n",
       "    <span style=\"font-size: 0.8em; font-weight: bold; line-height: 1; border-radius: 0.35em; vertical-align: middle; margin-left: 0.5rem\">PERSON</span>\n",
       "</mark>\n",
       " \n",
       "<mark class=\"entity\" style=\"background: #bfe1d9; padding: 0.45em 0.6em; margin: 0 0.25em; line-height: 1; border-radius: 0.35em;\">\n",
       "    weekly\n",
       "    <span style=\"font-size: 0.8em; font-weight: bold; line-height: 1; border-radius: 0.35em; vertical-align: middle; margin-left: 0.5rem\">DATE</span>\n",
       "</mark>\n",
       " check run for all companies.  Reconcile \n",
       "<mark class=\"entity\" style=\"background: #bfe1d9; padding: 0.45em 0.6em; margin: 0 0.25em; line-height: 1; border-radius: 0.35em;\">\n",
       "    monthly\n",
       "    <span style=\"font-size: 0.8em; font-weight: bold; line-height: 1; border-radius: 0.35em; vertical-align: middle; margin-left: 0.5rem\">DATE</span>\n",
       "</mark>\n",
       " purchasing \n",
       "<mark class=\"entity\" style=\"background: #7aecec; padding: 0.45em 0.6em; margin: 0 0.25em; line-height: 1; border-radius: 0.35em;\">\n",
       "    American Express\n",
       "    <span style=\"font-size: 0.8em; font-weight: bold; line-height: 1; border-radius: 0.35em; vertical-align: middle; margin-left: 0.5rem\">ORG</span>\n",
       "</mark>\n",
       " credit card that ranges from $\n",
       "<mark class=\"entity\" style=\"background: #e4e7d2; padding: 0.45em 0.6em; margin: 0 0.25em; line-height: 1; border-radius: 0.35em;\">\n",
       "    60,000.00\n",
       "    <span style=\"font-size: 0.8em; font-weight: bold; line-height: 1; border-radius: 0.35em; vertical-align: middle; margin-left: 0.5rem\">MONEY</span>\n",
       "</mark>\n",
       " - $100,000.00+.  Helped facilitate roll of purchasing manager during turnover period from \n",
       "<mark class=\"entity\" style=\"background: #bfe1d9; padding: 0.45em 0.6em; margin: 0 0.25em; line-height: 1; border-radius: 0.35em;\">\n",
       "    September 2013 - December 2013\n",
       "    <span style=\"font-size: 0.8em; font-weight: bold; line-height: 1; border-radius: 0.35em; vertical-align: middle; margin-left: 0.5rem\">DATE</span>\n",
       "</mark>\n",
       ".  Responsible for ordering needed materials/supplies for factory production floor.  Worked directly with \n",
       "<mark class=\"entity\" style=\"background: #7aecec; padding: 0.45em 0.6em; margin: 0 0.25em; line-height: 1; border-radius: 0.35em;\">\n",
       "    VP of Finance\n",
       "    <span style=\"font-size: 0.8em; font-weight: bold; line-height: 1; border-radius: 0.35em; vertical-align: middle; margin-left: 0.5rem\">ORG</span>\n",
       "</mark>\n",
       " and members of the production floor in collection of data to develop unit valuation.  This information combined with continued data collection is being used for future bills of materials and job costing.          Staff Accountant    \n",
       "<mark class=\"entity\" style=\"background: #bfe1d9; padding: 0.45em 0.6em; margin: 0 0.25em; line-height: 1; border-radius: 0.35em;\">\n",
       "    April 2012\n",
       "    <span style=\"font-size: 0.8em; font-weight: bold; line-height: 1; border-radius: 0.35em; vertical-align: middle; margin-left: 0.5rem\">DATE</span>\n",
       "</mark>\n",
       "   to   \n",
       "<mark class=\"entity\" style=\"background: #bfe1d9; padding: 0.45em 0.6em; margin: 0 0.25em; line-height: 1; border-radius: 0.35em;\">\n",
       "    March 2013\n",
       "    <span style=\"font-size: 0.8em; font-weight: bold; line-height: 1; border-radius: 0.35em; vertical-align: middle; margin-left: 0.5rem\">DATE</span>\n",
       "</mark>\n",
       "     Company Name   －     State      Lead reconciliation of \n",
       "<mark class=\"entity\" style=\"background: #7aecec; padding: 0.45em 0.6em; margin: 0 0.25em; line-height: 1; border-radius: 0.35em;\">\n",
       "    Balance Sheet\n",
       "    <span style=\"font-size: 0.8em; font-weight: bold; line-height: 1; border-radius: 0.35em; vertical-align: middle; margin-left: 0.5rem\">ORG</span>\n",
       "</mark>\n",
       " to ensure no discrepancy with \n",
       "<mark class=\"entity\" style=\"background: #7aecec; padding: 0.45em 0.6em; margin: 0 0.25em; line-height: 1; border-radius: 0.35em;\">\n",
       "    General Ledger.  \n",
       "    <span style=\"font-size: 0.8em; font-weight: bold; line-height: 1; border-radius: 0.35em; vertical-align: middle; margin-left: 0.5rem\">ORG</span>\n",
       "</mark>\n",
       "Research and resolve any transaction deviating from ordinary operations.  \n",
       "<mark class=\"entity\" style=\"background: #7aecec; padding: 0.45em 0.6em; margin: 0 0.25em; line-height: 1; border-radius: 0.35em;\">\n",
       "    Run Project Cost Reconciliation\n",
       "    <span style=\"font-size: 0.8em; font-weight: bold; line-height: 1; border-radius: 0.35em; vertical-align: middle; margin-left: 0.5rem\">ORG</span>\n",
       "</mark>\n",
       " at \n",
       "<mark class=\"entity\" style=\"background: #bfe1d9; padding: 0.45em 0.6em; margin: 0 0.25em; line-height: 1; border-radius: 0.35em;\">\n",
       "    month end\n",
       "    <span style=\"font-size: 0.8em; font-weight: bold; line-height: 1; border-radius: 0.35em; vertical-align: middle; margin-left: 0.5rem\">DATE</span>\n",
       "</mark>\n",
       " to ensure all billable expenses are posted to a project.  This ensures all enries are posted to the correct project and \n",
       "<mark class=\"entity\" style=\"background: #7aecec; padding: 0.45em 0.6em; margin: 0 0.25em; line-height: 1; border-radius: 0.35em;\">\n",
       "    General Ledger\n",
       "    <span style=\"font-size: 0.8em; font-weight: bold; line-height: 1; border-radius: 0.35em; vertical-align: middle; margin-left: 0.5rem\">ORG</span>\n",
       "</mark>\n",
       " account.  This provides billing information as well as the correct bottom line for each project.  \n",
       "<mark class=\"entity\" style=\"background: #ddd; padding: 0.45em 0.6em; margin: 0 0.25em; line-height: 1; border-radius: 0.35em;\">\n",
       "    Design\n",
       "    <span style=\"font-size: 0.8em; font-weight: bold; line-height: 1; border-radius: 0.35em; vertical-align: middle; margin-left: 0.5rem\">SKILL</span>\n",
       "</mark>\n",
       " Excel Spreadsheet for prepaid employee benefits for \n",
       "<mark class=\"entity\" style=\"background: #7aecec; padding: 0.45em 0.6em; margin: 0 0.25em; line-height: 1; border-radius: 0.35em;\">\n",
       "    EOM\n",
       "    <span style=\"font-size: 0.8em; font-weight: bold; line-height: 1; border-radius: 0.35em; vertical-align: middle; margin-left: 0.5rem\">ORG</span>\n",
       "</mark>\n",
       " reconciliation purposes.  \n",
       "<mark class=\"entity\" style=\"background: #7aecec; padding: 0.45em 0.6em; margin: 0 0.25em; line-height: 1; border-radius: 0.35em;\">\n",
       "    Reconcile American Express\n",
       "    <span style=\"font-size: 0.8em; font-weight: bold; line-height: 1; border-radius: 0.35em; vertical-align: middle; margin-left: 0.5rem\">ORG</span>\n",
       "</mark>\n",
       " accounts for SDI and \n",
       "<mark class=\"entity\" style=\"background: #aa9cfc; padding: 0.45em 0.6em; margin: 0 0.25em; line-height: 1; border-radius: 0.35em;\">\n",
       "    Battleware\n",
       "    <span style=\"font-size: 0.8em; font-weight: bold; line-height: 1; border-radius: 0.35em; vertical-align: middle; margin-left: 0.5rem\">PERSON</span>\n",
       "</mark>\n",
       ".  \n",
       "<mark class=\"entity\" style=\"background: #7aecec; padding: 0.45em 0.6em; margin: 0 0.25em; line-height: 1; border-radius: 0.35em;\">\n",
       "    10 Accounts) Responsible\n",
       "    <span style=\"font-size: 0.8em; font-weight: bold; line-height: 1; border-radius: 0.35em; vertical-align: middle; margin-left: 0.5rem\">ORG</span>\n",
       "</mark>\n",
       " for all entry and custodial book keeping of SDI's fixed assets for depreciation purposes.  Daily reconciliation SDI's Operating, \n",
       "<mark class=\"entity\" style=\"background: #7aecec; padding: 0.45em 0.6em; margin: 0 0.25em; line-height: 1; border-radius: 0.35em;\">\n",
       "    Interest Sweep\n",
       "    <span style=\"font-size: 0.8em; font-weight: bold; line-height: 1; border-radius: 0.35em; vertical-align: middle; margin-left: 0.5rem\">ORG</span>\n",
       "</mark>\n",
       ", and \n",
       "<mark class=\"entity\" style=\"background: #7aecec; padding: 0.45em 0.6em; margin: 0 0.25em; line-height: 1; border-radius: 0.35em;\">\n",
       "    Line of Credit\n",
       "    <span style=\"font-size: 0.8em; font-weight: bold; line-height: 1; border-radius: 0.35em; vertical-align: middle; margin-left: 0.5rem\">ORG</span>\n",
       "</mark>\n",
       " accounts for most accurate cash projections.  Responsible for coding and entry of all Payables items for SDI and \n",
       "<mark class=\"entity\" style=\"background: #aa9cfc; padding: 0.45em 0.6em; margin: 0 0.25em; line-height: 1; border-radius: 0.35em;\">\n",
       "    Battleware\n",
       "    <span style=\"font-size: 0.8em; font-weight: bold; line-height: 1; border-radius: 0.35em; vertical-align: middle; margin-left: 0.5rem\">PERSON</span>\n",
       "</mark>\n",
       ".  \n",
       "<mark class=\"entity\" style=\"background: #7aecec; padding: 0.45em 0.6em; margin: 0 0.25em; line-height: 1; border-radius: 0.35em;\">\n",
       "    Prepare monthly Sales\n",
       "    <span style=\"font-size: 0.8em; font-weight: bold; line-height: 1; border-radius: 0.35em; vertical-align: middle; margin-left: 0.5rem\">ORG</span>\n",
       "</mark>\n",
       " and Use Tax.          \n",
       "<mark class=\"entity\" style=\"background: #7aecec; padding: 0.45em 0.6em; margin: 0 0.25em; line-height: 1; border-radius: 0.35em;\">\n",
       "    Financial Management Partner\n",
       "    <span style=\"font-size: 0.8em; font-weight: bold; line-height: 1; border-radius: 0.35em; vertical-align: middle; margin-left: 0.5rem\">ORG</span>\n",
       "</mark>\n",
       "    \n",
       "<mark class=\"entity\" style=\"background: #bfe1d9; padding: 0.45em 0.6em; margin: 0 0.25em; line-height: 1; border-radius: 0.35em;\">\n",
       "    July 2010\n",
       "    <span style=\"font-size: 0.8em; font-weight: bold; line-height: 1; border-radius: 0.35em; vertical-align: middle; margin-left: 0.5rem\">DATE</span>\n",
       "</mark>\n",
       "   to   \n",
       "<mark class=\"entity\" style=\"background: #bfe1d9; padding: 0.45em 0.6em; margin: 0 0.25em; line-height: 1; border-radius: 0.35em;\">\n",
       "    August 2011\n",
       "    <span style=\"font-size: 0.8em; font-weight: bold; line-height: 1; border-radius: 0.35em; vertical-align: middle; margin-left: 0.5rem\">DATE</span>\n",
       "</mark>\n",
       "     Company Name   －   City  ,   State      Identified, reported, tracked, and resolved subsidiary ledger discrepancies in all phases of the revenues and receivables \n",
       "<mark class=\"entity\" style=\"background: #ddd; padding: 0.45em 0.6em; margin: 0 0.25em; line-height: 1; border-radius: 0.35em;\">\n",
       "    accounting\n",
       "    <span style=\"font-size: 0.8em; font-weight: bold; line-height: 1; border-radius: 0.35em; vertical-align: middle; margin-left: 0.5rem\">SKILL</span>\n",
       "</mark>\n",
       " processes.  Provide an end to end financial statement assurance and accurate presentation by aiding and completing tasks in all areas of operations; performing all \n",
       "<mark class=\"entity\" style=\"background: #bfe1d9; padding: 0.45em 0.6em; margin: 0 0.25em; line-height: 1; border-radius: 0.35em;\">\n",
       "    monthly\n",
       "    <span style=\"font-size: 0.8em; font-weight: bold; line-height: 1; border-radius: 0.35em; vertical-align: middle; margin-left: 0.5rem\">DATE</span>\n",
       "</mark>\n",
       " bank reconciliations, applying all required financial regulations in preparing and delivery of financial statements.  \n",
       "<mark class=\"entity\" style=\"background: #aa9cfc; padding: 0.45em 0.6em; margin: 0 0.25em; line-height: 1; border-radius: 0.35em;\">\n",
       "    Provided Support\n",
       "    <span style=\"font-size: 0.8em; font-weight: bold; line-height: 1; border-radius: 0.35em; vertical-align: middle; margin-left: 0.5rem\">PERSON</span>\n",
       "</mark>\n",
       " to clients and other employees via email on implementations, \n",
       "<mark class=\"entity\" style=\"background: #ddd; padding: 0.45em 0.6em; margin: 0 0.25em; line-height: 1; border-radius: 0.35em;\">\n",
       "    software\n",
       "    <span style=\"font-size: 0.8em; font-weight: bold; line-height: 1; border-radius: 0.35em; vertical-align: middle; margin-left: 0.5rem\">SKILL</span>\n",
       "</mark>\n",
       " \n",
       "<mark class=\"entity\" style=\"background: #ddd; padding: 0.45em 0.6em; margin: 0 0.25em; line-height: 1; border-radius: 0.35em;\">\n",
       "    support\n",
       "    <span style=\"font-size: 0.8em; font-weight: bold; line-height: 1; border-radius: 0.35em; vertical-align: middle; margin-left: 0.5rem\">SKILL</span>\n",
       "</mark>\n",
       ", and financial reporting issues in all aspects of day-to-\n",
       "<mark class=\"entity\" style=\"background: #bfe1d9; padding: 0.45em 0.6em; margin: 0 0.25em; line-height: 1; border-radius: 0.35em;\">\n",
       "    day\n",
       "    <span style=\"font-size: 0.8em; font-weight: bold; line-height: 1; border-radius: 0.35em; vertical-align: middle; margin-left: 0.5rem\">DATE</span>\n",
       "</mark>\n",
       " operations.  Trained new \n",
       "<mark class=\"entity\" style=\"background: #ddd; padding: 0.45em 0.6em; margin: 0 0.25em; line-height: 1; border-radius: 0.35em;\">\n",
       "    accounting\n",
       "    <span style=\"font-size: 0.8em; font-weight: bold; line-height: 1; border-radius: 0.35em; vertical-align: middle; margin-left: 0.5rem\">SKILL</span>\n",
       "</mark>\n",
       " department employees with functionality demonstration to assist in proficient \n",
       "<mark class=\"entity\" style=\"background: #ddd; padding: 0.45em 0.6em; margin: 0 0.25em; line-height: 1; border-radius: 0.35em;\">\n",
       "    accounting\n",
       "    <span style=\"font-size: 0.8em; font-weight: bold; line-height: 1; border-radius: 0.35em; vertical-align: middle; margin-left: 0.5rem\">SKILL</span>\n",
       "</mark>\n",
       " \n",
       "<mark class=\"entity\" style=\"background: #ddd; padding: 0.45em 0.6em; margin: 0 0.25em; line-height: 1; border-radius: 0.35em;\">\n",
       "    support\n",
       "    <span style=\"font-size: 0.8em; font-weight: bold; line-height: 1; border-radius: 0.35em; vertical-align: middle; margin-left: 0.5rem\">SKILL</span>\n",
       "</mark>\n",
       " and \n",
       "<mark class=\"entity\" style=\"background: #ddd; padding: 0.45em 0.6em; margin: 0 0.25em; line-height: 1; border-radius: 0.35em;\">\n",
       "    software\n",
       "    <span style=\"font-size: 0.8em; font-weight: bold; line-height: 1; border-radius: 0.35em; vertical-align: middle; margin-left: 0.5rem\">SKILL</span>\n",
       "</mark>\n",
       " transitioning i.e.  \n",
       "<mark class=\"entity\" style=\"background: #7aecec; padding: 0.45em 0.6em; margin: 0 0.25em; line-height: 1; border-radius: 0.35em;\">\n",
       "    QuickBooks\n",
       "    <span style=\"font-size: 0.8em; font-weight: bold; line-height: 1; border-radius: 0.35em; vertical-align: middle; margin-left: 0.5rem\">ORG</span>\n",
       "</mark>\n",
       ", Peachtree and excel transitioning.  Able to perform duties of all departments of \n",
       "<mark class=\"entity\" style=\"background: #ddd; padding: 0.45em 0.6em; margin: 0 0.25em; line-height: 1; border-radius: 0.35em;\">\n",
       "    accounting\n",
       "    <span style=\"font-size: 0.8em; font-weight: bold; line-height: 1; border-radius: 0.35em; vertical-align: middle; margin-left: 0.5rem\">SKILL</span>\n",
       "</mark>\n",
       " including accounts payable, accounts receivable, legal coordination and transactional audit and review.  \n",
       "<mark class=\"entity\" style=\"background: #aa9cfc; padding: 0.45em 0.6em; margin: 0 0.25em; line-height: 1; border-radius: 0.35em;\">\n",
       "    Coordinate Lien\n",
       "    <span style=\"font-size: 0.8em; font-weight: bold; line-height: 1; border-radius: 0.35em; vertical-align: middle; margin-left: 0.5rem\">PERSON</span>\n",
       "</mark>\n",
       " and Foreclosure preparations, research ownership status and balance histories in order to accurately file legal claims on behalf of our cliental.  \n",
       "<mark class=\"entity\" style=\"background: #aa9cfc; padding: 0.45em 0.6em; margin: 0 0.25em; line-height: 1; border-radius: 0.35em;\">\n",
       "    Constant\n",
       "    <span style=\"font-size: 0.8em; font-weight: bold; line-height: 1; border-radius: 0.35em; vertical-align: middle; margin-left: 0.5rem\">PERSON</span>\n",
       "</mark>\n",
       " analysis of all clients' interim financial reports and comparative statements to verify the validity and monitor for inconsistency.  Prepare variance reports and explanations to quickly summarize areas of increased variances in expenses.  Assist other areas of management in fund \n",
       "<mark class=\"entity\" style=\"background: #ddd; padding: 0.45em 0.6em; margin: 0 0.25em; line-height: 1; border-radius: 0.35em;\">\n",
       "    accounting\n",
       "    <span style=\"font-size: 0.8em; font-weight: bold; line-height: 1; border-radius: 0.35em; vertical-align: middle; margin-left: 0.5rem\">SKILL</span>\n",
       "</mark>\n",
       " budget preparations and presentation at \n",
       "<mark class=\"entity\" style=\"background: #bfe1d9; padding: 0.45em 0.6em; margin: 0 0.25em; line-height: 1; border-radius: 0.35em;\">\n",
       "    annual\n",
       "    <span style=\"font-size: 0.8em; font-weight: bold; line-height: 1; border-radius: 0.35em; vertical-align: middle; margin-left: 0.5rem\">DATE</span>\n",
       "</mark>\n",
       " and \n",
       "<mark class=\"entity\" style=\"background: #bfe1d9; padding: 0.45em 0.6em; margin: 0 0.25em; line-height: 1; border-radius: 0.35em;\">\n",
       "    monthly\n",
       "    <span style=\"font-size: 0.8em; font-weight: bold; line-height: 1; border-radius: 0.35em; vertical-align: middle; margin-left: 0.5rem\">DATE</span>\n",
       "</mark>\n",
       " board meetings.  \n",
       "<mark class=\"entity\" style=\"background: #9cc9cc; padding: 0.45em 0.6em; margin: 0 0.25em; line-height: 1; border-radius: 0.35em;\">\n",
       "    Coordinate\n",
       "    <span style=\"font-size: 0.8em; font-weight: bold; line-height: 1; border-radius: 0.35em; vertical-align: middle; margin-left: 0.5rem\">FAC</span>\n",
       "</mark>\n",
       " and prepare materials for audits, review, and tax returns.  Assist in \n",
       "<mark class=\"entity\" style=\"background: #bfe1d9; padding: 0.45em 0.6em; margin: 0 0.25em; line-height: 1; border-radius: 0.35em;\">\n",
       "    annual\n",
       "    <span style=\"font-size: 0.8em; font-weight: bold; line-height: 1; border-radius: 0.35em; vertical-align: middle; margin-left: 0.5rem\">DATE</span>\n",
       "</mark>\n",
       " budget preparations, prepare billings for all cycles, perform \n",
       "<mark class=\"entity\" style=\"background: #bfe1d9; padding: 0.45em 0.6em; margin: 0 0.25em; line-height: 1; border-radius: 0.35em;\">\n",
       "    all adjusting month end\n",
       "    <span style=\"font-size: 0.8em; font-weight: bold; line-height: 1; border-radius: 0.35em; vertical-align: middle; margin-left: 0.5rem\">DATE</span>\n",
       "</mark>\n",
       " transactions and required \n",
       "<mark class=\"entity\" style=\"background: #7aecec; padding: 0.45em 0.6em; margin: 0 0.25em; line-height: 1; border-radius: 0.35em;\">\n",
       "    G/L\n",
       "    <span style=\"font-size: 0.8em; font-weight: bold; line-height: 1; border-radius: 0.35em; vertical-align: middle; margin-left: 0.5rem\">ORG</span>\n",
       "</mark>\n",
       " posting entries required to correct errors or balance discrepancies.          Interests    Alpha Sigma Phi: Officer and Chair positions          \n",
       "<mark class=\"entity\" style=\"background: #bfe1d9; padding: 0.45em 0.6em; margin: 0 0.25em; line-height: 1; border-radius: 0.35em;\">\n",
       "    January 2006-\n",
       "    <span style=\"font-size: 0.8em; font-weight: bold; line-height: 1; border-radius: 0.35em; vertical-align: middle; margin-left: 0.5rem\">DATE</span>\n",
       "</mark>\n",
       " \n",
       "<mark class=\"entity\" style=\"background: #bfe1d9; padding: 0.45em 0.6em; margin: 0 0.25em; line-height: 1; border-radius: 0.35em;\">\n",
       "    May 2010\n",
       "    <span style=\"font-size: 0.8em; font-weight: bold; line-height: 1; border-radius: 0.35em; vertical-align: middle; margin-left: 0.5rem\">DATE</span>\n",
       "</mark>\n",
       " Vice President \n",
       "<mark class=\"entity\" style=\"background: #7aecec; padding: 0.45em 0.6em; margin: 0 0.25em; line-height: 1; border-radius: 0.35em;\">\n",
       "    Social Chair\n",
       "    <span style=\"font-size: 0.8em; font-weight: bold; line-height: 1; border-radius: 0.35em; vertical-align: middle; margin-left: 0.5rem\">ORG</span>\n",
       "</mark>\n",
       " Greek Week \n",
       "<mark class=\"entity\" style=\"background: #7aecec; padding: 0.45em 0.6em; margin: 0 0.25em; line-height: 1; border-radius: 0.35em;\">\n",
       "    Delegate Livestrong Foundation\n",
       "    <span style=\"font-size: 0.8em; font-weight: bold; line-height: 1; border-radius: 0.35em; vertical-align: middle; margin-left: 0.5rem\">ORG</span>\n",
       "</mark>\n",
       ": Bike-a-thon       Skills    \n",
       "<mark class=\"entity\" style=\"background: #ddd; padding: 0.45em 0.6em; margin: 0 0.25em; line-height: 1; border-radius: 0.35em;\">\n",
       "    accounting\n",
       "    <span style=\"font-size: 0.8em; font-weight: bold; line-height: 1; border-radius: 0.35em; vertical-align: middle; margin-left: 0.5rem\">SKILL</span>\n",
       "</mark>\n",
       ", accounts payable, \n",
       "<mark class=\"entity\" style=\"background: #7aecec; padding: 0.45em 0.6em; margin: 0 0.25em; line-height: 1; border-radius: 0.35em;\">\n",
       "    Accounts Receivable\n",
       "    <span style=\"font-size: 0.8em; font-weight: bold; line-height: 1; border-radius: 0.35em; vertical-align: middle; margin-left: 0.5rem\">ORG</span>\n",
       "</mark>\n",
       ", \n",
       "<mark class=\"entity\" style=\"background: #7aecec; padding: 0.45em 0.6em; margin: 0 0.25em; line-height: 1; border-radius: 0.35em;\">\n",
       "    ADP\n",
       "    <span style=\"font-size: 0.8em; font-weight: bold; line-height: 1; border-radius: 0.35em; vertical-align: middle; margin-left: 0.5rem\">ORG</span>\n",
       "</mark>\n",
       ", \n",
       "<mark class=\"entity\" style=\"background: #ddd; padding: 0.45em 0.6em; margin: 0 0.25em; line-height: 1; border-radius: 0.35em;\">\n",
       "    advertising\n",
       "    <span style=\"font-size: 0.8em; font-weight: bold; line-height: 1; border-radius: 0.35em; vertical-align: middle; margin-left: 0.5rem\">SKILL</span>\n",
       "</mark>\n",
       ", \n",
       "<mark class=\"entity\" style=\"background: #7aecec; padding: 0.45em 0.6em; margin: 0 0.25em; line-height: 1; border-radius: 0.35em;\">\n",
       "    AR\n",
       "    <span style=\"font-size: 0.8em; font-weight: bold; line-height: 1; border-radius: 0.35em; vertical-align: middle; margin-left: 0.5rem\">ORG</span>\n",
       "</mark>\n",
       ", balance sheet, balance, bank reconciliations, benefits, billing, billings, book keeping, budget, cash flow projections, cash flow, controller, \n",
       "<mark class=\"entity\" style=\"background: #7aecec; padding: 0.45em 0.6em; margin: 0 0.25em; line-height: 1; border-radius: 0.35em;\">\n",
       "    Credit\n",
       "    <span style=\"font-size: 0.8em; font-weight: bold; line-height: 1; border-radius: 0.35em; vertical-align: middle; margin-left: 0.5rem\">ORG</span>\n",
       "</mark>\n",
       ", clients, data collection, delivery, \n",
       "<mark class=\"entity\" style=\"background: #ddd; padding: 0.45em 0.6em; margin: 0 0.25em; line-height: 1; border-radius: 0.35em;\">\n",
       "    documentation\n",
       "    <span style=\"font-size: 0.8em; font-weight: bold; line-height: 1; border-radius: 0.35em; vertical-align: middle; margin-left: 0.5rem\">SKILL</span>\n",
       "</mark>\n",
       ", email, \n",
       "<mark class=\"entity\" style=\"background: #7aecec; padding: 0.45em 0.6em; margin: 0 0.25em; line-height: 1; border-radius: 0.35em;\">\n",
       "    Finance\n",
       "    <span style=\"font-size: 0.8em; font-weight: bold; line-height: 1; border-radius: 0.35em; vertical-align: middle; margin-left: 0.5rem\">ORG</span>\n",
       "</mark>\n",
       ", financial, financial reporting, financial statements, fixed assets, \n",
       "<mark class=\"entity\" style=\"background: #7aecec; padding: 0.45em 0.6em; margin: 0 0.25em; line-height: 1; border-radius: 0.35em;\">\n",
       "    General Ledger\n",
       "    <span style=\"font-size: 0.8em; font-weight: bold; line-height: 1; border-radius: 0.35em; vertical-align: middle; margin-left: 0.5rem\">ORG</span>\n",
       "</mark>\n",
       ", inventory, job costing, ledger, legal, materials, meetings, \n",
       "<mark class=\"entity\" style=\"background: #7aecec; padding: 0.45em 0.6em; margin: 0 0.25em; line-height: 1; border-radius: 0.35em;\">\n",
       "    Microsoft Access\n",
       "    <span style=\"font-size: 0.8em; font-weight: bold; line-height: 1; border-radius: 0.35em; vertical-align: middle; margin-left: 0.5rem\">ORG</span>\n",
       "</mark>\n",
       ", \n",
       "<mark class=\"entity\" style=\"background: #7aecec; padding: 0.45em 0.6em; margin: 0 0.25em; line-height: 1; border-radius: 0.35em;\">\n",
       "    Microsoft\n",
       "    <span style=\"font-size: 0.8em; font-weight: bold; line-height: 1; border-radius: 0.35em; vertical-align: middle; margin-left: 0.5rem\">ORG</span>\n",
       "</mark>\n",
       " \n",
       "<mark class=\"entity\" style=\"background: #bfeeb7; padding: 0.45em 0.6em; margin: 0 0.25em; line-height: 1; border-radius: 0.35em;\">\n",
       "    Excel\n",
       "    <span style=\"font-size: 0.8em; font-weight: bold; line-height: 1; border-radius: 0.35em; vertical-align: middle; margin-left: 0.5rem\">PRODUCT</span>\n",
       "</mark>\n",
       ", \n",
       "<mark class=\"entity\" style=\"background: #bfeeb7; padding: 0.45em 0.6em; margin: 0 0.25em; line-height: 1; border-radius: 0.35em;\">\n",
       "    Excel\n",
       "    <span style=\"font-size: 0.8em; font-weight: bold; line-height: 1; border-radius: 0.35em; vertical-align: middle; margin-left: 0.5rem\">PRODUCT</span>\n",
       "</mark>\n",
       ", \n",
       "<mark class=\"entity\" style=\"background: #7aecec; padding: 0.45em 0.6em; margin: 0 0.25em; line-height: 1; border-radius: 0.35em;\">\n",
       "    Microsoft\n",
       "    <span style=\"font-size: 0.8em; font-weight: bold; line-height: 1; border-radius: 0.35em; vertical-align: middle; margin-left: 0.5rem\">ORG</span>\n",
       "</mark>\n",
       " Word, negotiating, DBA, \n",
       "<mark class=\"entity\" style=\"background: #7aecec; padding: 0.45em 0.6em; margin: 0 0.25em; line-height: 1; border-radius: 0.35em;\">\n",
       "    Payables\n",
       "    <span style=\"font-size: 0.8em; font-weight: bold; line-height: 1; border-radius: 0.35em; vertical-align: middle; margin-left: 0.5rem\">ORG</span>\n",
       "</mark>\n",
       ", payroll, Peachtree, processes, coding, purchasing, \n",
       "<mark class=\"entity\" style=\"background: #7aecec; padding: 0.45em 0.6em; margin: 0 0.25em; line-height: 1; border-radius: 0.35em;\">\n",
       "    Express\n",
       "    <span style=\"font-size: 0.8em; font-weight: bold; line-height: 1; border-radius: 0.35em; vertical-align: middle; margin-left: 0.5rem\">ORG</span>\n",
       "</mark>\n",
       ", \n",
       "<mark class=\"entity\" style=\"background: #7aecec; padding: 0.45em 0.6em; margin: 0 0.25em; line-height: 1; border-radius: 0.35em;\">\n",
       "    Quick Books\n",
       "    <span style=\"font-size: 0.8em; font-weight: bold; line-height: 1; border-radius: 0.35em; vertical-align: middle; margin-left: 0.5rem\">ORG</span>\n",
       "</mark>\n",
       ", \n",
       "<mark class=\"entity\" style=\"background: #7aecec; padding: 0.45em 0.6em; margin: 0 0.25em; line-height: 1; border-radius: 0.35em;\">\n",
       "    QuickBooks, Research, Sage, Sales\n",
       "    <span style=\"font-size: 0.8em; font-weight: bold; line-height: 1; border-radius: 0.35em; vertical-align: middle; margin-left: 0.5rem\">ORG</span>\n",
       "</mark>\n",
       ", \n",
       "<mark class=\"entity\" style=\"background: #aa9cfc; padding: 0.45em 0.6em; margin: 0 0.25em; line-height: 1; border-radius: 0.35em;\">\n",
       "    Spreadsheet\n",
       "    <span style=\"font-size: 0.8em; font-weight: bold; line-height: 1; border-radius: 0.35em; vertical-align: middle; margin-left: 0.5rem\">PERSON</span>\n",
       "</mark>\n",
       ", Tax, \n",
       "<mark class=\"entity\" style=\"background: #ddd; padding: 0.45em 0.6em; margin: 0 0.25em; line-height: 1; border-radius: 0.35em;\">\n",
       "    software\n",
       "    <span style=\"font-size: 0.8em; font-weight: bold; line-height: 1; border-radius: 0.35em; vertical-align: middle; margin-left: 0.5rem\">SKILL</span>\n",
       "</mark>\n",
       " \n",
       "<mark class=\"entity\" style=\"background: #ddd; padding: 0.45em 0.6em; margin: 0 0.25em; line-height: 1; border-radius: 0.35em;\">\n",
       "    support\n",
       "    <span style=\"font-size: 0.8em; font-weight: bold; line-height: 1; border-radius: 0.35em; vertical-align: middle; margin-left: 0.5rem\">SKILL</span>\n",
       "</mark>\n",
       ", valuation, \n",
       "<mark class=\"entity\" style=\"background: #bfe1d9; padding: 0.45em 0.6em; margin: 0 0.25em; line-height: 1; border-radius: 0.35em;\">\n",
       "    year-end\n",
       "    <span style=\"font-size: 0.8em; font-weight: bold; line-height: 1; border-radius: 0.35em; vertical-align: middle; margin-left: 0.5rem\">DATE</span>\n",
       "</mark>\n",
       "      Additional Information      Activities: Alpha Sigma Phi: Officer and Chair positions          \n",
       "<mark class=\"entity\" style=\"background: #bfe1d9; padding: 0.45em 0.6em; margin: 0 0.25em; line-height: 1; border-radius: 0.35em;\">\n",
       "    January 2006-\n",
       "    <span style=\"font-size: 0.8em; font-weight: bold; line-height: 1; border-radius: 0.35em; vertical-align: middle; margin-left: 0.5rem\">DATE</span>\n",
       "</mark>\n",
       " \n",
       "<mark class=\"entity\" style=\"background: #bfe1d9; padding: 0.45em 0.6em; margin: 0 0.25em; line-height: 1; border-radius: 0.35em;\">\n",
       "    May 2010\n",
       "    <span style=\"font-size: 0.8em; font-weight: bold; line-height: 1; border-radius: 0.35em; vertical-align: middle; margin-left: 0.5rem\">DATE</span>\n",
       "</mark>\n",
       " Vice President \n",
       "<mark class=\"entity\" style=\"background: #7aecec; padding: 0.45em 0.6em; margin: 0 0.25em; line-height: 1; border-radius: 0.35em;\">\n",
       "    Social Chair\n",
       "    <span style=\"font-size: 0.8em; font-weight: bold; line-height: 1; border-radius: 0.35em; vertical-align: middle; margin-left: 0.5rem\">ORG</span>\n",
       "</mark>\n",
       " Greek Week \n",
       "<mark class=\"entity\" style=\"background: #7aecec; padding: 0.45em 0.6em; margin: 0 0.25em; line-height: 1; border-radius: 0.35em;\">\n",
       "    Delegate Livestrong Foundation\n",
       "    <span style=\"font-size: 0.8em; font-weight: bold; line-height: 1; border-radius: 0.35em; vertical-align: middle; margin-left: 0.5rem\">ORG</span>\n",
       "</mark>\n",
       ": Bike-a-thon      </div></span>"
      ],
      "text/plain": [
       "<IPython.core.display.HTML object>"
      ]
     },
     "metadata": {},
     "output_type": "display_data"
    }
   ],
   "source": [
    "# Entity Recognition\n",
    "sent = nlp(data[\"Resume_str\"].iloc[0])\n",
    "displacy.render(sent, style=\"ent\", jupyter=True)"
   ]
  },
  {
   "cell_type": "code",
   "execution_count": 44,
   "metadata": {},
   "outputs": [
    {
     "data": {
      "text/html": [
       "<span class=\"tex2jax_ignore\"><svg xmlns=\"http://www.w3.org/2000/svg\" xmlns:xlink=\"http://www.w3.org/1999/xlink\" xml:lang=\"en\" id=\"79b50d2367c64fc38815c96545869de5-0\" class=\"displacy\" width=\"850\" height=\"297.0\" direction=\"ltr\" style=\"max-width: none; height: 297.0px; color: #000000; background: #ffffff; font-family: Arial; direction: ltr\">\n",
       "<text class=\"displacy-token\" fill=\"currentColor\" text-anchor=\"middle\" y=\"207.0\">\n",
       "    <tspan class=\"displacy-word\" fill=\"currentColor\" x=\"50\">         </tspan>\n",
       "    <tspan class=\"displacy-tag\" dy=\"2em\" fill=\"currentColor\" x=\"50\">SPACE</tspan>\n",
       "</text>\n",
       "\n",
       "<text class=\"displacy-token\" fill=\"currentColor\" text-anchor=\"middle\" y=\"207.0\">\n",
       "    <tspan class=\"displacy-word\" fill=\"currentColor\" x=\"130\">STAFF</tspan>\n",
       "    <tspan class=\"displacy-tag\" dy=\"2em\" fill=\"currentColor\" x=\"130\">VERB</tspan>\n",
       "</text>\n",
       "\n",
       "<text class=\"displacy-token\" fill=\"currentColor\" text-anchor=\"middle\" y=\"207.0\">\n",
       "    <tspan class=\"displacy-word\" fill=\"currentColor\" x=\"210\">ACCOUNTANT</tspan>\n",
       "    <tspan class=\"displacy-tag\" dy=\"2em\" fill=\"currentColor\" x=\"210\">PROPN</tspan>\n",
       "</text>\n",
       "\n",
       "<text class=\"displacy-token\" fill=\"currentColor\" text-anchor=\"middle\" y=\"207.0\">\n",
       "    <tspan class=\"displacy-word\" fill=\"currentColor\" x=\"290\">          </tspan>\n",
       "    <tspan class=\"displacy-tag\" dy=\"2em\" fill=\"currentColor\" x=\"290\">SPACE</tspan>\n",
       "</text>\n",
       "\n",
       "<text class=\"displacy-token\" fill=\"currentColor\" text-anchor=\"middle\" y=\"207.0\">\n",
       "    <tspan class=\"displacy-word\" fill=\"currentColor\" x=\"370\">Summary</tspan>\n",
       "    <tspan class=\"displacy-tag\" dy=\"2em\" fill=\"currentColor\" x=\"370\">PROPN</tspan>\n",
       "</text>\n",
       "\n",
       "<text class=\"displacy-token\" fill=\"currentColor\" text-anchor=\"middle\" y=\"207.0\">\n",
       "    <tspan class=\"displacy-word\" fill=\"currentColor\" x=\"450\">   </tspan>\n",
       "    <tspan class=\"displacy-tag\" dy=\"2em\" fill=\"currentColor\" x=\"450\">SPACE</tspan>\n",
       "</text>\n",
       "\n",
       "<text class=\"displacy-token\" fill=\"currentColor\" text-anchor=\"middle\" y=\"207.0\">\n",
       "    <tspan class=\"displacy-word\" fill=\"currentColor\" x=\"530\">Highly</tspan>\n",
       "    <tspan class=\"displacy-tag\" dy=\"2em\" fill=\"currentColor\" x=\"530\">ADV</tspan>\n",
       "</text>\n",
       "\n",
       "<text class=\"displacy-token\" fill=\"currentColor\" text-anchor=\"middle\" y=\"207.0\">\n",
       "    <tspan class=\"displacy-word\" fill=\"currentColor\" x=\"610\">analytical</tspan>\n",
       "    <tspan class=\"displacy-tag\" dy=\"2em\" fill=\"currentColor\" x=\"610\">ADJ</tspan>\n",
       "</text>\n",
       "\n",
       "<text class=\"displacy-token\" fill=\"currentColor\" text-anchor=\"middle\" y=\"207.0\">\n",
       "    <tspan class=\"displacy-word\" fill=\"currentColor\" x=\"690\">and</tspan>\n",
       "    <tspan class=\"displacy-tag\" dy=\"2em\" fill=\"currentColor\" x=\"690\">CCONJ</tspan>\n",
       "</text>\n",
       "\n",
       "<text class=\"displacy-token\" fill=\"currentColor\" text-anchor=\"middle\" y=\"207.0\">\n",
       "    <tspan class=\"displacy-word\" fill=\"currentColor\" x=\"770\">detail</tspan>\n",
       "    <tspan class=\"displacy-tag\" dy=\"2em\" fill=\"currentColor\" x=\"770\">NOUN</tspan>\n",
       "</text>\n",
       "\n",
       "<g class=\"displacy-arrow\">\n",
       "    <path class=\"displacy-arc\" id=\"arrow-79b50d2367c64fc38815c96545869de5-0-0\" stroke-width=\"2px\" d=\"M70,162.0 C70,122.0 115.0,122.0 115.0,162.0\" fill=\"none\" stroke=\"currentColor\"/>\n",
       "    <text dy=\"1.25em\" style=\"font-size: 0.8em; letter-spacing: 1px\">\n",
       "        <textPath xlink:href=\"#arrow-79b50d2367c64fc38815c96545869de5-0-0\" class=\"displacy-label\" startOffset=\"50%\" side=\"left\" fill=\"currentColor\" text-anchor=\"middle\">dep</textPath>\n",
       "    </text>\n",
       "    <path class=\"displacy-arrowhead\" d=\"M70,164.0 L62,152.0 78,152.0\" fill=\"currentColor\"/>\n",
       "</g>\n",
       "\n",
       "<g class=\"displacy-arrow\">\n",
       "    <path class=\"displacy-arc\" id=\"arrow-79b50d2367c64fc38815c96545869de5-0-1\" stroke-width=\"2px\" d=\"M230,162.0 C230,82.0 360.0,82.0 360.0,162.0\" fill=\"none\" stroke=\"currentColor\"/>\n",
       "    <text dy=\"1.25em\" style=\"font-size: 0.8em; letter-spacing: 1px\">\n",
       "        <textPath xlink:href=\"#arrow-79b50d2367c64fc38815c96545869de5-0-1\" class=\"displacy-label\" startOffset=\"50%\" side=\"left\" fill=\"currentColor\" text-anchor=\"middle\">compound</textPath>\n",
       "    </text>\n",
       "    <path class=\"displacy-arrowhead\" d=\"M230,164.0 L222,152.0 238,152.0\" fill=\"currentColor\"/>\n",
       "</g>\n",
       "\n",
       "<g class=\"displacy-arrow\">\n",
       "    <path class=\"displacy-arc\" id=\"arrow-79b50d2367c64fc38815c96545869de5-0-2\" stroke-width=\"2px\" d=\"M230,162.0 C230,122.0 275.0,122.0 275.0,162.0\" fill=\"none\" stroke=\"currentColor\"/>\n",
       "    <text dy=\"1.25em\" style=\"font-size: 0.8em; letter-spacing: 1px\">\n",
       "        <textPath xlink:href=\"#arrow-79b50d2367c64fc38815c96545869de5-0-2\" class=\"displacy-label\" startOffset=\"50%\" side=\"left\" fill=\"currentColor\" text-anchor=\"middle\">dep</textPath>\n",
       "    </text>\n",
       "    <path class=\"displacy-arrowhead\" d=\"M275.0,164.0 L283.0,152.0 267.0,152.0\" fill=\"currentColor\"/>\n",
       "</g>\n",
       "\n",
       "<g class=\"displacy-arrow\">\n",
       "    <path class=\"displacy-arc\" id=\"arrow-79b50d2367c64fc38815c96545869de5-0-3\" stroke-width=\"2px\" d=\"M390,162.0 C390,82.0 600.0,82.0 600.0,162.0\" fill=\"none\" stroke=\"currentColor\"/>\n",
       "    <text dy=\"1.25em\" style=\"font-size: 0.8em; letter-spacing: 1px\">\n",
       "        <textPath xlink:href=\"#arrow-79b50d2367c64fc38815c96545869de5-0-3\" class=\"displacy-label\" startOffset=\"50%\" side=\"left\" fill=\"currentColor\" text-anchor=\"middle\">npadvmod</textPath>\n",
       "    </text>\n",
       "    <path class=\"displacy-arrowhead\" d=\"M390,164.0 L382,152.0 398,152.0\" fill=\"currentColor\"/>\n",
       "</g>\n",
       "\n",
       "<g class=\"displacy-arrow\">\n",
       "    <path class=\"displacy-arc\" id=\"arrow-79b50d2367c64fc38815c96545869de5-0-4\" stroke-width=\"2px\" d=\"M390,162.0 C390,122.0 435.0,122.0 435.0,162.0\" fill=\"none\" stroke=\"currentColor\"/>\n",
       "    <text dy=\"1.25em\" style=\"font-size: 0.8em; letter-spacing: 1px\">\n",
       "        <textPath xlink:href=\"#arrow-79b50d2367c64fc38815c96545869de5-0-4\" class=\"displacy-label\" startOffset=\"50%\" side=\"left\" fill=\"currentColor\" text-anchor=\"middle\">dep</textPath>\n",
       "    </text>\n",
       "    <path class=\"displacy-arrowhead\" d=\"M435.0,164.0 L443.0,152.0 427.0,152.0\" fill=\"currentColor\"/>\n",
       "</g>\n",
       "\n",
       "<g class=\"displacy-arrow\">\n",
       "    <path class=\"displacy-arc\" id=\"arrow-79b50d2367c64fc38815c96545869de5-0-5\" stroke-width=\"2px\" d=\"M550,162.0 C550,122.0 595.0,122.0 595.0,162.0\" fill=\"none\" stroke=\"currentColor\"/>\n",
       "    <text dy=\"1.25em\" style=\"font-size: 0.8em; letter-spacing: 1px\">\n",
       "        <textPath xlink:href=\"#arrow-79b50d2367c64fc38815c96545869de5-0-5\" class=\"displacy-label\" startOffset=\"50%\" side=\"left\" fill=\"currentColor\" text-anchor=\"middle\">advmod</textPath>\n",
       "    </text>\n",
       "    <path class=\"displacy-arrowhead\" d=\"M550,164.0 L542,152.0 558,152.0\" fill=\"currentColor\"/>\n",
       "</g>\n",
       "\n",
       "<g class=\"displacy-arrow\">\n",
       "    <path class=\"displacy-arc\" id=\"arrow-79b50d2367c64fc38815c96545869de5-0-6\" stroke-width=\"2px\" d=\"M150,162.0 C150,42.0 605.0,42.0 605.0,162.0\" fill=\"none\" stroke=\"currentColor\"/>\n",
       "    <text dy=\"1.25em\" style=\"font-size: 0.8em; letter-spacing: 1px\">\n",
       "        <textPath xlink:href=\"#arrow-79b50d2367c64fc38815c96545869de5-0-6\" class=\"displacy-label\" startOffset=\"50%\" side=\"left\" fill=\"currentColor\" text-anchor=\"middle\">dep</textPath>\n",
       "    </text>\n",
       "    <path class=\"displacy-arrowhead\" d=\"M605.0,164.0 L613.0,152.0 597.0,152.0\" fill=\"currentColor\"/>\n",
       "</g>\n",
       "\n",
       "<g class=\"displacy-arrow\">\n",
       "    <path class=\"displacy-arc\" id=\"arrow-79b50d2367c64fc38815c96545869de5-0-7\" stroke-width=\"2px\" d=\"M630,162.0 C630,122.0 675.0,122.0 675.0,162.0\" fill=\"none\" stroke=\"currentColor\"/>\n",
       "    <text dy=\"1.25em\" style=\"font-size: 0.8em; letter-spacing: 1px\">\n",
       "        <textPath xlink:href=\"#arrow-79b50d2367c64fc38815c96545869de5-0-7\" class=\"displacy-label\" startOffset=\"50%\" side=\"left\" fill=\"currentColor\" text-anchor=\"middle\">cc</textPath>\n",
       "    </text>\n",
       "    <path class=\"displacy-arrowhead\" d=\"M675.0,164.0 L683.0,152.0 667.0,152.0\" fill=\"currentColor\"/>\n",
       "</g>\n",
       "\n",
       "<g class=\"displacy-arrow\">\n",
       "    <path class=\"displacy-arc\" id=\"arrow-79b50d2367c64fc38815c96545869de5-0-8\" stroke-width=\"2px\" d=\"M150,162.0 C150,2.0 770.0,2.0 770.0,162.0\" fill=\"none\" stroke=\"currentColor\"/>\n",
       "    <text dy=\"1.25em\" style=\"font-size: 0.8em; letter-spacing: 1px\">\n",
       "        <textPath xlink:href=\"#arrow-79b50d2367c64fc38815c96545869de5-0-8\" class=\"displacy-label\" startOffset=\"50%\" side=\"left\" fill=\"currentColor\" text-anchor=\"middle\">dep</textPath>\n",
       "    </text>\n",
       "    <path class=\"displacy-arrowhead\" d=\"M770.0,164.0 L778.0,152.0 762.0,152.0\" fill=\"currentColor\"/>\n",
       "</g>\n",
       "</svg></span>"
      ],
      "text/plain": [
       "<IPython.core.display.HTML object>"
      ]
     },
     "metadata": {},
     "output_type": "display_data"
    }
   ],
   "source": [
    "displacy.render(sent[0:10], style=\"dep\", jupyter=True, options={\"distance\":80})"
   ]
  },
  {
   "cell_type": "code",
   "execution_count": 46,
   "metadata": {},
   "outputs": [
    {
     "data": {
      "text/html": [
       "<span class=\"tex2jax_ignore\"><div class=\"entities\" style=\"line-height: 2.5; direction: ltr\">\n",
       "<mark class=\"entity\" style=\"background: #e06666; padding: 0.45em 0.6em; margin: 0 0.25em; line-height: 1; border-radius: 0.35em;\">\n",
       "    Abid Ali Awan Data\n",
       "    <span style=\"font-size: 0.8em; font-weight: bold; line-height: 1; border-radius: 0.35em; vertical-align: middle; margin-left: 0.5rem\">PERSON</span>\n",
       "</mark>\n",
       " Scientist I am a certified data scientist professional, who loves building \n",
       "<mark class=\"entity\" style=\"background: linear-gradient(90deg, #9BE15D, #00E3AE); padding: 0.45em 0.6em; margin: 0 0.25em; line-height: 1; border-radius: 0.35em;\">\n",
       "    machine learning\n",
       "    <span style=\"font-size: 0.8em; font-weight: bold; line-height: 1; border-radius: 0.35em; vertical-align: middle; margin-left: 0.5rem\">SKILL</span>\n",
       "</mark>\n",
       " models and blogs about the latest \n",
       "<mark class=\"entity\" style=\"background: #ffd966; padding: 0.45em 0.6em; margin: 0 0.25em; line-height: 1; border-radius: 0.35em;\">\n",
       "    AI\n",
       "    <span style=\"font-size: 0.8em; font-weight: bold; line-height: 1; border-radius: 0.35em; vertical-align: middle; margin-left: 0.5rem\">ORG</span>\n",
       "</mark>\n",
       " technologies. I am currently \n",
       "<mark class=\"entity\" style=\"background: linear-gradient(90deg, #9BE15D, #00E3AE); padding: 0.45em 0.6em; margin: 0 0.25em; line-height: 1; border-radius: 0.35em;\">\n",
       "    testing\n",
       "    <span style=\"font-size: 0.8em; font-weight: bold; line-height: 1; border-radius: 0.35em; vertical-align: middle; margin-left: 0.5rem\">SKILL</span>\n",
       "</mark>\n",
       " \n",
       "<mark class=\"entity\" style=\"background: #ffd966; padding: 0.45em 0.6em; margin: 0 0.25em; line-height: 1; border-radius: 0.35em;\">\n",
       "    AI Products\n",
       "    <span style=\"font-size: 0.8em; font-weight: bold; line-height: 1; border-radius: 0.35em; vertical-align: middle; margin-left: 0.5rem\">ORG</span>\n",
       "</mark>\n",
       " at \n",
       "<mark class=\"entity\" style=\"background: #ffd966; padding: 0.45em 0.6em; margin: 0 0.25em; line-height: 1; border-radius: 0.35em;\">\n",
       "    PEC-PITC\n",
       "    <span style=\"font-size: 0.8em; font-weight: bold; line-height: 1; border-radius: 0.35em; vertical-align: middle; margin-left: 0.5rem\">ORG</span>\n",
       "</mark>\n",
       ", which later gets approved for human trials. abidaliawan@tutamail.com +923456855126 \n",
       "<mark class=\"entity\" style=\"background: #9fc5e8; padding: 0.45em 0.6em; margin: 0 0.25em; line-height: 1; border-radius: 0.35em;\">\n",
       "    Islamabad\n",
       "    <span style=\"font-size: 0.8em; font-weight: bold; line-height: 1; border-radius: 0.35em; vertical-align: middle; margin-left: 0.5rem\">GPE</span>\n",
       "</mark>\n",
       ", \n",
       "<mark class=\"entity\" style=\"background: #9fc5e8; padding: 0.45em 0.6em; margin: 0 0.25em; line-height: 1; border-radius: 0.35em;\">\n",
       "    Pakistan\n",
       "    <span style=\"font-size: 0.8em; font-weight: bold; line-height: 1; border-radius: 0.35em; vertical-align: middle; margin-left: 0.5rem\">GPE</span>\n",
       "</mark>\n",
       " abidaliawan.me WORK EXPERIENCE Data Scientist Pakistan Innovation and \n",
       "<mark class=\"entity\" style=\"background: linear-gradient(90deg, #9BE15D, #00E3AE); padding: 0.45em 0.6em; margin: 0 0.25em; line-height: 1; border-radius: 0.35em;\">\n",
       "    Testing\n",
       "    <span style=\"font-size: 0.8em; font-weight: bold; line-height: 1; border-radius: 0.35em; vertical-align: middle; margin-left: 0.5rem\">SKILL</span>\n",
       "</mark>\n",
       " Center - PEC 04/2021 - Present, \n",
       "<mark class=\"entity\" style=\"background: #9fc5e8; padding: 0.45em 0.6em; margin: 0 0.25em; line-height: 1; border-radius: 0.35em;\">\n",
       "    Islamabad\n",
       "    <span style=\"font-size: 0.8em; font-weight: bold; line-height: 1; border-radius: 0.35em; vertical-align: middle; margin-left: 0.5rem\">GPE</span>\n",
       "</mark>\n",
       ", \n",
       "<mark class=\"entity\" style=\"background: #9fc5e8; padding: 0.45em 0.6em; margin: 0 0.25em; line-height: 1; border-radius: 0.35em;\">\n",
       "    Pakistan\n",
       "    <span style=\"font-size: 0.8em; font-weight: bold; line-height: 1; border-radius: 0.35em; vertical-align: middle; margin-left: 0.5rem\">GPE</span>\n",
       "</mark>\n",
       " Redesigned data of engineers that were mostly scattered and unavailable. Designed dashboard and \n",
       "<mark class=\"entity\" style=\"background: linear-gradient(90deg, #9BE15D, #00E3AE); padding: 0.45em 0.6em; margin: 0 0.25em; line-height: 1; border-radius: 0.35em;\">\n",
       "    data analysis\n",
       "    <span style=\"font-size: 0.8em; font-weight: bold; line-height: 1; border-radius: 0.35em; vertical-align: middle; margin-left: 0.5rem\">SKILL</span>\n",
       "</mark>\n",
       " report to help higher management make better decisions. Accessibility of key information has created a new culture of making data-driven decisions. Contact: \n",
       "<mark class=\"entity\" style=\"background: #e06666; padding: 0.45em 0.6em; margin: 0 0.25em; line-height: 1; border-radius: 0.35em;\">\n",
       "    Ali Raza Asif - darkslayerraza10@gmail.com\n",
       "    <span style=\"font-size: 0.8em; font-weight: bold; line-height: 1; border-radius: 0.35em; vertical-align: middle; margin-left: 0.5rem\">PERSON</span>\n",
       "</mark>\n",
       " Data Scientist Freelancing/Kaggle 11/2020 - Present, \n",
       "<mark class=\"entity\" style=\"background: #9fc5e8; padding: 0.45em 0.6em; margin: 0 0.25em; line-height: 1; border-radius: 0.35em;\">\n",
       "    Islamabad\n",
       "    <span style=\"font-size: 0.8em; font-weight: bold; line-height: 1; border-radius: 0.35em; vertical-align: middle; margin-left: 0.5rem\">GPE</span>\n",
       "</mark>\n",
       ", \n",
       "<mark class=\"entity\" style=\"background: #ffd966; padding: 0.45em 0.6em; margin: 0 0.25em; line-height: 1; border-radius: 0.35em;\">\n",
       "    Pakistan Engineered\n",
       "    <span style=\"font-size: 0.8em; font-weight: bold; line-height: 1; border-radius: 0.35em; vertical-align: middle; margin-left: 0.5rem\">ORG</span>\n",
       "</mark>\n",
       " a healthcare system. Used \n",
       "<mark class=\"entity\" style=\"background: linear-gradient(90deg, #9BE15D, #00E3AE); padding: 0.45em 0.6em; margin: 0 0.25em; line-height: 1; border-radius: 0.35em;\">\n",
       "    machine learning\n",
       "    <span style=\"font-size: 0.8em; font-weight: bold; line-height: 1; border-radius: 0.35em; vertical-align: middle; margin-left: 0.5rem\">SKILL</span>\n",
       "</mark>\n",
       " to detect some of the common decisions. The project has paved the way for others to use new techniques to get better results. Participated in \n",
       "<mark class=\"entity\" style=\"background: #9fc5e8; padding: 0.45em 0.6em; margin: 0 0.25em; line-height: 1; border-radius: 0.35em;\">\n",
       "    Kaggle\n",
       "    <span style=\"font-size: 0.8em; font-weight: bold; line-height: 1; border-radius: 0.35em; vertical-align: middle; margin-left: 0.5rem\">GPE</span>\n",
       "</mark>\n",
       " \n",
       "<mark class=\"entity\" style=\"background: linear-gradient(90deg, #9BE15D, #00E3AE); padding: 0.45em 0.6em; margin: 0 0.25em; line-height: 1; border-radius: 0.35em;\">\n",
       "    machine learning\n",
       "    <span style=\"font-size: 0.8em; font-weight: bold; line-height: 1; border-radius: 0.35em; vertical-align: middle; margin-left: 0.5rem\">SKILL</span>\n",
       "</mark>\n",
       " competitions. Learned new techniques to get a better score and finally got to 1 percent rank. \n",
       "<mark class=\"entity\" style=\"background: #ffd966; padding: 0.45em 0.6em; margin: 0 0.25em; line-height: 1; border-radius: 0.35em;\">\n",
       "    Researcher / Event Organizer CREDIT 02/2017 - 07/2017\n",
       "    <span style=\"font-size: 0.8em; font-weight: bold; line-height: 1; border-radius: 0.35em; vertical-align: middle; margin-left: 0.5rem\">ORG</span>\n",
       "</mark>\n",
       ", \n",
       "<mark class=\"entity\" style=\"background: #9fc5e8; padding: 0.45em 0.6em; margin: 0 0.25em; line-height: 1; border-radius: 0.35em;\">\n",
       "    Kuala Lumpur\n",
       "    <span style=\"font-size: 0.8em; font-weight: bold; line-height: 1; border-radius: 0.35em; vertical-align: middle; margin-left: 0.5rem\">GPE</span>\n",
       "</mark>\n",
       ", \n",
       "<mark class=\"entity\" style=\"background: #ffd966; padding: 0.45em 0.6em; margin: 0 0.25em; line-height: 1; border-radius: 0.35em;\">\n",
       "    Malaysia Marketing\n",
       "    <span style=\"font-size: 0.8em; font-weight: bold; line-height: 1; border-radius: 0.35em; vertical-align: middle; margin-left: 0.5rem\">ORG</span>\n",
       "</mark>\n",
       " for newly build research lab. Organized technical events and successfully invited the multiple company's CEO for talks. Reduced the gap between industries and educational institutes. Research on new development in the IoT sector. Created research proposal for funding. Investigated the new communication protocol for \n",
       "<mark class=\"entity\" style=\"background: #ffd966; padding: 0.45em 0.6em; margin: 0 0.25em; line-height: 1; border-radius: 0.35em;\">\n",
       "    IoT\n",
       "    <span style=\"font-size: 0.8em; font-weight: bold; line-height: 1; border-radius: 0.35em; vertical-align: middle; margin-left: 0.5rem\">ORG</span>\n",
       "</mark>\n",
       " devices. Contact: Dr. \n",
       "<mark class=\"entity\" style=\"background: #e06666; padding: 0.45em 0.6em; margin: 0 0.25em; line-height: 1; border-radius: 0.35em;\">\n",
       "    Tan Chye\n",
       "    <span style=\"font-size: 0.8em; font-weight: bold; line-height: 1; border-radius: 0.35em; vertical-align: middle; margin-left: 0.5rem\">PERSON</span>\n",
       "</mark>\n",
       " Cheah - dr.chyecheah.t@apu.edu.my EDUCATION MSc in \n",
       "<mark class=\"entity\" style=\"background: #ffd966; padding: 0.45em 0.6em; margin: 0 0.25em; line-height: 1; border-radius: 0.35em;\">\n",
       "    Technology Management Staffordshire University\n",
       "    <span style=\"font-size: 0.8em; font-weight: bold; line-height: 1; border-radius: 0.35em; vertical-align: middle; margin-left: 0.5rem\">ORG</span>\n",
       "</mark>\n",
       " 11/2015 - 04/2017, Postgraduate with \n",
       "<mark class=\"entity\" style=\"background: #ffd966; padding: 0.45em 0.6em; margin: 0 0.25em; line-height: 1; border-radius: 0.35em;\">\n",
       "    Distinction Challenges in Implementing IoT\n",
       "    <span style=\"font-size: 0.8em; font-weight: bold; line-height: 1; border-radius: 0.35em; vertical-align: middle; margin-left: 0.5rem\">ORG</span>\n",
       "</mark>\n",
       "-enabled \n",
       "<mark class=\"entity\" style=\"background: #ffd966; padding: 0.45em 0.6em; margin: 0 0.25em; line-height: 1; border-radius: 0.35em;\">\n",
       "    Smart\n",
       "    <span style=\"font-size: 0.8em; font-weight: bold; line-height: 1; border-radius: 0.35em; vertical-align: middle; margin-left: 0.5rem\">ORG</span>\n",
       "</mark>\n",
       " cities in \n",
       "<mark class=\"entity\" style=\"background: #9fc5e8; padding: 0.45em 0.6em; margin: 0 0.25em; line-height: 1; border-radius: 0.35em;\">\n",
       "    Malaysia\n",
       "    <span style=\"font-size: 0.8em; font-weight: bold; line-height: 1; border-radius: 0.35em; vertical-align: middle; margin-left: 0.5rem\">GPE</span>\n",
       "</mark>\n",
       ". Bachelors Electrical Telecommunication \n",
       "<mark class=\"entity\" style=\"background: linear-gradient(90deg, #9BE15D, #00E3AE); padding: 0.45em 0.6em; margin: 0 0.25em; line-height: 1; border-radius: 0.35em;\">\n",
       "    Engineering\n",
       "    <span style=\"font-size: 0.8em; font-weight: bold; line-height: 1; border-radius: 0.35em; vertical-align: middle; margin-left: 0.5rem\">SKILL</span>\n",
       "</mark>\n",
       " COMSATS Institute of Information Technology, Islamabad 08/2010 - 01/2014, \n",
       "<mark class=\"entity\" style=\"background: #ffd966; padding: 0.45em 0.6em; margin: 0 0.25em; line-height: 1; border-radius: 0.35em;\">\n",
       "    CGPA\n",
       "    <span style=\"font-size: 0.8em; font-weight: bold; line-height: 1; border-radius: 0.35em; vertical-align: middle; margin-left: 0.5rem\">ORG</span>\n",
       "</mark>\n",
       ": 3.09 \n",
       "<mark class=\"entity\" style=\"background: #ffd966; padding: 0.45em 0.6em; margin: 0 0.25em; line-height: 1; border-radius: 0.35em;\">\n",
       "    Networking Satellite\n",
       "    <span style=\"font-size: 0.8em; font-weight: bold; line-height: 1; border-radius: 0.35em; vertical-align: middle; margin-left: 0.5rem\">ORG</span>\n",
       "</mark>\n",
       " \n",
       "<mark class=\"entity\" style=\"background: linear-gradient(90deg, #9BE15D, #00E3AE); padding: 0.45em 0.6em; margin: 0 0.25em; line-height: 1; border-radius: 0.35em;\">\n",
       "    communications\n",
       "    <span style=\"font-size: 0.8em; font-weight: bold; line-height: 1; border-radius: 0.35em; vertical-align: middle; margin-left: 0.5rem\">SKILL</span>\n",
       "</mark>\n",
       " Programming/ \n",
       "<mark class=\"entity\" style=\"background: #e06666; padding: 0.45em 0.6em; margin: 0 0.25em; line-height: 1; border-radius: 0.35em;\">\n",
       "    Matlab Telecommunication\n",
       "    <span style=\"font-size: 0.8em; font-weight: bold; line-height: 1; border-radius: 0.35em; vertical-align: middle; margin-left: 0.5rem\">PERSON</span>\n",
       "</mark>\n",
       " \n",
       "<mark class=\"entity\" style=\"background: linear-gradient(90deg, #9BE15D, #00E3AE); padding: 0.45em 0.6em; margin: 0 0.25em; line-height: 1; border-radius: 0.35em;\">\n",
       "    Engineering\n",
       "    <span style=\"font-size: 0.8em; font-weight: bold; line-height: 1; border-radius: 0.35em; vertical-align: middle; margin-left: 0.5rem\">SKILL</span>\n",
       "</mark>\n",
       " SKILLS Designing Leadership Media/\n",
       "<mark class=\"entity\" style=\"background: linear-gradient(90deg, #9BE15D, #00E3AE); padding: 0.45em 0.6em; margin: 0 0.25em; line-height: 1; border-radius: 0.35em;\">\n",
       "    Marketing\n",
       "    <span style=\"font-size: 0.8em; font-weight: bold; line-height: 1; border-radius: 0.35em; vertical-align: middle; margin-left: 0.5rem\">SKILL</span>\n",
       "</mark>\n",
       " \n",
       "<mark class=\"entity\" style=\"background: linear-gradient(90deg, #9BE15D, #00E3AE); padding: 0.45em 0.6em; margin: 0 0.25em; line-height: 1; border-radius: 0.35em;\">\n",
       "    R\n",
       "    <span style=\"font-size: 0.8em; font-weight: bold; line-height: 1; border-radius: 0.35em; vertical-align: middle; margin-left: 0.5rem\">SKILL</span>\n",
       "</mark>\n",
       "/\n",
       "<mark class=\"entity\" style=\"background: #ffd966; padding: 0.45em 0.6em; margin: 0 0.25em; line-height: 1; border-radius: 0.35em;\">\n",
       "    Python SQL Tableau\n",
       "    <span style=\"font-size: 0.8em; font-weight: bold; line-height: 1; border-radius: 0.35em; vertical-align: middle; margin-left: 0.5rem\">ORG</span>\n",
       "</mark>\n",
       " \n",
       "<mark class=\"entity\" style=\"background: #ffd966; padding: 0.45em 0.6em; margin: 0 0.25em; line-height: 1; border-radius: 0.35em;\">\n",
       "    NLP Data Analysis Machine\n",
       "    <span style=\"font-size: 0.8em; font-weight: bold; line-height: 1; border-radius: 0.35em; vertical-align: middle; margin-left: 0.5rem\">ORG</span>\n",
       "</mark>\n",
       " learning \n",
       "<mark class=\"entity\" style=\"background: linear-gradient(90deg, #9BE15D, #00E3AE); padding: 0.45em 0.6em; margin: 0 0.25em; line-height: 1; border-radius: 0.35em;\">\n",
       "    Deep learning\n",
       "    <span style=\"font-size: 0.8em; font-weight: bold; line-height: 1; border-radius: 0.35em; vertical-align: middle; margin-left: 0.5rem\">SKILL</span>\n",
       "</mark>\n",
       " Webapp/Cloud Feature \n",
       "<mark class=\"entity\" style=\"background: linear-gradient(90deg, #9BE15D, #00E3AE); padding: 0.45em 0.6em; margin: 0 0.25em; line-height: 1; border-radius: 0.35em;\">\n",
       "    Engineering\n",
       "    <span style=\"font-size: 0.8em; font-weight: bold; line-height: 1; border-radius: 0.35em; vertical-align: middle; margin-left: 0.5rem\">SKILL</span>\n",
       "</mark>\n",
       " Ensembling \n",
       "<mark class=\"entity\" style=\"background: linear-gradient(90deg, #9BE15D, #00E3AE); padding: 0.45em 0.6em; margin: 0 0.25em; line-height: 1; border-radius: 0.35em;\">\n",
       "    Time Series\n",
       "    <span style=\"font-size: 0.8em; font-weight: bold; line-height: 1; border-radius: 0.35em; vertical-align: middle; margin-left: 0.5rem\">SKILL</span>\n",
       "</mark>\n",
       " Technology Management ACHIEVEMENTS \n",
       "<mark class=\"entity\" style=\"background: #674ea7; padding: 0.45em 0.6em; margin: 0 0.25em; line-height: 1; border-radius: 0.35em;\">\n",
       "    98th\n",
       "    <span style=\"font-size: 0.8em; font-weight: bold; line-height: 1; border-radius: 0.35em; vertical-align: middle; margin-left: 0.5rem\">ORDINAL</span>\n",
       "</mark>\n",
       " \n",
       "<mark class=\"entity\" style=\"background: #ffd966; padding: 0.45em 0.6em; margin: 0 0.25em; line-height: 1; border-radius: 0.35em;\">\n",
       "    Hungry Geese Simulation Competition\n",
       "    <span style=\"font-size: 0.8em; font-weight: bold; line-height: 1; border-radius: 0.35em; vertical-align: middle; margin-left: 0.5rem\">ORG</span>\n",
       "</mark>\n",
       " (08/2021) 2nd in Covid-19 vaccinations around the world (07/2021) \n",
       "<mark class=\"entity\" style=\"background: #674ea7; padding: 0.45em 0.6em; margin: 0 0.25em; line-height: 1; border-radius: 0.35em;\">\n",
       "    8th\n",
       "    <span style=\"font-size: 0.8em; font-weight: bold; line-height: 1; border-radius: 0.35em; vertical-align: middle; margin-left: 0.5rem\">ORDINAL</span>\n",
       "</mark>\n",
       " in \n",
       "<mark class=\"entity\" style=\"background: #ffd966; padding: 0.45em 0.6em; margin: 0 0.25em; line-height: 1; border-radius: 0.35em;\">\n",
       "    Automatic Speech Recognition\n",
       "    <span style=\"font-size: 0.8em; font-weight: bold; line-height: 1; border-radius: 0.35em; vertical-align: middle; margin-left: 0.5rem\">ORG</span>\n",
       "</mark>\n",
       " in \n",
       "<mark class=\"entity\" style=\"background: #ffd966; padding: 0.45em 0.6em; margin: 0 0.25em; line-height: 1; border-radius: 0.35em;\">\n",
       "    WOLOF\n",
       "    <span style=\"font-size: 0.8em; font-weight: bold; line-height: 1; border-radius: 0.35em; vertical-align: middle; margin-left: 0.5rem\">ORG</span>\n",
       "</mark>\n",
       " (06/2021) Top 10 in WiDS Datathon. (03/2021) 40th / 622 in \n",
       "<mark class=\"entity\" style=\"background: #f9cb9c; padding: 0.45em 0.6em; margin: 0 0.25em; line-height: 1; border-radius: 0.35em;\">\n",
       "    MagNet\n",
       "    <span style=\"font-size: 0.8em; font-weight: bold; line-height: 1; border-radius: 0.35em; vertical-align: middle; margin-left: 0.5rem\">PRODUCT</span>\n",
       "</mark>\n",
       ": Model \n",
       "<mark class=\"entity\" style=\"background: #ffd966; padding: 0.45em 0.6em; margin: 0 0.25em; line-height: 1; border-radius: 0.35em;\">\n",
       "    the Geomagnetic Field Hosted\n",
       "    <span style=\"font-size: 0.8em; font-weight: bold; line-height: 1; border-radius: 0.35em; vertical-align: middle; margin-left: 0.5rem\">ORG</span>\n",
       "</mark>\n",
       " by \n",
       "<mark class=\"entity\" style=\"background: #ffd966; padding: 0.45em 0.6em; margin: 0 0.25em; line-height: 1; border-radius: 0.35em;\">\n",
       "    NOAA\n",
       "    <span style=\"font-size: 0.8em; font-weight: bold; line-height: 1; border-radius: 0.35em; vertical-align: middle; margin-left: 0.5rem\">ORG</span>\n",
       "</mark>\n",
       " (02/2021) 18th in \n",
       "<mark class=\"entity\" style=\"background: #9fc5e8; padding: 0.45em 0.6em; margin: 0 0.25em; line-height: 1; border-radius: 0.35em;\">\n",
       "    Rock, Paper\n",
       "    <span style=\"font-size: 0.8em; font-weight: bold; line-height: 1; border-radius: 0.35em; vertical-align: middle; margin-left: 0.5rem\">GPE</span>\n",
       "</mark>\n",
       ", Scissors/Designing \n",
       "<mark class=\"entity\" style=\"background: linear-gradient(90deg, #9BE15D, #00E3AE); padding: 0.45em 0.6em; margin: 0 0.25em; line-height: 1; border-radius: 0.35em;\">\n",
       "    AI\n",
       "    <span style=\"font-size: 0.8em; font-weight: bold; line-height: 1; border-radius: 0.35em; vertical-align: middle; margin-left: 0.5rem\">SKILL</span>\n",
       "</mark>\n",
       " Agent Competition. (02/2021) \n",
       "<mark class=\"entity\" style=\"background: #ffd966; padding: 0.45em 0.6em; margin: 0 0.25em; line-height: 1; border-radius: 0.35em;\">\n",
       "    PROJECTS Goodreads Profile Analysis WebApp\n",
       "    <span style=\"font-size: 0.8em; font-weight: bold; line-height: 1; border-radius: 0.35em; vertical-align: middle; margin-left: 0.5rem\">ORG</span>\n",
       "</mark>\n",
       " (09/2021) \n",
       "<mark class=\"entity\" style=\"background: linear-gradient(90deg, #9BE15D, #00E3AE); padding: 0.45em 0.6em; margin: 0 0.25em; line-height: 1; border-radius: 0.35em;\">\n",
       "    Data Analysis\n",
       "    <span style=\"font-size: 0.8em; font-weight: bold; line-height: 1; border-radius: 0.35em; vertical-align: middle; margin-left: 0.5rem\">SKILL</span>\n",
       "</mark>\n",
       " Web Scraping XLM Interactive \n",
       "<mark class=\"entity\" style=\"background: linear-gradient(90deg, #9BE15D, #00E3AE); padding: 0.45em 0.6em; margin: 0 0.25em; line-height: 1; border-radius: 0.35em;\">\n",
       "    Visualization\n",
       "    <span style=\"font-size: 0.8em; font-weight: bold; line-height: 1; border-radius: 0.35em; vertical-align: middle; margin-left: 0.5rem\">SKILL</span>\n",
       "</mark>\n",
       " Contributed in orchest.io (08/2021) \n",
       "<mark class=\"entity\" style=\"background: linear-gradient(90deg, #9BE15D, #00E3AE); padding: 0.45em 0.6em; margin: 0 0.25em; line-height: 1; border-radius: 0.35em;\">\n",
       "    Testing\n",
       "    <span style=\"font-size: 0.8em; font-weight: bold; line-height: 1; border-radius: 0.35em; vertical-align: middle; margin-left: 0.5rem\">SKILL</span>\n",
       "</mark>\n",
       " and Debuging Technical Article Proposing new was to \n",
       "<mark class=\"entity\" style=\"background: #ffd966; padding: 0.45em 0.6em; margin: 0 0.25em; line-height: 1; border-radius: 0.35em;\">\n",
       "    Improve ML\n",
       "    <span style=\"font-size: 0.8em; font-weight: bold; line-height: 1; border-radius: 0.35em; vertical-align: middle; margin-left: 0.5rem\">ORG</span>\n",
       "</mark>\n",
       " pipelines \n",
       "<mark class=\"entity\" style=\"background: #ffd966; padding: 0.45em 0.6em; margin: 0 0.25em; line-height: 1; border-radius: 0.35em;\">\n",
       "    World Vaccine Update System\n",
       "    <span style=\"font-size: 0.8em; font-weight: bold; line-height: 1; border-radius: 0.35em; vertical-align: middle; margin-left: 0.5rem\">ORG</span>\n",
       "</mark>\n",
       " (06/2021) Used \n",
       "<mark class=\"entity\" style=\"background: #9fc5e8; padding: 0.45em 0.6em; margin: 0 0.25em; line-height: 1; border-radius: 0.35em;\">\n",
       "    sqlite3\n",
       "    <span style=\"font-size: 0.8em; font-weight: bold; line-height: 1; border-radius: 0.35em; vertical-align: middle; margin-left: 0.5rem\">GPE</span>\n",
       "</mark>\n",
       " for \n",
       "<mark class=\"entity\" style=\"background: linear-gradient(90deg, #9BE15D, #00E3AE); padding: 0.45em 0.6em; margin: 0 0.25em; line-height: 1; border-radius: 0.35em;\">\n",
       "    database\n",
       "    <span style=\"font-size: 0.8em; font-weight: bold; line-height: 1; border-radius: 0.35em; vertical-align: middle; margin-left: 0.5rem\">SKILL</span>\n",
       "</mark>\n",
       " Automated system for \n",
       "<mark class=\"entity\" style=\"background: #c27ba0; padding: 0.45em 0.6em; margin: 0 0.25em; line-height: 1; border-radius: 0.35em;\">\n",
       "    daily\n",
       "    <span style=\"font-size: 0.8em; font-weight: bold; line-height: 1; border-radius: 0.35em; vertical-align: middle; margin-left: 0.5rem\">DATE</span>\n",
       "</mark>\n",
       " update \n",
       "<mark class=\"entity\" style=\"background: #ffd966; padding: 0.45em 0.6em; margin: 0 0.25em; line-height: 1; border-radius: 0.35em;\">\n",
       "    the Kaggle DB and Analysis Interactive\n",
       "    <span style=\"font-size: 0.8em; font-weight: bold; line-height: 1; border-radius: 0.35em; vertical-align: middle; margin-left: 0.5rem\">ORG</span>\n",
       "</mark>\n",
       " dashboard \n",
       "<mark class=\"entity\" style=\"background: #ffd966; padding: 0.45em 0.6em; margin: 0 0.25em; line-height: 1; border-radius: 0.35em;\">\n",
       "    mRNA-Vaccine-Degradation-Prediction\n",
       "    <span style=\"font-size: 0.8em; font-weight: bold; line-height: 1; border-radius: 0.35em; vertical-align: middle; margin-left: 0.5rem\">ORG</span>\n",
       "</mark>\n",
       " (06/2021) Explore our dataset and then preprocessed sequence, structure, and predicted loop type features Train \n",
       "<mark class=\"entity\" style=\"background: linear-gradient(90deg, #9BE15D, #00E3AE); padding: 0.45em 0.6em; margin: 0 0.25em; line-height: 1; border-radius: 0.35em;\">\n",
       "    deep learning\n",
       "    <span style=\"font-size: 0.8em; font-weight: bold; line-height: 1; border-radius: 0.35em; vertical-align: middle; margin-left: 0.5rem\">SKILL</span>\n",
       "</mark>\n",
       " \n",
       "<mark class=\"entity\" style=\"background: #e06666; padding: 0.45em 0.6em; margin: 0 0.25em; line-height: 1; border-radius: 0.35em;\">\n",
       "    GRU\n",
       "    <span style=\"font-size: 0.8em; font-weight: bold; line-height: 1; border-radius: 0.35em; vertical-align: middle; margin-left: 0.5rem\">PERSON</span>\n",
       "</mark>\n",
       " model \n",
       "<mark class=\"entity\" style=\"background: #ffd966; padding: 0.45em 0.6em; margin: 0 0.25em; line-height: 1; border-radius: 0.35em;\">\n",
       "    Trip Advisor Data Analysis/ML\n",
       "    <span style=\"font-size: 0.8em; font-weight: bold; line-height: 1; border-radius: 0.35em; vertical-align: middle; margin-left: 0.5rem\">ORG</span>\n",
       "</mark>\n",
       " (04/2021) Preprocessing Data, \n",
       "<mark class=\"entity\" style=\"background: #e06666; padding: 0.45em 0.6em; margin: 0 0.25em; line-height: 1; border-radius: 0.35em;\">\n",
       "    Exploratory Data\n",
       "    <span style=\"font-size: 0.8em; font-weight: bold; line-height: 1; border-radius: 0.35em; vertical-align: middle; margin-left: 0.5rem\">PERSON</span>\n",
       "</mark>\n",
       " analysis, Word clouds. \n",
       "<mark class=\"entity\" style=\"background: #ffd966; padding: 0.45em 0.6em; margin: 0 0.25em; line-height: 1; border-radius: 0.35em;\">\n",
       "    Feature Engineering\n",
       "    <span style=\"font-size: 0.8em; font-weight: bold; line-height: 1; border-radius: 0.35em; vertical-align: middle; margin-left: 0.5rem\">ORG</span>\n",
       "</mark>\n",
       ", \n",
       "<mark class=\"entity\" style=\"background: linear-gradient(90deg, #9BE15D, #00E3AE); padding: 0.45em 0.6em; margin: 0 0.25em; line-height: 1; border-radius: 0.35em;\">\n",
       "    Text processing\n",
       "    <span style=\"font-size: 0.8em; font-weight: bold; line-height: 1; border-radius: 0.35em; vertical-align: middle; margin-left: 0.5rem\">SKILL</span>\n",
       "</mark>\n",
       ". BiLSTM Model for predicting rating, evaluation, model performance. \n",
       "<mark class=\"entity\" style=\"background: #ffd966; padding: 0.45em 0.6em; margin: 0 0.25em; line-height: 1; border-radius: 0.35em;\">\n",
       "    Jane Street Market Prediction\n",
       "    <span style=\"font-size: 0.8em; font-weight: bold; line-height: 1; border-radius: 0.35em; vertical-align: middle; margin-left: 0.5rem\">ORG</span>\n",
       "</mark>\n",
       " (03/2021) \n",
       "<mark class=\"entity\" style=\"background: #ffd966; padding: 0.45em 0.6em; margin: 0 0.25em; line-height: 1; border-radius: 0.35em;\">\n",
       "    EDA\n",
       "    <span style=\"font-size: 0.8em; font-weight: bold; line-height: 1; border-radius: 0.35em; vertical-align: middle; margin-left: 0.5rem\">ORG</span>\n",
       "</mark>\n",
       ", \n",
       "<mark class=\"entity\" style=\"background: #ffd966; padding: 0.45em 0.6em; margin: 0 0.25em; line-height: 1; border-radius: 0.35em;\">\n",
       "    Feature Engineering\n",
       "    <span style=\"font-size: 0.8em; font-weight: bold; line-height: 1; border-radius: 0.35em; vertical-align: middle; margin-left: 0.5rem\">ORG</span>\n",
       "</mark>\n",
       ", experimenting with hyperparameters. Ensembling: Resnet, \n",
       "<mark class=\"entity\" style=\"background: #ffd966; padding: 0.45em 0.6em; margin: 0 0.25em; line-height: 1; border-radius: 0.35em;\">\n",
       "    NN Embeddings\n",
       "    <span style=\"font-size: 0.8em; font-weight: bold; line-height: 1; border-radius: 0.35em; vertical-align: middle; margin-left: 0.5rem\">ORG</span>\n",
       "</mark>\n",
       ", \n",
       "<mark class=\"entity\" style=\"background: #ffd966; padding: 0.45em 0.6em; margin: 0 0.25em; line-height: 1; border-radius: 0.35em;\">\n",
       "    TF Simple NN\n",
       "    <span style=\"font-size: 0.8em; font-weight: bold; line-height: 1; border-radius: 0.35em; vertical-align: middle; margin-left: 0.5rem\">ORG</span>\n",
       "</mark>\n",
       " model. Using simple MLP \n",
       "<mark class=\"entity\" style=\"background: linear-gradient(90deg, #9BE15D, #00E3AE); padding: 0.45em 0.6em; margin: 0 0.25em; line-height: 1; border-radius: 0.35em;\">\n",
       "    pytorch\n",
       "    <span style=\"font-size: 0.8em; font-weight: bold; line-height: 1; border-radius: 0.35em; vertical-align: middle; margin-left: 0.5rem\">SKILL</span>\n",
       "</mark>\n",
       " model. Achievements/Tasks Achievements/Tasks Achievements/Tasks Thesis Courses</div></span>"
      ],
      "text/plain": [
       "<IPython.core.display.HTML object>"
      ]
     },
     "metadata": {},
     "output_type": "display_data"
    }
   ],
   "source": [
    "# user input\n",
    "colors = {\n",
    "    \"Job-Category\": \"linear-gradient(90deg, #aa9cfc, #fc9ce7)\",\n",
    "    \"SKILL\": \"linear-gradient(90deg, #9BE15D, #00E3AE)\",\n",
    "    \"ORG\": \"#ffd966\",\n",
    "    \"PERSON\": \"#e06666\",\n",
    "    \"GPE\": \"#9fc5e8\",\n",
    "    \"DATE\": \"#c27ba0\",\n",
    "    \"ORDINAL\": \"#674ea7\",\n",
    "    \"PRODUCT\": \"#f9cb9c\",\n",
    "}\n",
    "options = {\n",
    "    \"ents\": [\n",
    "        \"Job-Category\",\n",
    "        \"SKILL\",\n",
    "        \"ORG\",\n",
    "        \"PERSON\",\n",
    "        \"GPE\",\n",
    "        \"DATE\",\n",
    "        \"ORDINAL\",\n",
    "        \"PRODUCT\",\n",
    "    ],\n",
    "    \"colors\": colors,\n",
    "}\n",
    "input_resume = \"Abid Ali Awan Data Scientist I am a certified data scientist professional, who loves building machine learning models and blogs about the latest AI technologies. I am currently testing AI Products at PEC-PITC, which later gets approved for human trials. abidaliawan@tutamail.com +923456855126 Islamabad, Pakistan abidaliawan.me WORK EXPERIENCE Data Scientist Pakistan Innovation and Testing Center - PEC 04/2021 - Present, Islamabad, Pakistan Redesigned data of engineers that were mostly scattered and unavailable. Designed dashboard and data analysis report to help higher management make better decisions. Accessibility of key information has created a new culture of making data-driven decisions. Contact: Ali Raza Asif - darkslayerraza10@gmail.com Data Scientist Freelancing/Kaggle 11/2020 - Present, Islamabad, Pakistan Engineered a healthcare system. Used machine learning to detect some of the common decisions. The project has paved the way for others to use new techniques to get better results. Participated in Kaggle machine learning competitions. Learned new techniques to get a better score and finally got to 1 percent rank. Researcher / Event Organizer CREDIT 02/2017 - 07/2017, Kuala Lumpur, Malaysia Marketing for newly build research lab. Organized technical events and successfully invited the multiple company's CEO for talks. Reduced the gap between industries and educational institutes. Research on new development in the IoT sector. Created research proposal for funding. Investigated the new communication protocol for IoT devices. Contact: Dr. Tan Chye Cheah - dr.chyecheah.t@apu.edu.my EDUCATION MSc in Technology Management Staffordshire University 11/2015 - 04/2017, Postgraduate with Distinction Challenges in Implementing IoT-enabled Smart cities in Malaysia. Bachelors Electrical Telecommunication Engineering COMSATS Institute of Information Technology, Islamabad 08/2010 - 01/2014, CGPA: 3.09 Networking Satellite communications Programming/ Matlab Telecommunication Engineering SKILLS Designing Leadership Media/Marketing R/Python SQL Tableau NLP Data Analysis Machine learning Deep learning Webapp/Cloud Feature Engineering Ensembling Time Series Technology Management ACHIEVEMENTS 98th Hungry Geese Simulation Competition (08/2021) 2nd in Covid-19 vaccinations around the world (07/2021) 8th in Automatic Speech Recognition in WOLOF (06/2021) Top 10 in WiDS Datathon. (03/2021) 40th / 622 in MagNet: Model the Geomagnetic Field Hosted by NOAA (02/2021) 18th in Rock, Paper, Scissors/Designing AI Agent Competition. (02/2021) PROJECTS Goodreads Profile Analysis WebApp (09/2021) Data Analysis Web Scraping XLM Interactive Visualization Contributed in orchest.io (08/2021) Testing and Debuging Technical Article Proposing new was to Improve ML pipelines World Vaccine Update System (06/2021) Used sqlite3 for database Automated system for daily update the Kaggle DB and Analysis Interactive dashboard mRNA-Vaccine-Degradation-Prediction (06/2021) Explore our dataset and then preprocessed sequence, structure, and predicted loop type features Train deep learning GRU model Trip Advisor Data Analysis/ML (04/2021) Preprocessing Data, Exploratory Data analysis, Word clouds. Feature Engineering, Text processing. BiLSTM Model for predicting rating, evaluation, model performance. Jane Street Market Prediction (03/2021) EDA, Feature Engineering, experimenting with hyperparameters. Ensembling: Resnet, NN Embeddings, TF Simple NN model. Using simple MLP pytorch model. Achievements/Tasks Achievements/Tasks Achievements/Tasks Thesis Courses\"\n",
    "sent2 = nlp(input_resume)\n",
    "displacy.render(sent2, style=\"ent\", jupyter=True, options=options)"
   ]
  },
  {
   "cell_type": "code",
   "execution_count": 53,
   "metadata": {},
   "outputs": [
    {
     "name": "stdout",
     "output_type": "stream",
     "text": [
      "The current resume is 66.7% match to requirements\n"
     ]
    }
   ],
   "source": [
    "# Match score\n",
    "input_skills=\"Data Science,Data Analysis,Database,SQL,Machine Learning,tableau\"\n",
    "req_skills = input_skills.lower().split(\",\")\n",
    "resume_skills = unique_skills(get_skills(input_resume.lower()))\n",
    "score = 0\n",
    "for x in req_skills:\n",
    "    if x in resume_skills:\n",
    "        score += 1\n",
    "req_skills_len = len(req_skills)\n",
    "match = round(score / req_skills_len *100, 1)\n",
    "print(f\"The current resume is {match}% match to requirements\")"
   ]
  },
  {
   "cell_type": "code",
   "execution_count": 54,
   "metadata": {},
   "outputs": [
    {
     "data": {
      "text/plain": [
       "[(0,\n",
       "  '0.014*\"customer\" + 0.013*\"state\" + 0.012*\"city\" + 0.010*\"company\" + 0.009*\"name\" + 0.008*\"service\" + 0.008*\"skill\" + 0.006*\"student\" + 0.005*\"sale\" + 0.004*\"work\"'),\n",
       " (1,\n",
       "  '0.011*\"business\" + 0.011*\"company\" + 0.010*\"management\" + 0.010*\"state\" + 0.009*\"city\" + 0.009*\"sale\" + 0.008*\"project\" + 0.007*\"name\" + 0.006*\"account\" + 0.006*\"team\"'),\n",
       " (2,\n",
       "  '0.010*\"state\" + 0.007*\"city\" + 0.007*\"employee\" + 0.006*\"company\" + 0.006*\"program\" + 0.005*\"name\" + 0.005*\"skill\" + 0.004*\"training\" + 0.004*\"education\" + 0.004*\"new\"'),\n",
       " (3,\n",
       "  '0.014*\"system\" + 0.009*\"project\" + 0.007*\"network\" + 0.007*\"support\" + 0.007*\"software\" + 0.006*\"company\" + 0.006*\"management\" + 0.006*\"server\" + 0.006*\"technical\" + 0.005*\"city\"')]"
      ]
     },
     "execution_count": 54,
     "metadata": {},
     "output_type": "execute_result"
    }
   ],
   "source": [
    "# Topic modeling\n",
    "docs = data[\"Clean_Resume\"].values\n",
    "dictionary = corpora.Dictionary(d.split() for d in docs)\n",
    "bow = [dictionary.doc2bow(d.split()) for d in docs]\n",
    "lda = gensim.models.ldamodel.LdaModel\n",
    "num_topics = 4\n",
    "ldamodel = lda(\n",
    "    bow, \n",
    "    num_topics=num_topics, \n",
    "    id2word=dictionary, \n",
    "    passes=50, \n",
    "    minimum_probability=0\n",
    ")\n",
    "ldamodel.print_topics(num_topics=num_topics)"
   ]
  },
  {
   "cell_type": "code",
   "execution_count": 56,
   "metadata": {},
   "outputs": [
    {
     "data": {
      "text/html": [
       "\n",
       "<link rel=\"stylesheet\" type=\"text/css\" href=\"https://cdn.jsdelivr.net/gh/bmabey/pyLDAvis@3.4.0/pyLDAvis/js/ldavis.v1.0.0.css\">\n",
       "\n",
       "\n",
       "<div id=\"ldavis_el29616116662652483006712534\" style=\"background-color:white;\"></div>\n",
       "<script type=\"text/javascript\">\n",
       "\n",
       "var ldavis_el29616116662652483006712534_data = {\"mdsDat\": {\"x\": [0.010213225872401296, -0.05389759431097848, 0.14580128169852016, -0.10211691325994299], \"y\": [-0.08296545769829679, -0.0647325728421051, 0.05018139949257537, 0.09751663104782662], \"topics\": [1, 2, 3, 4], \"cluster\": [1, 1, 1, 1], \"Freq\": [47.412199325956536, 33.77114903730541, 12.955327437004687, 5.861324199733358]}, \"tinfo\": {\"Term\": [\"system\", \"project\", \"state\", \"employee\", \"network\", \"customer\", \"software\", \"support\", \"program\", \"student\", \"city\", \"technical\", \"skill\", \"financial\", \"server\", \"engineering\", \"technology\", \"patient\", \"training\", \"equipment\", \"education\", \"application\", \"food\", \"executive\", \"school\", \"new\", \"engineer\", \"company\", \"user\", \"management\", \"accountant\", \"payable\", \"ledger\", \"finance\", \"forecasting\", \"artist\", \"saving\", \"receivable\", \"statement\", \"quickbooks\", \"makeup\", \"workforce\", \"acquisition\", \"forecast\", \"million\", \"campaign\", \"pmo\", \"negotiating\", \"pr\", \"ceo\", \"reconciliation\", \"director\", \"accrual\", \"entity\", \"variance\", \"ar\", \"commerce\", \"financials\", \"vp\", \"tax\", \"financial\", \"accounting\", \"balance\", \"bank\", \"marketing\", \"annual\", \"strategic\", \"corporate\", \"monthly\", \"account\", \"budget\", \"reporting\", \"brand\", \"partner\", \"business\", \"lead\", \"analysis\", \"senior\", \"project\", \"000\", \"sale\", \"executive\", \"management\", \"market\", \"strategy\", \"manager\", \"company\", \"team\", \"development\", \"new\", \"state\", \"year\", \"city\", \"process\", \"client\", \"name\", \"report\", \"managed\", \"system\", \"skill\", \"product\", \"service\", \"experience\", \"customer\", \"merchandise\", \"patient\", \"safe\", \"cleaned\", \"teacher\", \"cleaning\", \"answer\", \"stocked\", \"cashier\", \"shelf\", \"greeted\", \"instructional\", \"jamie\", \"classroom\", \"prevent\", \"visitor\", \"observed\", \"dealership\", \"display\", \"hygiene\", \"forklift\", \"teller\", \"dessert\", \"meal\", \"apartment\", \"orderly\", \"aide\", \"correctly\", \"promptly\", \"truck\", \"pharmacy\", \"food\", \"complaint\", \"student\", \"friendly\", \"concern\", \"child\", \"appointment\", \"learning\", \"resident\", \"parent\", \"clean\", \"care\", \"lesson\", \"customer\", \"item\", \"guest\", \"school\", \"telephone\", \"maintained\", \"positive\", \"question\", \"medical\", \"service\", \"store\", \"order\", \"high\", \"state\", \"skill\", \"city\", \"need\", \"daily\", \"equipment\", \"record\", \"appropriate\", \"name\", \"company\", \"assisted\", \"work\", \"safety\", \"staff\", \"experience\", \"education\", \"sale\", \"employee\", \"client\", \"team\", \"management\", \"training\", \"information\", \"professional\", \"office\", \"communication\", \"hardware\", \"remote\", \"lan\", \"wan\", \"vpn\", \"xp\", \"query\", \"laptop\", \"configuring\", \"mechanical\", \"firewall\", \"configured\", \"sql\", \"asp\", \"badge\", \"configuration\", \"experiment\", \"linux\", \"oem\", \"11g\", \"plc\", \"alza\", \"battery\", \"connectivity\", \"itil\", \"vmware\", \"routing\", \"fix\", \"comptia\", \"troubleshooting\", \"pc\", \"ip\", \"engineer\", \"server\", \"backup\", \"desktop\", \"drilling\", \"cisco\", \"network\", \"engineering\", \"upgrade\", \"installation\", \"user\", \"oracle\", \"hp\", \"o\", \"test\", \"window\", \"infrastructure\", \"technical\", \"system\", \"technology\", \"software\", \"electrical\", \"security\", \"support\", \"application\", \"database\", \"manufacturing\", \"project\", \"equipment\", \"data\", \"design\", \"using\", \"web\", \"process\", \"development\", \"management\", \"microsoft\", \"company\", \"information\", \"city\", \"name\", \"state\", \"skill\", \"customer\", \"new\", \"sushi\", \"yoga\", \"ogunade\", \"osho\", \"livestock\", \"oso\", \"apos\", \"ink\", \"entrance\", \"sobayo\", \"nigeria\", \"fafiolu\", \"eeo\", \"farm\", \"finalisation\", \"olorunsola\", \"eruvbetine\", \"ruminant\", \"ut\", \"beef\", \"wine\", \"teen\", \"affirmative\", \"mentees\", \"19\", \"lytec\", \"farmer\", \"surgical\", \"exit\", \"agriculture\", \"applicant\", \"extension\", \"h\", \"chicago\", \"effect\", \"recruitment\", \"animal\", \"fitness\", \"nutrition\", \"feed\", \"news\", \"rush\", \"chef\", \"wellness\", \"hiring\", \"hire\", \"employment\", \"exercise\", \"instructor\", \"employee\", \"job\", \"hr\", \"culinary\", \"menu\", \"human\", \"program\", \"recruiting\", \"state\", \"health\", \"city\", \"resource\", \"education\", \"training\", \"skill\", \"company\", \"name\", \"university\", \"new\", \"science\", \"current\", \"management\", \"student\", \"professional\", \"school\", \"research\", \"event\", \"experience\", \"relation\", \"staff\"], \"Freq\": [536.0, 641.0, 1254.0, 271.0, 152.0, 850.0, 211.0, 285.0, 324.0, 295.0, 1150.0, 150.0, 657.0, 346.0, 109.0, 108.0, 154.0, 181.0, 348.0, 187.0, 285.0, 195.0, 155.0, 193.0, 233.0, 484.0, 77.0, 1188.0, 89.0, 897.0, 78.31190777986704, 56.045095728668535, 58.876724853050334, 183.18503667713964, 43.58191904562792, 41.646585629882956, 38.77271988246999, 37.82071613206167, 102.04075471684685, 28.18667162882318, 27.214314759593044, 27.197733906507192, 30.946483391564623, 43.03146694181734, 73.02928591073812, 69.0021573100219, 22.38627776051347, 28.917883725995576, 21.43839866721323, 21.420079350024864, 90.57139553759916, 148.97341900741392, 19.513185596065043, 19.50444293392788, 19.488122179235745, 18.544238532873816, 25.04354699007302, 17.580308851600076, 17.573994333822313, 101.99320537436726, 331.27830956908525, 230.0488202008341, 69.68287675773034, 96.91672238961023, 329.0236223113734, 84.11094745847528, 144.95903019382732, 99.85720353078922, 164.44066165959924, 360.38272243862065, 272.34851121928364, 141.65847219249628, 109.19693076002366, 64.54810488391448, 652.5206202553376, 125.58096823037893, 207.66443696345937, 112.63071283667017, 468.75801076316645, 76.4081889043647, 518.7558087696144, 159.4958790769867, 601.4513913844117, 117.7299703723918, 157.95023010886942, 306.6161490488533, 626.6209149339135, 341.66852554696794, 289.79498518385657, 300.7181780096004, 573.048834732696, 213.48621091973254, 523.4277263225149, 235.72142185512163, 281.31866380186, 431.6028578937033, 213.91510813680767, 181.32367188845916, 245.89735702988207, 233.12084065095894, 183.07155994309673, 218.4963839165794, 193.77448466850043, 209.375958228493, 59.54194171787436, 177.6536452167433, 36.78431529615494, 28.473871950918547, 97.80106929192311, 20.905920567989114, 22.621209220372965, 18.111577972676415, 18.109303396447466, 18.080555047809177, 15.297719202552226, 15.297462222053422, 15.293474840918494, 49.41015924705934, 14.35348679136099, 16.97793061447841, 13.412424204741043, 14.292397148133695, 22.288941802226436, 12.470833314025882, 12.465287316284254, 12.440890902511757, 12.435123782015344, 22.076544431819663, 11.529469522356175, 11.528654356308806, 11.526178976713352, 11.523866152224116, 11.523305576159283, 13.300992679427129, 24.473646572081265, 139.2554517493232, 38.04034752520657, 251.19740009676897, 29.293909870441322, 41.63267194169586, 75.48244444919763, 33.15506696539099, 79.71503518082781, 37.08233856876318, 37.005820533542575, 40.93862857259131, 104.05846555076167, 40.81429782149558, 576.9120497943908, 64.92234839762266, 48.2040386071661, 169.3216824440629, 43.9125598977914, 162.29935922774274, 49.93696687909111, 46.98587932734749, 70.91992422433096, 343.45809414132555, 98.90906402004981, 121.66674064261086, 139.56779660489272, 534.6186152510727, 322.70202547610876, 489.7518760038991, 119.37189283571054, 103.87843098959031, 113.78822055769903, 107.3191584264317, 61.70350868077177, 357.0044422389456, 421.49219477905615, 105.9409684255719, 184.5798123067017, 73.34667593786386, 139.75024080646216, 177.7051082509596, 131.8445548946814, 222.8058886028299, 127.40397968567507, 164.12098999630606, 155.02952195703972, 171.161270770831, 129.37999955688724, 121.57926687133428, 117.36403128780937, 117.8451657160258, 112.52607577855026, 59.36354946455884, 17.631697690474763, 17.627614972172342, 16.757680507652562, 15.887971638079408, 14.15053931787397, 12.40870881326188, 12.407364414108386, 11.537983849376264, 22.282871239875874, 10.665798937705956, 10.66314865560937, 49.40469906180111, 10.656896190787739, 10.652044982382572, 9.794701650453138, 9.789492791522827, 21.96570492007234, 8.925960271403133, 8.92571083308816, 8.05494460183426, 8.054868486466088, 8.05390741531134, 8.050907736163268, 12.091900143983494, 8.790698676898685, 7.182988953321095, 7.1814483049050875, 9.587593567762902, 51.75257755179709, 33.86310370385063, 15.833581246678564, 67.90503267027358, 93.37762204033618, 15.704625306048204, 28.058710796541583, 14.132974091826224, 17.74232174905989, 115.53893978839955, 84.16163928988273, 35.59180293187414, 28.264205783658152, 62.079510870402146, 47.07785042268363, 19.16805430018074, 20.989234617585627, 68.78444212255182, 60.08018574347534, 22.199065468360825, 88.48392842099237, 222.6370630722284, 83.59593520078778, 105.01381672391716, 25.04144257905334, 52.90972556316585, 111.97245608807816, 81.217460166892, 60.12685638584883, 35.98250036554216, 137.47937990855462, 65.70154595075216, 68.03645731658008, 68.12720884470396, 48.3491164631524, 39.66290401159578, 71.51804395275842, 76.74565477521932, 97.83616318278912, 54.946272022181304, 97.89379810638987, 62.539247694159876, 86.21128859685527, 74.25428689453531, 78.64629403467981, 65.55062109735164, 60.794683455662, 57.095891070300176, 14.715880210963064, 10.343577830986755, 9.629674848200441, 6.7223259342824955, 6.709313895166253, 5.2686473283409585, 5.266214364965611, 5.261165468083858, 4.530916323793122, 3.814964988315115, 3.814964988315115, 3.814964988315115, 3.8129531466699818, 3.8084651922308392, 3.8073690310375126, 3.0881190469722446, 3.08811842462486, 3.08797901881072, 3.0875578970805058, 3.0871944462079264, 3.086434974949643, 3.086352825094882, 3.086237068481355, 3.084807329089908, 3.083043389152955, 3.0743243022953624, 3.07171251777152, 7.341454538162969, 6.707241893273947, 13.874577739779596, 26.315457958746126, 9.311385650827022, 10.801840423314845, 5.763371179438749, 8.178186490154276, 11.392980820617183, 10.813194528998636, 18.17698138070892, 14.558031339530993, 4.542699849172256, 5.904021688347814, 4.542530985581913, 25.72303635562812, 8.119687495599283, 19.390485758494897, 15.093230175130598, 13.154953310037955, 7.1689796733973825, 14.43412944343503, 50.21847175031187, 27.280307173118107, 20.020573484919097, 14.103905282818904, 16.765560577076812, 22.659865763158724, 40.26209190850582, 16.85110263998193, 68.00114046653987, 22.999177855182356, 50.87018065467197, 21.33160882562623, 28.521008961405578, 30.318547359158806, 35.792213756596674, 42.15868809476365, 36.28787112877129, 22.679709516964337, 27.615535006706043, 20.031013984642364, 22.265524885596367, 26.879369413279484, 21.04692555722218, 20.708227514617974, 19.630109416664254, 18.43880707437309, 19.16445582679721, 20.461587097136906, 17.823687217445656, 17.91553241466153], \"Total\": [536.0, 641.0, 1254.0, 271.0, 152.0, 850.0, 211.0, 285.0, 324.0, 295.0, 1150.0, 150.0, 657.0, 346.0, 109.0, 108.0, 154.0, 181.0, 348.0, 187.0, 285.0, 195.0, 155.0, 193.0, 233.0, 484.0, 77.0, 1188.0, 89.0, 897.0, 78.94896337099472, 56.771992436319145, 59.65317306605265, 185.8944993196753, 44.243359273255095, 42.31601029704984, 39.42288375123696, 38.461395899889666, 103.96746802873025, 28.823154115939268, 27.85713635317276, 27.853733637179715, 31.708353340264697, 44.1032997499356, 74.96857828406917, 70.92959110611727, 23.036358417378832, 29.762627245626412, 22.075484667512992, 22.071922069316766, 93.35124733889954, 153.81496196980925, 20.148136612346992, 20.14631531925361, 20.143754624163236, 19.183127124518748, 25.91427758474483, 18.219145203375085, 18.217986710419776, 105.8576769984352, 346.5762218153791, 241.3873215203613, 72.8061496645783, 101.75370537395209, 356.6297004883955, 88.70832408722262, 156.11003330854945, 106.9225522749744, 179.89738393236334, 405.9431209819085, 303.36977309927664, 154.39625986260756, 119.21044470011272, 68.72738271150486, 791.6119949217201, 141.30338472681242, 250.13764181385625, 127.50220831354702, 641.5656044101472, 83.59865407133687, 746.7115353162611, 193.44668076400993, 897.3281947513115, 137.80913093100938, 199.524560081402, 458.7384414495232, 1188.165595914123, 554.2943694943016, 459.3216779855821, 484.7676797181667, 1254.3148844849884, 316.3828795680579, 1150.261071577941, 366.2682135087278, 476.58123634537554, 899.1494581559555, 320.7863791209637, 254.55071532582306, 536.3940576647424, 657.165700981016, 326.00028137673024, 607.805413113401, 446.0534110141409, 850.2925101416693, 60.198669211161, 181.2320787803698, 37.56128783213351, 29.12214892598161, 100.18781762025964, 21.57969875935396, 23.42497167877203, 18.761689222705925, 18.76165537779071, 18.756251056626663, 15.939223989876538, 15.939232244290942, 15.937941068948, 51.521731251208394, 14.99679184985173, 17.775819926643194, 14.055119372055405, 14.99202476284669, 23.42958197816052, 13.11333859093729, 13.11254042814277, 13.106805092284889, 13.104817816823246, 23.300279206225337, 12.171665816675242, 12.171507181426628, 12.171024450235713, 12.170714307995366, 12.170516073872554, 14.051118548936318, 26.209864285994033, 155.4830903088072, 41.4195576100866, 295.59303211190934, 31.987796370708836, 46.14942757557176, 86.73228165686247, 36.71807851799512, 92.55493612046811, 41.326035808713264, 41.3661616365096, 46.18225797606464, 126.63328148918156, 46.20174526899513, 850.2925101416693, 77.385662166324, 56.30429784372754, 233.99400549157653, 51.12221589231912, 230.8276343840479, 61.02595941383768, 56.75725035369392, 92.74306045066868, 607.805413113401, 138.279791338307, 180.81608514919307, 219.58458341802185, 1254.3148844849884, 657.165700981016, 1150.261071577941, 192.23603103173127, 160.7063474872678, 187.04398391693908, 172.74227467370687, 80.955703248761, 899.1494581559555, 1188.165595914123, 173.54581820500772, 386.95462800609664, 103.22763872080117, 291.69120515710983, 446.0534110141409, 285.277986894275, 746.7115353162611, 271.7571945146979, 476.58123634537554, 554.2943694943016, 897.3281947513115, 348.18329948370797, 337.6114852904262, 293.59174074818935, 317.6978834927091, 300.22077171750385, 60.09860613122856, 18.29360281609037, 18.29355961596119, 17.422404373678845, 16.552328357826052, 14.809930796322112, 13.067902416494345, 13.068126900878418, 12.197190559289028, 23.563008615040417, 11.326243150171583, 11.325219492429571, 52.49131860600053, 11.325226971769686, 11.322926367470483, 10.454832069597348, 10.453584957363015, 23.584927376625345, 9.58412832517825, 9.58407562055234, 8.713106593108835, 8.713112443085572, 8.713127840146457, 8.712648667163274, 13.097392234551087, 9.593793290662573, 7.842102095128772, 7.841833642689782, 10.47326620790957, 56.577058814527085, 37.74303887033345, 17.493008400362704, 77.50655107390737, 109.86574662163947, 17.52744400774838, 32.54540989312624, 15.76763466819955, 20.202829622617305, 152.37877647136511, 108.3099898777048, 44.30697650046781, 35.394305282245675, 89.69676219277453, 66.23310402080644, 22.943151804552723, 25.595233955827112, 108.67556137054508, 92.19682290521327, 27.405064318751677, 150.97477485086495, 536.3940576647424, 154.68188161064043, 211.5770701296758, 32.67045521870173, 94.77325286842857, 285.95102691148674, 195.42513489970355, 136.6603639458686, 63.55577962295515, 641.5656044101472, 187.04398391693908, 232.86612774296606, 270.2647495997546, 132.72754944790745, 86.06116580393586, 366.2682135087278, 459.3216779855821, 897.3281947513115, 209.78747642031587, 1188.165595914123, 337.6114852904262, 1150.261071577941, 899.1494581559555, 1254.3148844849884, 657.165700981016, 850.2925101416693, 484.7676797181667, 15.411668583889591, 11.05020856997027, 10.323880560983163, 7.416527423732391, 7.41621269780482, 5.962848022233387, 5.962654489769905, 5.962294071664063, 5.235963492123249, 4.5091630120711015, 4.509163251172142, 4.5091632909181625, 4.509017986859999, 4.50904756293904, 4.508602737645682, 3.7823154969472754, 3.7823151062041114, 3.7823089043454505, 3.782290856303703, 3.7822636805690895, 3.782234052163975, 3.78219650146142, 3.7822138951326125, 3.7820965452413047, 3.782185354133828, 3.782405170748746, 3.782356143015042, 9.042104363116025, 8.37604804602725, 17.594848718066775, 35.53924141527443, 12.229643303845007, 15.571133796251264, 7.720409313847624, 11.6569724097313, 17.32808713089282, 16.575436368797636, 32.458020455887166, 25.852917009299198, 6.1039219639837725, 8.639612050245928, 6.19103140835385, 63.036730304078745, 13.6582669078675, 51.010310891828986, 37.864746898031484, 30.895274626211105, 11.985633745766958, 36.10911324389786, 271.7571945146979, 104.07029020778202, 63.55117106387975, 37.24846965060816, 50.602421496714555, 92.21334591952991, 324.066287953596, 60.348429684258456, 1254.3148844849884, 139.1505536227318, 1150.261071577941, 132.76415214110284, 285.277986894275, 348.18329948370797, 657.165700981016, 1188.165595914123, 899.1494581559555, 231.04030458470584, 484.7676797181667, 147.45816738565023, 237.50653564267319, 897.3281947513115, 295.59303211190934, 293.59174074818935, 233.99400549157653, 146.40551987512436, 207.44511993505, 446.0534110141409, 120.71430966873899, 291.69120515710983], \"Category\": [\"Default\", \"Default\", \"Default\", \"Default\", \"Default\", \"Default\", \"Default\", \"Default\", \"Default\", \"Default\", \"Default\", \"Default\", \"Default\", \"Default\", \"Default\", \"Default\", \"Default\", \"Default\", \"Default\", \"Default\", \"Default\", \"Default\", \"Default\", \"Default\", \"Default\", \"Default\", \"Default\", \"Default\", \"Default\", \"Default\", \"Topic1\", \"Topic1\", \"Topic1\", \"Topic1\", \"Topic1\", \"Topic1\", \"Topic1\", \"Topic1\", \"Topic1\", \"Topic1\", \"Topic1\", \"Topic1\", \"Topic1\", \"Topic1\", \"Topic1\", \"Topic1\", \"Topic1\", \"Topic1\", \"Topic1\", \"Topic1\", \"Topic1\", \"Topic1\", \"Topic1\", \"Topic1\", \"Topic1\", \"Topic1\", \"Topic1\", \"Topic1\", \"Topic1\", \"Topic1\", \"Topic1\", \"Topic1\", \"Topic1\", \"Topic1\", \"Topic1\", \"Topic1\", \"Topic1\", \"Topic1\", \"Topic1\", \"Topic1\", \"Topic1\", \"Topic1\", \"Topic1\", \"Topic1\", \"Topic1\", \"Topic1\", \"Topic1\", \"Topic1\", \"Topic1\", \"Topic1\", \"Topic1\", \"Topic1\", \"Topic1\", \"Topic1\", \"Topic1\", \"Topic1\", \"Topic1\", \"Topic1\", \"Topic1\", \"Topic1\", \"Topic1\", \"Topic1\", \"Topic1\", \"Topic1\", \"Topic1\", \"Topic1\", \"Topic1\", \"Topic1\", \"Topic1\", \"Topic1\", \"Topic1\", \"Topic1\", \"Topic1\", \"Topic1\", \"Topic2\", \"Topic2\", \"Topic2\", \"Topic2\", \"Topic2\", \"Topic2\", \"Topic2\", \"Topic2\", \"Topic2\", \"Topic2\", \"Topic2\", \"Topic2\", \"Topic2\", \"Topic2\", \"Topic2\", \"Topic2\", \"Topic2\", \"Topic2\", \"Topic2\", \"Topic2\", \"Topic2\", \"Topic2\", \"Topic2\", \"Topic2\", \"Topic2\", \"Topic2\", \"Topic2\", \"Topic2\", \"Topic2\", \"Topic2\", \"Topic2\", \"Topic2\", \"Topic2\", \"Topic2\", \"Topic2\", \"Topic2\", \"Topic2\", \"Topic2\", \"Topic2\", \"Topic2\", \"Topic2\", \"Topic2\", \"Topic2\", \"Topic2\", \"Topic2\", \"Topic2\", \"Topic2\", \"Topic2\", \"Topic2\", \"Topic2\", \"Topic2\", \"Topic2\", \"Topic2\", \"Topic2\", \"Topic2\", \"Topic2\", \"Topic2\", \"Topic2\", \"Topic2\", \"Topic2\", \"Topic2\", \"Topic2\", \"Topic2\", \"Topic2\", \"Topic2\", \"Topic2\", \"Topic2\", \"Topic2\", \"Topic2\", \"Topic2\", \"Topic2\", \"Topic2\", \"Topic2\", \"Topic2\", \"Topic2\", \"Topic2\", \"Topic2\", \"Topic2\", \"Topic2\", \"Topic2\", \"Topic2\", \"Topic2\", \"Topic2\", \"Topic3\", \"Topic3\", \"Topic3\", \"Topic3\", \"Topic3\", \"Topic3\", \"Topic3\", \"Topic3\", \"Topic3\", \"Topic3\", \"Topic3\", \"Topic3\", \"Topic3\", \"Topic3\", \"Topic3\", \"Topic3\", \"Topic3\", \"Topic3\", \"Topic3\", \"Topic3\", \"Topic3\", \"Topic3\", \"Topic3\", \"Topic3\", \"Topic3\", \"Topic3\", \"Topic3\", \"Topic3\", \"Topic3\", \"Topic3\", \"Topic3\", \"Topic3\", \"Topic3\", \"Topic3\", \"Topic3\", \"Topic3\", \"Topic3\", \"Topic3\", \"Topic3\", \"Topic3\", \"Topic3\", \"Topic3\", \"Topic3\", \"Topic3\", \"Topic3\", \"Topic3\", \"Topic3\", \"Topic3\", \"Topic3\", \"Topic3\", \"Topic3\", \"Topic3\", \"Topic3\", \"Topic3\", \"Topic3\", \"Topic3\", \"Topic3\", \"Topic3\", \"Topic3\", \"Topic3\", \"Topic3\", \"Topic3\", \"Topic3\", \"Topic3\", \"Topic3\", \"Topic3\", \"Topic3\", \"Topic3\", \"Topic3\", \"Topic3\", \"Topic3\", \"Topic3\", \"Topic3\", \"Topic3\", \"Topic3\", \"Topic3\", \"Topic3\", \"Topic4\", \"Topic4\", \"Topic4\", \"Topic4\", \"Topic4\", \"Topic4\", \"Topic4\", \"Topic4\", \"Topic4\", \"Topic4\", \"Topic4\", \"Topic4\", \"Topic4\", \"Topic4\", \"Topic4\", \"Topic4\", \"Topic4\", \"Topic4\", \"Topic4\", \"Topic4\", \"Topic4\", \"Topic4\", \"Topic4\", \"Topic4\", \"Topic4\", \"Topic4\", \"Topic4\", \"Topic4\", \"Topic4\", \"Topic4\", \"Topic4\", \"Topic4\", \"Topic4\", \"Topic4\", \"Topic4\", \"Topic4\", \"Topic4\", \"Topic4\", \"Topic4\", \"Topic4\", \"Topic4\", \"Topic4\", \"Topic4\", \"Topic4\", \"Topic4\", \"Topic4\", \"Topic4\", \"Topic4\", \"Topic4\", \"Topic4\", \"Topic4\", \"Topic4\", \"Topic4\", \"Topic4\", \"Topic4\", \"Topic4\", \"Topic4\", \"Topic4\", \"Topic4\", \"Topic4\", \"Topic4\", \"Topic4\", \"Topic4\", \"Topic4\", \"Topic4\", \"Topic4\", \"Topic4\", \"Topic4\", \"Topic4\", \"Topic4\", \"Topic4\", \"Topic4\", \"Topic4\", \"Topic4\", \"Topic4\", \"Topic4\", \"Topic4\", \"Topic4\", \"Topic4\"], \"logprob\": [30.0, 29.0, 28.0, 27.0, 26.0, 25.0, 24.0, 23.0, 22.0, 21.0, 20.0, 19.0, 18.0, 17.0, 16.0, 15.0, 14.0, 13.0, 12.0, 11.0, 10.0, 9.0, 8.0, 7.0, 6.0, 5.0, 4.0, 3.0, 2.0, 1.0, -6.6016, -6.9361, -6.8868, -5.7518, -7.1876, -7.2331, -7.3046, -7.3294, -6.3369, -7.6234, -7.6585, -7.6591, -7.53, -7.2003, -6.6714, -6.7281, -7.8538, -7.5978, -7.8971, -7.8979, -6.4561, -5.9585, -7.9912, -7.9916, -7.9925, -8.0421, -7.7417, -8.0955, -8.0959, -6.3374, -5.1593, -5.524, -6.7183, -6.3884, -5.1661, -6.5301, -5.9858, -6.3585, -5.8597, -5.0751, -5.3552, -6.0089, -6.2691, -6.7949, -4.4814, -6.1293, -5.6264, -6.2382, -4.8122, -6.6262, -4.7108, -5.8903, -4.5629, -6.1939, -5.9, -5.2367, -4.5219, -5.1284, -5.2931, -5.2561, -4.6113, -5.5987, -4.7019, -5.4996, -5.3228, -4.8948, -5.5967, -5.762, -5.4574, -5.5107, -5.7524, -5.5755, -5.6956, -5.6181, -6.5363, -5.4432, -7.0179, -7.274, -6.0401, -7.583, -7.5041, -7.7265, -7.7266, -7.7282, -7.8953, -7.8953, -7.8956, -6.7228, -7.959, -7.7911, -8.0268, -7.9633, -7.5189, -8.0996, -8.1001, -8.102, -8.1025, -7.5285, -8.1781, -8.1782, -8.1784, -8.1786, -8.1786, -8.0352, -7.4254, -5.6867, -6.9844, -5.0968, -7.2456, -6.8941, -6.2991, -7.1218, -6.2445, -7.0099, -7.0119, -6.9109, -5.9781, -6.914, -4.2653, -6.4498, -6.7476, -5.4912, -6.8408, -5.5336, -6.7122, -6.7732, -6.3615, -4.7839, -6.0288, -5.8217, -5.6845, -4.3414, -4.8463, -4.4291, -5.8408, -5.9798, -5.8887, -5.9472, -6.5007, -4.7453, -4.5792, -5.9601, -5.4049, -6.3278, -5.6831, -5.4429, -5.7414, -5.2167, -5.7756, -5.5224, -5.5794, -5.4804, -5.7602, -5.8224, -5.8577, -5.8536, -5.8998, -5.5812, -6.7952, -6.7954, -6.846, -6.8993, -7.0152, -7.1465, -7.1466, -7.2193, -6.5611, -7.2979, -7.2981, -5.7649, -7.2987, -7.2992, -7.3831, -7.3836, -6.5754, -7.4759, -7.476, -7.5786, -7.5786, -7.5787, -7.5791, -7.1724, -7.4912, -7.6932, -7.6934, -7.4044, -5.7184, -6.1426, -6.9028, -5.4468, -5.1283, -6.9109, -6.3306, -7.0164, -6.789, -4.9153, -5.2322, -6.0928, -6.3233, -5.5365, -5.8131, -6.7117, -6.6209, -5.4339, -5.5692, -6.5649, -5.1821, -4.2594, -5.2389, -5.0108, -6.4444, -5.6963, -4.9467, -5.2678, -5.5684, -6.0819, -4.7414, -5.4798, -5.4449, -5.4435, -5.7865, -5.9845, -5.395, -5.3244, -5.0816, -5.6585, -5.081, -5.5291, -5.2081, -5.3574, -5.2999, -5.4821, -5.5574, -5.6202, -6.1828, -6.5354, -6.6069, -6.9663, -6.9683, -7.21, -7.2105, -7.2114, -7.3608, -7.5328, -7.5328, -7.5328, -7.5334, -7.5345, -7.5348, -7.7442, -7.7442, -7.7443, -7.7444, -7.7445, -7.7448, -7.7448, -7.7448, -7.7453, -7.7459, -7.7487, -7.7495, -6.8782, -6.9686, -6.2417, -5.6016, -6.6405, -6.4921, -7.1202, -6.7703, -6.4388, -6.491, -5.9716, -6.1936, -7.3583, -7.0961, -7.3583, -5.6244, -6.7775, -5.907, -6.1575, -6.295, -6.902, -6.2022, -4.9554, -5.5656, -5.875, -6.2253, -6.0524, -5.7512, -5.1764, -6.0474, -4.6522, -5.7363, -4.9425, -5.8116, -5.5211, -5.46, -5.294, -5.1303, -5.2803, -5.7503, -5.5534, -5.8745, -5.7687, -5.5804, -5.825, -5.8412, -5.8947, -5.9573, -5.9187, -5.8532, -5.9912, -5.9861], \"loglift\": [30.0, 29.0, 28.0, 27.0, 26.0, 25.0, 24.0, 23.0, 22.0, 21.0, 20.0, 19.0, 18.0, 17.0, 16.0, 15.0, 14.0, 13.0, 12.0, 11.0, 10.0, 9.0, 8.0, 7.0, 6.0, 5.0, 4.0, 3.0, 2.0, 1.0, 0.7382, 0.7334, 0.7332, 0.7316, 0.7312, 0.7303, 0.7297, 0.7295, 0.7276, 0.724, 0.7229, 0.7225, 0.722, 0.7217, 0.7201, 0.7187, 0.7177, 0.7175, 0.717, 0.7163, 0.7161, 0.7143, 0.7143, 0.7139, 0.7132, 0.7124, 0.7121, 0.7106, 0.7103, 0.7091, 0.7011, 0.6982, 0.7024, 0.6976, 0.6657, 0.6931, 0.6722, 0.6779, 0.6565, 0.6272, 0.6384, 0.6602, 0.6586, 0.6836, 0.5531, 0.6283, 0.5602, 0.6223, 0.4325, 0.6564, 0.382, 0.5533, 0.3462, 0.5888, 0.5126, 0.3434, 0.1065, 0.2624, 0.2857, 0.2688, -0.0371, 0.3529, -0.0411, 0.3056, 0.2191, 0.0123, 0.3411, 0.4071, -0.0337, -0.2901, 0.1693, -0.2768, -0.0875, -0.6552, 1.0746, 1.0656, 1.0647, 1.0631, 1.0615, 1.0538, 1.0506, 1.0503, 1.0502, 1.0489, 1.0445, 1.0445, 1.0443, 1.0437, 1.0417, 1.0396, 1.0388, 1.0378, 1.0357, 1.0353, 1.0349, 1.0334, 1.0331, 1.0316, 1.0314, 1.0313, 1.0311, 1.031, 1.0309, 1.0307, 1.017, 0.9753, 1.0005, 0.9228, 0.9976, 0.9826, 0.9466, 0.9835, 0.9362, 0.9772, 0.9742, 0.965, 0.8892, 0.9616, 0.6977, 0.91, 0.9302, 0.7621, 0.9335, 0.7333, 0.885, 0.8966, 0.8173, 0.5148, 0.7505, 0.6894, 0.6324, 0.2328, 0.3744, 0.2317, 0.6091, 0.6492, 0.5886, 0.6096, 0.814, 0.1619, 0.0492, 0.592, 0.3453, 0.7438, 0.3497, 0.1653, 0.3137, -0.1238, 0.328, 0.0195, -0.1885, -0.5713, 0.0956, 0.0642, 0.1687, 0.0938, 0.1042, 2.0314, 2.0068, 2.0066, 2.0048, 2.0027, 1.9981, 1.9919, 1.9918, 1.9881, 1.9878, 1.9836, 1.9834, 1.9831, 1.9828, 1.9826, 1.9784, 1.978, 1.9725, 1.9725, 1.9725, 1.9651, 1.9651, 1.965, 1.9647, 1.9638, 1.9562, 1.9559, 1.9557, 1.9553, 1.9545, 1.9352, 1.944, 1.9114, 1.8811, 1.9339, 1.8953, 1.9342, 1.9138, 1.7669, 1.7914, 1.8246, 1.8187, 1.6756, 1.7023, 1.8639, 1.8453, 1.5863, 1.6154, 1.833, 1.5094, 1.1643, 1.4283, 1.3432, 1.7777, 1.4608, 1.1061, 1.1656, 1.2226, 1.4748, 0.5032, 0.9974, 0.8132, 0.6656, 1.0338, 1.269, 0.4102, 0.2544, -0.1725, 0.7039, -0.4526, 0.3576, -0.5473, -0.4503, -0.7257, -0.2615, -0.5944, -0.0953, 2.7906, 2.7707, 2.7672, 2.7385, 2.7366, 2.713, 2.7126, 2.7117, 2.6922, 2.6696, 2.6696, 2.6696, 2.6691, 2.6679, 2.6677, 2.634, 2.634, 2.634, 2.6338, 2.6337, 2.6335, 2.6335, 2.6334, 2.633, 2.6324, 2.6295, 2.6287, 2.6284, 2.6146, 2.5992, 2.5363, 2.5642, 2.4711, 2.5444, 2.4824, 2.4175, 2.4096, 2.257, 2.2625, 2.5414, 2.4561, 2.5272, 1.9405, 2.3167, 1.8695, 1.917, 1.983, 2.3228, 1.9198, 1.1483, 1.4979, 1.6817, 1.8656, 1.7321, 1.4333, 0.7513, 1.5611, -0.078, 1.0367, -0.2817, 1.0084, 0.534, 0.3958, -0.0734, -0.5019, -0.3732, 0.5157, -0.0285, 0.8405, 0.4696, -0.6713, 0.1946, 0.1851, 0.3586, 0.7649, 0.455, -0.2451, 0.9239, 0.0468]}, \"token.table\": {\"Topic\": [1, 2, 3, 4, 1, 2, 3, 1, 1, 2, 3, 1, 1, 4, 1, 4, 2, 3, 1, 2, 3, 4, 1, 2, 4, 1, 2, 3, 4, 2, 2, 4, 1, 2, 4, 1, 2, 3, 4, 1, 2, 1, 2, 3, 4, 1, 1, 3, 1, 2, 3, 4, 1, 3, 3, 1, 2, 4, 1, 2, 4, 3, 4, 1, 2, 1, 2, 3, 4, 1, 2, 3, 4, 1, 2, 4, 1, 2, 4, 2, 1, 1, 2, 4, 1, 4, 1, 2, 1, 3, 1, 2, 3, 4, 2, 3, 4, 1, 2, 3, 4, 2, 2, 1, 2, 3, 4, 1, 1, 2, 3, 4, 1, 2, 3, 4, 1, 2, 3, 1, 2, 3, 3, 3, 3, 1, 2, 3, 4, 2, 2, 4, 1, 2, 3, 4, 1, 2, 3, 4, 1, 2, 3, 4, 1, 2, 3, 4, 1, 2, 3, 4, 2, 1, 2, 3, 4, 1, 2, 3, 2, 1, 2, 3, 4, 1, 2, 4, 2, 3, 1, 3, 1, 2, 3, 4, 4, 1, 3, 4, 1, 2, 3, 4, 1, 2, 3, 4, 1, 2, 3, 4, 1, 3, 1, 3, 4, 1, 4, 1, 2, 3, 4, 4, 1, 2, 3, 4, 1, 2, 4, 2, 4, 1, 4, 1, 2, 3, 4, 3, 1, 3, 4, 4, 4, 4, 3, 4, 4, 1, 2, 1, 2, 1, 3, 1, 2, 4, 3, 1, 2, 4, 1, 4, 1, 2, 1, 2, 2, 1, 2, 4, 1, 3, 4, 3, 1, 2, 3, 4, 1, 2, 3, 4, 1, 2, 3, 4, 1, 2, 4, 1, 3, 1, 2, 4, 1, 2, 3, 4, 2, 1, 2, 3, 4, 1, 2, 3, 4, 1, 2, 3, 2, 1, 2, 3, 4, 2, 3, 1, 2, 3, 1, 3, 2, 1, 2, 3, 4, 3, 3, 1, 2, 3, 4, 1, 2, 3, 4, 1, 1, 2, 3, 4, 2, 3, 4, 4, 1, 2, 3, 4, 1, 1, 2, 3, 4, 1, 2, 3, 4, 1, 2, 3, 4, 1, 3, 1, 2, 3, 4, 1, 2, 3, 2, 4, 2, 3, 1, 2, 3, 4, 4, 1, 2, 4, 2, 1, 2, 3, 1, 3, 1, 2, 3, 4, 1, 2, 3, 4, 1, 2, 3, 4, 1, 1, 2, 3, 1, 2, 3, 4, 1, 4, 4, 1, 2, 4, 1, 2, 3, 2, 3, 1, 2, 3, 4, 4, 4, 1, 3, 1, 2, 3, 4, 2, 4, 4, 1, 2, 1, 2, 4, 1, 2, 4, 1, 1, 2, 3, 2, 3, 3, 1, 1, 2, 4, 1, 2, 1, 2, 3, 4, 1, 2, 3, 4, 1, 2, 3, 4, 1, 2, 3, 4, 1, 2, 3, 4, 2, 3, 1, 2, 4, 1, 1, 1, 2, 1, 2, 3, 4, 1, 2, 4, 2, 4, 1, 2, 3, 4, 3, 1, 2, 3, 4, 1, 2, 3, 1, 2, 3, 4, 1, 2, 3, 1, 2, 3, 4, 3, 4, 1, 4, 2, 1, 2, 3, 4, 1, 2, 3, 4, 1, 1, 2, 3, 4, 1, 2, 3, 4, 1, 2, 3, 1, 2, 3, 4, 2, 3, 4, 1, 2, 3, 4, 2, 1, 2, 3, 4, 4, 1, 2, 3, 4, 1, 3, 1, 2, 3, 4, 1, 2, 3, 4, 1, 2, 2, 1, 2, 1, 2, 3, 4, 1, 2, 3, 4, 1, 2, 3, 4, 1, 2, 3, 4, 3, 4, 4, 1, 2, 3, 4, 1, 2, 2, 4, 1, 2, 3, 4, 1, 2, 3, 4, 1, 2, 3, 4, 4, 1, 2, 4, 2, 1, 2, 3, 4, 1, 2, 3, 4, 1, 2, 3, 4, 2, 1, 2, 3, 4, 1, 2, 3, 1, 3, 1, 2, 3, 4, 4, 1, 2, 3, 1, 3, 3, 1, 3, 4, 1, 2, 4, 1, 2, 3, 4, 1, 2, 3, 4, 1, 3, 1, 2, 3, 4, 4], \"Freq\": [0.9091055453494175, 0.08373340549270951, 0.939057699075346, 0.7931922206618138, 0.8868237479408942, 0.09114577409392524, 0.01970719439868654, 0.9879800401363679, 0.9528255193825466, 0.03314175719591466, 0.012428158948467998, 0.9926476271628905, 0.9776603555327107, 0.7931862351467601, 0.17050444980067003, 0.7956874324031269, 0.9859482288500044, 0.9181564053323478, 0.83154218010413, 0.031982391542466536, 0.12792956616986614, 0.007995597885616634, 0.060330236728032456, 0.24132094691212982, 0.663632604008357, 0.9469235369321919, 0.011272899249192761, 0.011272899249192761, 0.022545798498385523, 0.9818581774783043, 0.9858962758868997, 0.8385526963835442, 0.02813791066373773, 0.22510328530990184, 0.7315856772571809, 0.3633104822285974, 0.19956491277345492, 0.41448097268332945, 0.02046819618189281, 0.08170362178755443, 0.8987398396630987, 0.135876776540365, 0.765850922318421, 0.07411460538565365, 0.02470486846188455, 0.9904537397198038, 0.992532133940995, 0.9712829621357367, 0.345730024615878, 0.6107897101547177, 0.034573002461587794, 0.011524334153862599, 0.057053384370129995, 0.9128541499220799, 0.9714803084476276, 0.9614572439621326, 0.027470206970346647, 0.013735103485173324, 0.9532822381604494, 0.039310607759193796, 0.009827651939798449, 0.9181547828483978, 0.7931757945412764, 0.914349411867406, 0.08388526714379872, 0.8965955876922155, 0.06922245346153134, 0.02637045846153575, 0.009888921923075906, 0.8248990720063217, 0.1301142487238149, 0.04295033453019133, 0.0012632451332409214, 0.9727956826477341, 0.014098488154314987, 0.014098488154314987, 0.10265863639576146, 0.8212690911660917, 0.07107136365860409, 0.9594036153818107, 0.9514350374221874, 0.031727533936997225, 0.5552318438974515, 0.41245794118096396, 0.25905362250842356, 0.7771608675252707, 0.12682705666062288, 0.8647299317769743, 0.09899603359328321, 0.8909643023395489, 0.4546793879432456, 0.42599024874223773, 0.0747656354935356, 0.04433776058337576, 0.9510549977656418, 0.01940928566868657, 0.01940928566868657, 0.02165333710011062, 0.8877868211045353, 0.02165333710011062, 0.06496001130033185, 0.9614675095291312, 0.9731368465418136, 0.5896161631431939, 0.34411761834691745, 0.06504662298021001, 0.0020982781606519356, 0.9647191560036755, 0.5362720210162366, 0.3763896793467996, 0.07661028871660523, 0.013323528472453083, 0.5277042208225305, 0.3543277144597853, 0.08248008555120892, 0.035348608093375256, 0.07242955195806901, 0.9174409914688741, 0.9548119756994097, 0.08667496456916655, 0.9100871279762488, 0.9564955164684089, 0.9712836035851696, 0.9838331164598512, 0.9182052789699711, 0.9352563876592512, 0.037410255506370046, 0.009352563876592512, 0.028057691629777535, 0.9859733534388184, 0.6174750322829565, 0.37585436747658224, 0.46314514967914056, 0.37051611974331244, 0.07157697767768535, 0.09262902993582811, 0.24579776665935588, 0.6785900065188916, 0.07174001802019478, 0.0035281976075505627, 0.280013830838668, 0.6471430757160326, 0.03733517744515573, 0.03733517744515573, 0.4208426573235711, 0.2576587697899415, 0.29201327242860037, 0.030060189808826507, 0.3951401740843416, 0.11707857009906418, 0.4390446378714907, 0.043904463787149066, 0.9338298342926213, 0.5402110346103847, 0.19980408129425187, 0.25160513940757645, 0.007400151159046366, 0.06145259827937857, 0.06145259827937857, 0.8603363759113, 0.9156937675695925, 0.6313658028766127, 0.16981562973922687, 0.16763850628103166, 0.032656851872928244, 0.9686964004792048, 0.026005272496086036, 0.006501318124021509, 0.9389838888507238, 0.042681085856851084, 0.06342105338201538, 0.8878947473482153, 0.3680620476297506, 0.462706574163115, 0.07010705669138106, 0.10165523220250254, 0.887111120793184, 0.17157113611510222, 0.08578556805755111, 0.6862845444604089, 0.030608695021413855, 0.18365217012848312, 0.7652173755353464, 0.030608695021413855, 0.3127792077475351, 0.4673289339286701, 0.033117798467386064, 0.18398776926325594, 0.25893927459097305, 0.22657186526710144, 0.0971022279716149, 0.4207763212103312, 0.11611921670231376, 0.8773451928619262, 0.21235344981538462, 0.7755517297605351, 0.009232758687625417, 0.9927373657696215, 0.9549340837692581, 0.026731680406360238, 0.6094823132650135, 0.35285818136395514, 0.01603900824381614, 0.7931650102549933, 0.7086211526500356, 0.1831809782360636, 0.014461656176531338, 0.0915904891180318, 0.8219319110156652, 0.0827101294103814, 0.08787951249853024, 0.3337328742764817, 0.5840325299838429, 0.11938804487568559, 0.8357163141297992, 0.4349254936957533, 0.3990553498857943, 0.12106173535861174, 0.04483767976244879, 0.9566096263422501, 0.08176853364853244, 0.08176853364853244, 0.7359168028367921, 0.8870825343709197, 0.8871053019881568, 0.7931564047822848, 0.1638290931470792, 0.8191454657353959, 0.8871928250854796, 0.9844293439006081, 0.010758790643722493, 0.9550568653158308, 0.04328052259739414, 0.9879717077322328, 0.9711958196688864, 0.24647220895287153, 0.18485415671465366, 0.554562470143961, 0.8926483675824282, 0.0192947026846563, 0.8939878910557418, 0.0836103783001773, 0.974983736904239, 0.022674040393121837, 0.9944995299350562, 0.9151544710775509, 0.06252384430680559, 0.906595742448681, 0.9410746727398356, 0.07104253410817753, 0.8525104092981303, 0.07104253410817753, 0.1926641976913876, 0.12844279846092507, 0.7064353915350878, 0.981719939912921, 0.3593230403923592, 0.45274703089437257, 0.02155938242354155, 0.16528859858048522, 0.2504729573628438, 0.6375675278326932, 0.07286486032373637, 0.04098648393210171, 0.1320489481539342, 0.4225566340925894, 0.05281957926157368, 0.3961468444618026, 0.23524655682743942, 0.39207759471239906, 0.3724737149767791, 0.1307579719454541, 0.8281338223212094, 0.5192665917490235, 0.17308886391634115, 0.3147070253024385, 0.5530652802090623, 0.17351067614401952, 0.02168883451800244, 0.2494215969570281, 0.9150987688439063, 0.42948775831860553, 0.3613621138956543, 0.1866050260280838, 0.023695876321026512, 0.14595842408817244, 0.03648960602204311, 0.8027713324849485, 0.8386033865324779, 0.11301253035206375, 0.08475939776404783, 0.7910877124644463, 0.9410741853876085, 0.05538767973865942, 0.4707952777786051, 0.05538767973865942, 0.38771375817061593, 0.05716569598053047, 0.9146511356884875, 0.15506748490706918, 0.839948876579958, 0.01292229040892243, 0.07635107677099165, 0.9162129212518999, 0.9411504243308192, 0.28826670839586743, 0.3747467209146277, 0.06726223195903573, 0.2594400375562807, 0.9839528433982275, 0.9182647284511278, 0.8916983853118658, 0.049538799183992545, 0.05661577049599148, 0.007076971311998935, 0.0864351523033555, 0.8643515230335549, 0.021608788075838874, 0.021608788075838874, 0.9890504891444851, 0.021644204005234313, 0.8874123642146069, 0.043288408010468626, 0.06493261201570294, 0.04239996095943397, 0.9327991411075472, 0.9438779988162936, 0.7931461238474711, 0.28159539984651005, 0.7018223811559173, 0.008664473841431078, 0.004332236920715539, 0.9692309955227995, 0.7110567329120302, 0.15321111924623854, 0.11392621687540815, 0.0196424511854152, 0.6697660939613773, 0.1905657272336032, 0.10921310683563225, 0.030089325352674192, 0.669226670932439, 0.23324838368003575, 0.07411630883290855, 0.02397880579888218, 0.42482367709400437, 0.5664315694586725, 0.8562567603671609, 0.09433337190485672, 0.021769239670351548, 0.029025652893802066, 0.9225255203070375, 0.07010072342758644, 0.008412086811310372, 0.9441946942044398, 0.042917940645656356, 0.042439402214609116, 0.9336668487214006, 0.0970423011303064, 0.7655559311390838, 0.021564955806734756, 0.11860725693704116, 0.7932108459194805, 0.019761900130904342, 0.6323808041889389, 0.3359523022253738, 0.9966997740354672, 0.5005065211310763, 0.23356970986116896, 0.26217008249723045, 0.9737412882953459, 0.013338921757470491, 0.9116308220560876, 0.04446979619785793, 0.005558724524732241, 0.03335234714839345, 0.48045405141652275, 0.39704188971226534, 0.08229999954820065, 0.04003783761804356, 0.2600969221620415, 0.6190306747456588, 0.07282713820537162, 0.04681744598916747, 0.9743763465727482, 0.22969077984805297, 0.013125187419888742, 0.7612608703535471, 0.6209159822185234, 0.20422153567984655, 0.1175820963005177, 0.057759626252885894, 0.2314918758352199, 0.6944756275056597, 0.8870825421901088, 0.07736070940391784, 0.3481231923176303, 0.5802053205293838, 0.07813954752090367, 0.07813954752090367, 0.8204652489694886, 0.9249298889518357, 0.9390525350496717, 0.5067707667108045, 0.3714220526203411, 0.11961049152180478, 0.0031476445137317045, 0.9686280213074918, 0.7931649283147623, 0.28686561321407117, 0.709614937950597, 0.23228021978987876, 0.6747187336753622, 0.08295722135352813, 0.011060962847137083, 0.9859091253967016, 0.9438379446424575, 0.8385254799982724, 0.09669739327396566, 0.8944508877841824, 0.9457656822586828, 0.029100482531036396, 0.029100482531036396, 0.011035573908655241, 0.9821660778703164, 0.011035573908655241, 0.9864018787576447, 0.07948485574536081, 0.02649495191512027, 0.9008283651140891, 0.9156857791448033, 0.03815357413103347, 0.9181570217822391, 0.9550120553517264, 0.11470528390271804, 0.819323456447986, 0.06554587651583887, 0.951281492401582, 0.9335329942675983, 0.6443365580081285, 0.1392422222814176, 0.19657725498553075, 0.021841917220614526, 0.5613492087404758, 0.32822057560235474, 0.09509194246423361, 0.015337410074876389, 0.4530100188140945, 0.3985125729417222, 0.07834007844153514, 0.0715278977074886, 0.512240878396367, 0.31783620767967347, 0.0462868263611175, 0.12343153696298, 0.7310242269474478, 0.048319298582880345, 0.21354012599530992, 0.0062347482042426254, 0.9859894130341265, 0.9182805026806418, 0.12333226074868196, 0.828088036455436, 0.052856683178006555, 0.9714412200473208, 0.9880036621372084, 0.9748128985318896, 0.021424459308393175, 0.3531272244459151, 0.6194198855034904, 0.005788970892555985, 0.017366912677667955, 0.2651270312038212, 0.44740186515644825, 0.28169747065406, 0.28854887225756803, 0.6348075189666497, 0.6958578500801651, 0.13254435239622192, 0.02485206607429161, 0.14911239644574967, 0.9839505198050912, 0.6671106191803232, 0.22133109327945302, 0.09040284091695969, 0.021821375393748888, 0.9197113979727319, 0.051814726646351096, 0.032384204153969434, 0.52593645421072, 0.21857099395770183, 0.12977652766238545, 0.12294618410120728, 0.07259346175583273, 0.8953193616552703, 0.024197820585277575, 0.6703616794495103, 0.12051445922687826, 0.045192922210079346, 0.1581752277352777, 0.8926178102613769, 0.7931663108090762, 0.16152397460795515, 0.8076198730397757, 0.9850567468654967, 0.05812396829329928, 0.7071749475684745, 0.08718595243994892, 0.1453099207332482, 0.6950475189594915, 0.29864276826197805, 0.005356820955371803, 0.0026784104776859017, 0.9892731400902733, 0.13675564009759197, 0.7222407242654076, 0.05555697878964674, 0.08547227506099499, 0.447584567000544, 0.2848265426367098, 0.13563168696986183, 0.13563168696986183, 0.11606650259510493, 0.3270965073134775, 0.5592295125036874, 0.8862591597011096, 0.039215007066420775, 0.06274401130627325, 0.01568600282656831, 0.10922421563588997, 0.8464876711781473, 0.03640807187862999, 0.3586674210144403, 0.5643253459080414, 0.06745579936510115, 0.006581053596595235, 0.959680052567889, 0.35455289229516684, 0.4915046532675489, 0.10043129137974684, 0.05478070438895282, 0.8870825892281863, 0.41592408830533817, 0.08034897160444032, 0.4962730599097785, 0.004726410094378843, 0.057152307841949614, 0.9334876947518437, 0.4011091110442696, 0.4799596200529722, 0.058280811006432336, 0.06170909400681071, 0.4568230889130118, 0.4265276659135451, 0.06298258991994404, 0.05421286220957208, 0.9810761186548608, 0.009618393320145694, 0.9594018846776277, 0.2820368733749746, 0.7159397554903201, 0.9288320355003025, 0.03843442905518493, 0.019217214527592466, 0.01281147635172831, 0.7918824626679501, 0.1553693439411801, 0.010023828641366458, 0.04510722888614906, 0.04736241548041533, 0.8491404489703034, 0.033830296771725235, 0.07104362322062299, 0.3636986414187355, 0.24130006017204567, 0.39167545998940745, 0.003497102321333995, 0.11059372462887469, 0.7741560724021228, 0.9732885130737937, 0.4586180560444523, 0.11931526661319085, 0.41573913210533686, 0.007457204163324428, 0.9635578910493925, 0.028339937972040954, 0.9781628378357128, 0.019962506894606383, 0.6170006747714509, 0.279634808741447, 0.09020477701337001, 0.014432764322139201, 0.3510520221166361, 0.059612607529240094, 0.5828788291747921, 0.006623623058804455, 0.38789287649751897, 0.05171905019966919, 0.5430500270965266, 0.01939464382487595, 0.7931898828738319, 0.0782438697185069, 0.8606825669035759, 0.03912193485925345, 0.9155549285663528, 0.11962211039954618, 0.1932357167992669, 0.6349173551975913, 0.055210204799790545, 0.4020870622100323, 0.3704945073221012, 0.13785842132915394, 0.08616151333072121, 0.017675008580390072, 0.05302502574117022, 0.9191004461802837, 0.017675008580390072, 0.9251932474076316, 0.5150616478536163, 0.21208420793972435, 0.1731299656650811, 0.09954973025742163, 0.18055847254473645, 0.022569809068092056, 0.812513126451314, 0.3010142098771874, 0.6912178152735414, 0.26369808035773845, 0.331506158164014, 0.36164308163346987, 0.03767115433681978, 0.793170095578475, 0.9432203853996882, 0.9563553225761271, 0.9381065160909294, 0.9880345334594465, 0.9666313798345532, 0.9757551044839139, 0.5228839230753484, 0.46478570940030967, 0.011619642735007742, 0.2928629252146113, 0.14643146260730566, 0.5857258504292226, 0.08677088589294155, 0.26031265767882467, 0.6507816441970616, 0.7931820079414637, 0.3643838057359492, 0.4780922273840468, 0.13179839781938588, 0.025842823101840367, 0.9693494003963571, 0.9453116420690332, 0.6732349117335252, 0.23073309181477625, 0.06005381841754451, 0.03792872742160706, 0.9049602943401189], \"Term\": [\"000\", \"000\", \"11g\", \"19\", \"account\", \"account\", \"account\", \"accountant\", \"accounting\", \"accounting\", \"accounting\", \"accrual\", \"acquisition\", \"affirmative\", \"agriculture\", \"agriculture\", \"aide\", \"alza\", \"analysis\", \"analysis\", \"analysis\", \"analysis\", \"animal\", \"animal\", \"animal\", \"annual\", \"annual\", \"annual\", \"annual\", \"answer\", \"apartment\", \"apos\", \"applicant\", \"applicant\", \"applicant\", \"application\", \"application\", \"application\", \"application\", \"appointment\", \"appointment\", \"appropriate\", \"appropriate\", \"appropriate\", \"appropriate\", \"ar\", \"artist\", \"asp\", \"assisted\", \"assisted\", \"assisted\", \"assisted\", \"backup\", \"backup\", \"badge\", \"balance\", \"balance\", \"balance\", \"bank\", \"bank\", \"bank\", \"battery\", \"beef\", \"brand\", \"brand\", \"budget\", \"budget\", \"budget\", \"budget\", \"business\", \"business\", \"business\", \"business\", \"campaign\", \"campaign\", \"campaign\", \"care\", \"care\", \"care\", \"cashier\", \"ceo\", \"chef\", \"chef\", \"chef\", \"chicago\", \"chicago\", \"child\", \"child\", \"cisco\", \"cisco\", \"city\", \"city\", \"city\", \"city\", \"classroom\", \"classroom\", \"classroom\", \"clean\", \"clean\", \"clean\", \"clean\", \"cleaned\", \"cleaning\", \"client\", \"client\", \"client\", \"client\", \"commerce\", \"communication\", \"communication\", \"communication\", \"communication\", \"company\", \"company\", \"company\", \"company\", \"complaint\", \"complaint\", \"comptia\", \"concern\", \"concern\", \"configuration\", \"configured\", \"configuring\", \"connectivity\", \"corporate\", \"corporate\", \"corporate\", \"corporate\", \"correctly\", \"culinary\", \"culinary\", \"current\", \"current\", \"current\", \"current\", \"customer\", \"customer\", \"customer\", \"customer\", \"daily\", \"daily\", \"daily\", \"daily\", \"data\", \"data\", \"data\", \"data\", \"database\", \"database\", \"database\", \"database\", \"dealership\", \"design\", \"design\", \"design\", \"design\", \"desktop\", \"desktop\", \"desktop\", \"dessert\", \"development\", \"development\", \"development\", \"development\", \"director\", \"director\", \"director\", \"display\", \"display\", \"drilling\", \"drilling\", \"education\", \"education\", \"education\", \"education\", \"eeo\", \"effect\", \"effect\", \"effect\", \"electrical\", \"electrical\", \"electrical\", \"electrical\", \"employee\", \"employee\", \"employee\", \"employee\", \"employment\", \"employment\", \"employment\", \"employment\", \"engineer\", \"engineer\", \"engineering\", \"engineering\", \"engineering\", \"entity\", \"entrance\", \"equipment\", \"equipment\", \"equipment\", \"equipment\", \"eruvbetine\", \"event\", \"event\", \"event\", \"event\", \"executive\", \"executive\", \"executive\", \"exercise\", \"exercise\", \"exit\", \"exit\", \"experience\", \"experience\", \"experience\", \"experience\", \"experiment\", \"extension\", \"extension\", \"extension\", \"fafiolu\", \"farm\", \"farmer\", \"feed\", \"feed\", \"finalisation\", \"finance\", \"finance\", \"financial\", \"financial\", \"financials\", \"firewall\", \"fitness\", \"fitness\", \"fitness\", \"fix\", \"food\", \"food\", \"food\", \"forecast\", \"forecast\", \"forecasting\", \"forklift\", \"friendly\", \"friendly\", \"greeted\", \"guest\", \"guest\", \"guest\", \"h\", \"h\", \"h\", \"hardware\", \"health\", \"health\", \"health\", \"health\", \"high\", \"high\", \"high\", \"high\", \"hire\", \"hire\", \"hire\", \"hire\", \"hiring\", \"hiring\", \"hiring\", \"hp\", \"hp\", \"hr\", \"hr\", \"hr\", \"human\", \"human\", \"human\", \"human\", \"hygiene\", \"information\", \"information\", \"information\", \"information\", \"infrastructure\", \"infrastructure\", \"infrastructure\", \"ink\", \"installation\", \"installation\", \"installation\", \"instructional\", \"instructor\", \"instructor\", \"instructor\", \"instructor\", \"ip\", \"ip\", \"item\", \"item\", \"item\", \"itil\", \"itil\", \"jamie\", \"job\", \"job\", \"job\", \"job\", \"lan\", \"laptop\", \"lead\", \"lead\", \"lead\", \"lead\", \"learning\", \"learning\", \"learning\", \"learning\", \"ledger\", \"lesson\", \"lesson\", \"lesson\", \"lesson\", \"linux\", \"linux\", \"livestock\", \"lytec\", \"maintained\", \"maintained\", \"maintained\", \"maintained\", \"makeup\", \"managed\", \"managed\", \"managed\", \"managed\", \"management\", \"management\", \"management\", \"management\", \"manager\", \"manager\", \"manager\", \"manager\", \"manufacturing\", \"manufacturing\", \"market\", \"market\", \"market\", \"market\", \"marketing\", \"marketing\", \"marketing\", \"meal\", \"meal\", \"mechanical\", \"mechanical\", \"medical\", \"medical\", \"medical\", \"medical\", \"mentees\", \"menu\", \"menu\", \"menu\", \"merchandise\", \"microsoft\", \"microsoft\", \"microsoft\", \"million\", \"million\", \"monthly\", \"monthly\", \"monthly\", \"monthly\", \"name\", \"name\", \"name\", \"name\", \"need\", \"need\", \"need\", \"need\", \"negotiating\", \"network\", \"network\", \"network\", \"new\", \"new\", \"new\", \"new\", \"news\", \"news\", \"nigeria\", \"nutrition\", \"nutrition\", \"nutrition\", \"o\", \"o\", \"o\", \"observed\", \"oem\", \"office\", \"office\", \"office\", \"office\", \"ogunade\", \"olorunsola\", \"oracle\", \"oracle\", \"order\", \"order\", \"order\", \"order\", \"orderly\", \"osho\", \"oso\", \"parent\", \"parent\", \"partner\", \"partner\", \"partner\", \"patient\", \"patient\", \"patient\", \"payable\", \"pc\", \"pc\", \"pc\", \"pharmacy\", \"pharmacy\", \"plc\", \"pmo\", \"positive\", \"positive\", \"positive\", \"pr\", \"prevent\", \"process\", \"process\", \"process\", \"process\", \"product\", \"product\", \"product\", \"product\", \"professional\", \"professional\", \"professional\", \"professional\", \"program\", \"program\", \"program\", \"program\", \"project\", \"project\", \"project\", \"project\", \"promptly\", \"query\", \"question\", \"question\", \"question\", \"quickbooks\", \"receivable\", \"reconciliation\", \"reconciliation\", \"record\", \"record\", \"record\", \"record\", \"recruiting\", \"recruiting\", \"recruiting\", \"recruitment\", \"recruitment\", \"relation\", \"relation\", \"relation\", \"relation\", \"remote\", \"report\", \"report\", \"report\", \"report\", \"reporting\", \"reporting\", \"reporting\", \"research\", \"research\", \"research\", \"research\", \"resident\", \"resident\", \"resident\", \"resource\", \"resource\", \"resource\", \"resource\", \"routing\", \"ruminant\", \"rush\", \"rush\", \"safe\", \"safety\", \"safety\", \"safety\", \"safety\", \"sale\", \"sale\", \"sale\", \"sale\", \"saving\", \"school\", \"school\", \"school\", \"school\", \"science\", \"science\", \"science\", \"science\", \"security\", \"security\", \"security\", \"senior\", \"senior\", \"senior\", \"senior\", \"server\", \"server\", \"server\", \"service\", \"service\", \"service\", \"service\", \"shelf\", \"skill\", \"skill\", \"skill\", \"skill\", \"sobayo\", \"software\", \"software\", \"software\", \"software\", \"sql\", \"sql\", \"staff\", \"staff\", \"staff\", \"staff\", \"state\", \"state\", \"state\", \"state\", \"statement\", \"statement\", \"stocked\", \"store\", \"store\", \"strategic\", \"strategic\", \"strategic\", \"strategic\", \"strategy\", \"strategy\", \"strategy\", \"strategy\", \"student\", \"student\", \"student\", \"student\", \"support\", \"support\", \"support\", \"support\", \"surgical\", \"surgical\", \"sushi\", \"system\", \"system\", \"system\", \"system\", \"tax\", \"tax\", \"teacher\", \"teacher\", \"team\", \"team\", \"team\", \"team\", \"technical\", \"technical\", \"technical\", \"technical\", \"technology\", \"technology\", \"technology\", \"technology\", \"teen\", \"telephone\", \"telephone\", \"telephone\", \"teller\", \"test\", \"test\", \"test\", \"test\", \"training\", \"training\", \"training\", \"training\", \"troubleshooting\", \"troubleshooting\", \"troubleshooting\", \"troubleshooting\", \"truck\", \"university\", \"university\", \"university\", \"university\", \"upgrade\", \"upgrade\", \"upgrade\", \"user\", \"user\", \"using\", \"using\", \"using\", \"using\", \"ut\", \"variance\", \"visitor\", \"vmware\", \"vp\", \"vpn\", \"wan\", \"web\", \"web\", \"web\", \"wellness\", \"wellness\", \"wellness\", \"window\", \"window\", \"window\", \"wine\", \"work\", \"work\", \"work\", \"work\", \"workforce\", \"xp\", \"year\", \"year\", \"year\", \"year\", \"yoga\"]}, \"R\": 30, \"lambda.step\": 0.01, \"plot.opts\": {\"xlab\": \"PC1\", \"ylab\": \"PC2\"}, \"topic.order\": [2, 1, 4, 3]};\n",
       "\n",
       "function LDAvis_load_lib(url, callback){\n",
       "  var s = document.createElement('script');\n",
       "  s.src = url;\n",
       "  s.async = true;\n",
       "  s.onreadystatechange = s.onload = callback;\n",
       "  s.onerror = function(){console.warn(\"failed to load library \" + url);};\n",
       "  document.getElementsByTagName(\"head\")[0].appendChild(s);\n",
       "}\n",
       "\n",
       "if(typeof(LDAvis) !== \"undefined\"){\n",
       "   // already loaded: just create the visualization\n",
       "   !function(LDAvis){\n",
       "       new LDAvis(\"#\" + \"ldavis_el29616116662652483006712534\", ldavis_el29616116662652483006712534_data);\n",
       "   }(LDAvis);\n",
       "}else if(typeof define === \"function\" && define.amd){\n",
       "   // require.js is available: use it to load d3/LDAvis\n",
       "   require.config({paths: {d3: \"https://d3js.org/d3.v5\"}});\n",
       "   require([\"d3\"], function(d3){\n",
       "      window.d3 = d3;\n",
       "      LDAvis_load_lib(\"https://cdn.jsdelivr.net/gh/bmabey/pyLDAvis@3.4.0/pyLDAvis/js/ldavis.v3.0.0.js\", function(){\n",
       "        new LDAvis(\"#\" + \"ldavis_el29616116662652483006712534\", ldavis_el29616116662652483006712534_data);\n",
       "      });\n",
       "    });\n",
       "}else{\n",
       "    // require.js not available: dynamically load d3 & LDAvis\n",
       "    LDAvis_load_lib(\"https://d3js.org/d3.v5.js\", function(){\n",
       "         LDAvis_load_lib(\"https://cdn.jsdelivr.net/gh/bmabey/pyLDAvis@3.4.0/pyLDAvis/js/ldavis.v3.0.0.js\", function(){\n",
       "                 new LDAvis(\"#\" + \"ldavis_el29616116662652483006712534\", ldavis_el29616116662652483006712534_data);\n",
       "            })\n",
       "         });\n",
       "}\n",
       "</script>"
      ],
      "text/plain": [
       "PreparedData(topic_coordinates=              x         y  topics  cluster       Freq\n",
       "topic                                                \n",
       "1      0.010213 -0.082965       1        1  47.412199\n",
       "0     -0.053898 -0.064733       2        1  33.771149\n",
       "3      0.145801  0.050181       3        1  12.955327\n",
       "2     -0.102117  0.097517       4        1   5.861324, topic_info=            Term         Freq        Total Category  logprob  loglift\n",
       "351       system   536.000000   536.000000  Default  30.0000  30.0000\n",
       "275      project   641.000000   641.000000  Default  29.0000  29.0000\n",
       "340        state  1254.000000  1254.000000  Default  28.0000  28.0000\n",
       "135     employee   271.000000   271.000000  Default  27.0000  27.0000\n",
       "1373     network   152.000000   152.000000  Default  26.0000  26.0000\n",
       "...          ...          ...          ...      ...      ...      ...\n",
       "308     research    18.438807   146.405520   Topic4  -5.9573   0.7649\n",
       "955        event    19.164456   207.445120   Topic4  -5.9187   0.4550\n",
       "147   experience    20.461587   446.053411   Topic4  -5.8532  -0.2451\n",
       "533     relation    17.823687   120.714310   Topic4  -5.9912   0.9239\n",
       "338        staff    17.915532   291.691205   Topic4  -5.9861   0.0468\n",
       "\n",
       "[343 rows x 6 columns], token_table=      Topic      Freq     Term\n",
       "term                          \n",
       "1         1  0.909106      000\n",
       "1         2  0.083733      000\n",
       "2244      3  0.939058      11g\n",
       "5008      4  0.793192       19\n",
       "15        1  0.886824  account\n",
       "...     ...       ...      ...\n",
       "384       1  0.673235     year\n",
       "384       2  0.230733     year\n",
       "384       3  0.060054     year\n",
       "384       4  0.037929     year\n",
       "6261      4  0.904960     yoga\n",
       "\n",
       "[659 rows x 3 columns], R=30, lambda_step=0.01, plot_opts={'xlab': 'PC1', 'ylab': 'PC2'}, topic_order=[2, 1, 4, 3])"
      ]
     },
     "execution_count": 56,
     "metadata": {},
     "output_type": "execute_result"
    }
   ],
   "source": [
    "pyLDAvis.enable_notebook()\n",
    "pyLDAvis.gensim_models.prepare(ldamodel, bow, dictionary)"
   ]
  },
  {
   "cell_type": "markdown",
   "metadata": {},
   "source": [
    "TODO:\n",
    "- go through other notebooks [here](https://deepnote.com/@abid/spaCy-Resume-Analysis-81ba1e4b-7fa8-45fe-ac7a-0b7bf3da7826)\n",
    "- finetune this into a useful resume parser usecase"
   ]
  },
  {
   "cell_type": "code",
   "execution_count": null,
   "metadata": {},
   "outputs": [],
   "source": []
  }
 ],
 "metadata": {
  "kernelspec": {
   "display_name": "nlp",
   "language": "python",
   "name": "python3"
  },
  "language_info": {
   "codemirror_mode": {
    "name": "ipython",
    "version": 3
   },
   "file_extension": ".py",
   "mimetype": "text/x-python",
   "name": "python",
   "nbconvert_exporter": "python",
   "pygments_lexer": "ipython3",
   "version": "3.9.18"
  }
 },
 "nbformat": 4,
 "nbformat_minor": 2
}
